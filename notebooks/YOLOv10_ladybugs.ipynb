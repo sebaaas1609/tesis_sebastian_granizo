{
  "cells": [
    {
      "cell_type": "code",
      "execution_count": null,
      "metadata": {
        "id": "9EQWf4Mvq5P2"
      },
      "outputs": [],
      "source": [
        "%%capture\n",
        "%pip install ultralytics"
      ]
    },
    {
      "cell_type": "code",
      "execution_count": 3,
      "metadata": {
        "colab": {
          "base_uri": "https://localhost:8080/"
        },
        "id": "7wPSKmu7xtrA",
        "outputId": "9eb3cb30-bb91-4ba4-d423-5e6d9b0dc8d7"
      },
      "outputs": [
        {
          "name": "stdout",
          "output_type": "stream",
          "text": [
            "Creating new Ultralytics Settings v0.0.6 file ✅ \n",
            "View Ultralytics Settings with 'yolo settings' or at '/root/.config/Ultralytics/settings.json'\n",
            "Update Settings with 'yolo settings key=value', i.e. 'yolo settings runs_dir=path/to/dir'. For help see https://docs.ultralytics.com/quickstart/#ultralytics-settings.\n"
          ]
        }
      ],
      "source": [
        "from ultralytics import YOLO"
      ]
    },
    {
      "cell_type": "code",
      "execution_count": 4,
      "metadata": {
        "id": "uX-wfPULA7jC"
      },
      "outputs": [],
      "source": [
        "yolo = YOLO('/content/drive/MyDrive/Colab Notebooks/personal-tests/tesis/yolov10s.pt')"
      ]
    },
    {
      "cell_type": "code",
      "execution_count": 2,
      "metadata": {
        "id": "enFMlde5BebB"
      },
      "outputs": [],
      "source": [
        "ROOT_DIR = '/content/drive/MyDrive/Colab Notebooks/personal-tests/tesis'"
      ]
    },
    {
      "cell_type": "code",
      "execution_count": null,
      "metadata": {
        "id": "bqv_TAG7m1Qg"
      },
      "outputs": [],
      "source": [
        "yolo_finetune = yolo.train()"
      ]
    },
    {
      "cell_type": "code",
      "execution_count": 5,
      "metadata": {
        "id": "HExmf5-intsg"
      },
      "outputs": [],
      "source": [
        "import os"
      ]
    },
    {
      "cell_type": "code",
      "execution_count": null,
      "metadata": {
        "colab": {
          "base_uri": "https://localhost:8080/"
        },
        "id": "WZ__3Hk0nqKu",
        "outputId": "f0492365-d112-4caa-f81d-9f834929e23e"
      },
      "outputs": [
        {
          "name": "stdout",
          "output_type": "stream",
          "text": [
            "Ultralytics 8.3.92 🚀 Python-3.11.11 torch-2.6.0+cu124 CUDA:0 (Tesla T4, 15095MiB)\n",
            "\u001b[34m\u001b[1mengine/trainer: \u001b[0mtask=detect, mode=train, model=yolov10n.yaml, data=/content/drive/MyDrive/Colab Notebooks/personal-tests/tesis/drive_config.yaml, epochs=100, time=None, patience=100, batch=16, imgsz=640, save=True, save_period=-1, cache=False, device=None, workers=8, project=None, name=train, exist_ok=False, pretrained=True, optimizer=auto, verbose=True, seed=0, deterministic=True, single_cls=False, rect=False, cos_lr=False, close_mosaic=10, resume=False, amp=True, fraction=1.0, profile=False, freeze=None, multi_scale=False, overlap_mask=True, mask_ratio=4, dropout=0.0, val=True, split=val, save_json=False, save_hybrid=False, conf=None, iou=0.7, max_det=300, half=False, dnn=False, plots=True, source=None, vid_stride=1, stream_buffer=False, visualize=False, augment=False, agnostic_nms=False, classes=None, retina_masks=False, embed=None, show=False, save_frames=False, save_txt=False, save_conf=False, save_crop=False, show_labels=True, show_conf=True, show_boxes=True, line_width=None, format=torchscript, keras=False, optimize=False, int8=False, dynamic=False, simplify=True, opset=None, workspace=None, nms=False, lr0=0.01, lrf=0.01, momentum=0.937, weight_decay=0.0005, warmup_epochs=3.0, warmup_momentum=0.8, warmup_bias_lr=0.1, box=7.5, cls=0.5, dfl=1.5, pose=12.0, kobj=1.0, nbs=64, hsv_h=0.015, hsv_s=0.7, hsv_v=0.4, degrees=0.0, translate=0.1, scale=0.5, shear=0.0, perspective=0.0, flipud=0.0, fliplr=0.5, bgr=0.0, mosaic=1.0, mixup=0.0, copy_paste=0.0, copy_paste_mode=flip, auto_augment=randaugment, erasing=0.4, crop_fraction=1.0, cfg=None, tracker=botsort.yaml, save_dir=runs/detect/train\n",
            "Downloading https://ultralytics.com/assets/Arial.ttf to '/root/.config/Ultralytics/Arial.ttf'...\n"
          ]
        },
        {
          "name": "stderr",
          "output_type": "stream",
          "text": [
            "100%|██████████| 755k/755k [00:00<00:00, 3.53MB/s]\n"
          ]
        },
        {
          "name": "stdout",
          "output_type": "stream",
          "text": [
            "Overriding model.yaml nc=80 with nc=1\n",
            "\n",
            "                   from  n    params  module                                       arguments                     \n",
            "  0                  -1  1       464  ultralytics.nn.modules.conv.Conv             [3, 16, 3, 2]                 \n",
            "  1                  -1  1      4672  ultralytics.nn.modules.conv.Conv             [16, 32, 3, 2]                \n",
            "  2                  -1  1      7360  ultralytics.nn.modules.block.C2f             [32, 32, 1, True]             \n",
            "  3                  -1  1     18560  ultralytics.nn.modules.conv.Conv             [32, 64, 3, 2]                \n",
            "  4                  -1  2     49664  ultralytics.nn.modules.block.C2f             [64, 64, 2, True]             \n",
            "  5                  -1  1      9856  ultralytics.nn.modules.block.SCDown          [64, 128, 3, 2]               \n",
            "  6                  -1  2    197632  ultralytics.nn.modules.block.C2f             [128, 128, 2, True]           \n",
            "  7                  -1  1     36096  ultralytics.nn.modules.block.SCDown          [128, 256, 3, 2]              \n",
            "  8                  -1  1    460288  ultralytics.nn.modules.block.C2f             [256, 256, 1, True]           \n",
            "  9                  -1  1    164608  ultralytics.nn.modules.block.SPPF            [256, 256, 5]                 \n",
            " 10                  -1  1    249728  ultralytics.nn.modules.block.PSA             [256, 256]                    \n",
            " 11                  -1  1         0  torch.nn.modules.upsampling.Upsample         [None, 2, 'nearest']          \n",
            " 12             [-1, 6]  1         0  ultralytics.nn.modules.conv.Concat           [1]                           \n",
            " 13                  -1  1    148224  ultralytics.nn.modules.block.C2f             [384, 128, 1]                 \n",
            " 14                  -1  1         0  torch.nn.modules.upsampling.Upsample         [None, 2, 'nearest']          \n",
            " 15             [-1, 4]  1         0  ultralytics.nn.modules.conv.Concat           [1]                           \n",
            " 16                  -1  1     37248  ultralytics.nn.modules.block.C2f             [192, 64, 1]                  \n",
            " 17                  -1  1     36992  ultralytics.nn.modules.conv.Conv             [64, 64, 3, 2]                \n",
            " 18            [-1, 13]  1         0  ultralytics.nn.modules.conv.Concat           [1]                           \n",
            " 19                  -1  1    123648  ultralytics.nn.modules.block.C2f             [192, 128, 1]                 \n",
            " 20                  -1  1     18048  ultralytics.nn.modules.block.SCDown          [128, 128, 3, 2]              \n",
            " 21            [-1, 10]  1         0  ultralytics.nn.modules.conv.Concat           [1]                           \n",
            " 22                  -1  1    282624  ultralytics.nn.modules.block.C2fCIB          [384, 256, 1, True, True]     \n",
            " 23        [16, 19, 22]  1    861718  ultralytics.nn.modules.head.v10Detect        [1, [64, 128, 256]]           \n",
            "YOLOv10n summary: 223 layers, 2,707,430 parameters, 2,707,414 gradients, 8.4 GFLOPs\n",
            "\n",
            "\u001b[34m\u001b[1mTensorBoard: \u001b[0mStart with 'tensorboard --logdir runs/detect/train', view at http://localhost:6006/\n",
            "Freezing layer 'model.23.dfl.conv.weight'\n",
            "\u001b[34m\u001b[1mAMP: \u001b[0mrunning Automatic Mixed Precision (AMP) checks...\n",
            "Downloading https://github.com/ultralytics/assets/releases/download/v8.3.0/yolo11n.pt to 'yolo11n.pt'...\n"
          ]
        },
        {
          "name": "stderr",
          "output_type": "stream",
          "text": [
            "100%|██████████| 5.35M/5.35M [00:00<00:00, 15.6MB/s]\n"
          ]
        },
        {
          "name": "stdout",
          "output_type": "stream",
          "text": [
            "\u001b[34m\u001b[1mAMP: \u001b[0mchecks passed ✅\n"
          ]
        },
        {
          "name": "stderr",
          "output_type": "stream",
          "text": [
            "\u001b[34m\u001b[1mtrain: \u001b[0mScanning /content/drive/MyDrive/Colab Notebooks/personal-tests/tesis/data/labels/train... 2898 images, 0 backgrounds, 1 corrupt: 100%|██████████| 2899/2899 [07:10<00:00,  6.74it/s]"
          ]
        },
        {
          "name": "stdout",
          "output_type": "stream",
          "text": [
            "\u001b[34m\u001b[1mtrain: \u001b[0mWARNING ⚠️ /content/drive/MyDrive/Colab Notebooks/personal-tests/tesis/data/images/train/29370796_45836254.jpeg: ignoring corrupt image/label: image file is truncated (3 bytes not processed)\n"
          ]
        },
        {
          "name": "stderr",
          "output_type": "stream",
          "text": [
            "\n"
          ]
        },
        {
          "name": "stdout",
          "output_type": "stream",
          "text": [
            "\u001b[34m\u001b[1mtrain: \u001b[0mNew cache created: /content/drive/MyDrive/Colab Notebooks/personal-tests/tesis/data/labels/train.cache\n",
            "\u001b[34m\u001b[1malbumentations: \u001b[0mBlur(p=0.01, blur_limit=(3, 7)), MedianBlur(p=0.01, blur_limit=(3, 7)), ToGray(p=0.01, num_output_channels=3, method='weighted_average'), CLAHE(p=0.01, clip_limit=(1.0, 4.0), tile_grid_size=(8, 8))\n"
          ]
        },
        {
          "name": "stderr",
          "output_type": "stream",
          "text": [
            "\u001b[34m\u001b[1mval: \u001b[0mScanning /content/drive/MyDrive/Colab Notebooks/personal-tests/tesis/data/labels/train.cache... 2898 images, 0 backgrounds, 1 corrupt: 100%|██████████| 2899/2899 [00:00<?, ?it/s]"
          ]
        },
        {
          "name": "stdout",
          "output_type": "stream",
          "text": [
            "\u001b[34m\u001b[1mtrain: \u001b[0mWARNING ⚠️ /content/drive/MyDrive/Colab Notebooks/personal-tests/tesis/data/images/train/29370796_45836254.jpeg: ignoring corrupt image/label: image file is truncated (3 bytes not processed)\n"
          ]
        },
        {
          "name": "stderr",
          "output_type": "stream",
          "text": [
            "\n"
          ]
        },
        {
          "name": "stdout",
          "output_type": "stream",
          "text": [
            "Plotting labels to runs/detect/train/labels.jpg... \n",
            "\u001b[34m\u001b[1moptimizer:\u001b[0m 'optimizer=auto' found, ignoring 'lr0=0.01' and 'momentum=0.937' and determining best 'optimizer', 'lr0' and 'momentum' automatically... \n",
            "\u001b[34m\u001b[1moptimizer:\u001b[0m AdamW(lr=0.002, momentum=0.9) with parameter groups 95 weight(decay=0.0), 108 weight(decay=0.0005), 107 bias(decay=0.0)\n",
            "\u001b[34m\u001b[1mTensorBoard: \u001b[0mmodel graph visualization added ✅\n",
            "Image sizes 640 train, 640 val\n",
            "Using 8 dataloader workers\n",
            "Logging results to \u001b[1mruns/detect/train\u001b[0m\n",
            "Starting training for 100 epochs...\n",
            "\n",
            "      Epoch    GPU_mem   box_loss   cls_loss   dfl_loss  Instances       Size\n"
          ]
        },
        {
          "name": "stderr",
          "output_type": "stream",
          "text": [
            "      1/100      3.04G      5.263      11.14      7.311          4        640: 100%|██████████| 182/182 [00:48<00:00,  3.79it/s]\n",
            "                 Class     Images  Instances      Box(P          R      mAP50  mAP50-95): 100%|██████████| 91/91 [00:19<00:00,  4.59it/s]\n"
          ]
        },
        {
          "name": "stdout",
          "output_type": "stream",
          "text": [
            "                   all       2898       3318      0.234      0.231      0.167     0.0585\n",
            "\n",
            "      Epoch    GPU_mem   box_loss   cls_loss   dfl_loss  Instances       Size\n"
          ]
        },
        {
          "name": "stderr",
          "output_type": "stream",
          "text": [
            "      2/100      4.24G      4.343      5.387      5.114          5        640: 100%|██████████| 182/182 [00:38<00:00,  4.67it/s]\n",
            "                 Class     Images  Instances      Box(P          R      mAP50  mAP50-95): 100%|██████████| 91/91 [00:18<00:00,  5.03it/s]\n"
          ]
        },
        {
          "name": "stdout",
          "output_type": "stream",
          "text": [
            "                   all       2898       3318        0.4      0.234      0.261      0.126\n",
            "\n",
            "      Epoch    GPU_mem   box_loss   cls_loss   dfl_loss  Instances       Size\n"
          ]
        },
        {
          "name": "stderr",
          "output_type": "stream",
          "text": [
            "      3/100      4.24G      3.875      4.026      4.573          5        640: 100%|██████████| 182/182 [00:38<00:00,  4.76it/s]\n",
            "                 Class     Images  Instances      Box(P          R      mAP50  mAP50-95): 100%|██████████| 91/91 [00:17<00:00,  5.13it/s]"
          ]
        },
        {
          "name": "stdout",
          "output_type": "stream",
          "text": [
            "                   all       2898       3318      0.478      0.422      0.415      0.184\n"
          ]
        },
        {
          "name": "stderr",
          "output_type": "stream",
          "text": [
            "\n"
          ]
        },
        {
          "name": "stdout",
          "output_type": "stream",
          "text": [
            "\n",
            "      Epoch    GPU_mem   box_loss   cls_loss   dfl_loss  Instances       Size\n"
          ]
        },
        {
          "name": "stderr",
          "output_type": "stream",
          "text": [
            "      4/100      4.24G      3.539      3.633      4.222          1        640: 100%|██████████| 182/182 [00:38<00:00,  4.79it/s]\n",
            "                 Class     Images  Instances      Box(P          R      mAP50  mAP50-95): 100%|██████████| 91/91 [00:17<00:00,  5.08it/s]\n"
          ]
        },
        {
          "name": "stdout",
          "output_type": "stream",
          "text": [
            "                   all       2898       3318      0.662      0.654      0.679      0.353\n",
            "\n",
            "      Epoch    GPU_mem   box_loss   cls_loss   dfl_loss  Instances       Size\n"
          ]
        },
        {
          "name": "stderr",
          "output_type": "stream",
          "text": [
            "      5/100      4.24G       3.41      3.342      4.029          4        640: 100%|██████████| 182/182 [00:38<00:00,  4.78it/s]\n",
            "                 Class     Images  Instances      Box(P          R      mAP50  mAP50-95): 100%|██████████| 91/91 [00:17<00:00,  5.14it/s]"
          ]
        },
        {
          "name": "stdout",
          "output_type": "stream",
          "text": [
            "                   all       2898       3318      0.738      0.674      0.735      0.407\n"
          ]
        },
        {
          "name": "stderr",
          "output_type": "stream",
          "text": [
            "\n"
          ]
        },
        {
          "name": "stdout",
          "output_type": "stream",
          "text": [
            "\n",
            "      Epoch    GPU_mem   box_loss   cls_loss   dfl_loss  Instances       Size\n"
          ]
        },
        {
          "name": "stderr",
          "output_type": "stream",
          "text": [
            "      6/100      4.25G      3.278       3.11      3.883         11        640: 100%|██████████| 182/182 [00:37<00:00,  4.80it/s]\n",
            "                 Class     Images  Instances      Box(P          R      mAP50  mAP50-95): 100%|██████████| 91/91 [00:17<00:00,  5.14it/s]"
          ]
        },
        {
          "name": "stdout",
          "output_type": "stream",
          "text": [
            "                   all       2898       3318      0.767      0.677      0.743       0.39\n"
          ]
        },
        {
          "name": "stderr",
          "output_type": "stream",
          "text": [
            "\n"
          ]
        },
        {
          "name": "stdout",
          "output_type": "stream",
          "text": [
            "\n",
            "      Epoch    GPU_mem   box_loss   cls_loss   dfl_loss  Instances       Size\n"
          ]
        },
        {
          "name": "stderr",
          "output_type": "stream",
          "text": [
            "      7/100      4.25G      3.244      3.066      3.814          5        640: 100%|██████████| 182/182 [00:38<00:00,  4.78it/s]\n",
            "                 Class     Images  Instances      Box(P          R      mAP50  mAP50-95): 100%|██████████| 91/91 [00:17<00:00,  5.17it/s]"
          ]
        },
        {
          "name": "stdout",
          "output_type": "stream",
          "text": [
            "                   all       2898       3318      0.759      0.692      0.758      0.415\n"
          ]
        },
        {
          "name": "stderr",
          "output_type": "stream",
          "text": [
            "\n"
          ]
        },
        {
          "name": "stdout",
          "output_type": "stream",
          "text": [
            "\n",
            "      Epoch    GPU_mem   box_loss   cls_loss   dfl_loss  Instances       Size\n"
          ]
        },
        {
          "name": "stderr",
          "output_type": "stream",
          "text": [
            "      8/100      4.25G      3.208      3.016      3.752          2        640: 100%|██████████| 182/182 [00:38<00:00,  4.78it/s]\n",
            "                 Class     Images  Instances      Box(P          R      mAP50  mAP50-95): 100%|██████████| 91/91 [00:17<00:00,  5.08it/s]"
          ]
        },
        {
          "name": "stdout",
          "output_type": "stream",
          "text": [
            "                   all       2898       3318       0.78      0.712      0.782      0.424\n"
          ]
        },
        {
          "name": "stderr",
          "output_type": "stream",
          "text": [
            "\n"
          ]
        },
        {
          "name": "stdout",
          "output_type": "stream",
          "text": [
            "\n",
            "      Epoch    GPU_mem   box_loss   cls_loss   dfl_loss  Instances       Size\n"
          ]
        },
        {
          "name": "stderr",
          "output_type": "stream",
          "text": [
            "      9/100      4.25G      3.156      2.854      3.723          2        640: 100%|██████████| 182/182 [00:38<00:00,  4.78it/s]\n",
            "                 Class     Images  Instances      Box(P          R      mAP50  mAP50-95): 100%|██████████| 91/91 [00:17<00:00,  5.15it/s]"
          ]
        },
        {
          "name": "stdout",
          "output_type": "stream",
          "text": [
            "                   all       2898       3318      0.766      0.697      0.774      0.436\n"
          ]
        },
        {
          "name": "stderr",
          "output_type": "stream",
          "text": [
            "\n"
          ]
        },
        {
          "name": "stdout",
          "output_type": "stream",
          "text": [
            "\n",
            "      Epoch    GPU_mem   box_loss   cls_loss   dfl_loss  Instances       Size\n"
          ]
        },
        {
          "name": "stderr",
          "output_type": "stream",
          "text": [
            "     10/100      4.25G      3.124      2.847      3.701          7        640: 100%|██████████| 182/182 [00:37<00:00,  4.80it/s]\n",
            "                 Class     Images  Instances      Box(P          R      mAP50  mAP50-95): 100%|██████████| 91/91 [00:17<00:00,  5.13it/s]"
          ]
        },
        {
          "name": "stdout",
          "output_type": "stream",
          "text": [
            "                   all       2898       3318      0.785      0.707      0.782      0.429\n"
          ]
        },
        {
          "name": "stderr",
          "output_type": "stream",
          "text": [
            "\n"
          ]
        },
        {
          "name": "stdout",
          "output_type": "stream",
          "text": [
            "\n",
            "      Epoch    GPU_mem   box_loss   cls_loss   dfl_loss  Instances       Size\n"
          ]
        },
        {
          "name": "stderr",
          "output_type": "stream",
          "text": [
            "     11/100      4.25G      3.123      2.802       3.64          6        640: 100%|██████████| 182/182 [00:38<00:00,  4.73it/s]\n",
            "                 Class     Images  Instances      Box(P          R      mAP50  mAP50-95): 100%|██████████| 91/91 [00:17<00:00,  5.11it/s]"
          ]
        },
        {
          "name": "stdout",
          "output_type": "stream",
          "text": [
            "                   all       2898       3318      0.809      0.731       0.81      0.448\n"
          ]
        },
        {
          "name": "stderr",
          "output_type": "stream",
          "text": [
            "\n"
          ]
        },
        {
          "name": "stdout",
          "output_type": "stream",
          "text": [
            "\n",
            "      Epoch    GPU_mem   box_loss   cls_loss   dfl_loss  Instances       Size\n"
          ]
        },
        {
          "name": "stderr",
          "output_type": "stream",
          "text": [
            "     12/100      4.25G       3.05      2.693      3.591          6        640: 100%|██████████| 182/182 [00:38<00:00,  4.76it/s]\n",
            "                 Class     Images  Instances      Box(P          R      mAP50  mAP50-95): 100%|██████████| 91/91 [00:17<00:00,  5.20it/s]"
          ]
        },
        {
          "name": "stdout",
          "output_type": "stream",
          "text": [
            "                   all       2898       3318      0.756      0.701       0.77       0.43\n"
          ]
        },
        {
          "name": "stderr",
          "output_type": "stream",
          "text": [
            "\n"
          ]
        },
        {
          "name": "stdout",
          "output_type": "stream",
          "text": [
            "\n",
            "      Epoch    GPU_mem   box_loss   cls_loss   dfl_loss  Instances       Size\n"
          ]
        },
        {
          "name": "stderr",
          "output_type": "stream",
          "text": [
            "     13/100      4.25G      3.042      2.551      3.578          4        640: 100%|██████████| 182/182 [00:37<00:00,  4.84it/s]\n",
            "                 Class     Images  Instances      Box(P          R      mAP50  mAP50-95): 100%|██████████| 91/91 [00:17<00:00,  5.15it/s]"
          ]
        },
        {
          "name": "stdout",
          "output_type": "stream",
          "text": [
            "                   all       2898       3318      0.815       0.74      0.823      0.488\n"
          ]
        },
        {
          "name": "stderr",
          "output_type": "stream",
          "text": [
            "\n"
          ]
        },
        {
          "name": "stdout",
          "output_type": "stream",
          "text": [
            "\n",
            "      Epoch    GPU_mem   box_loss   cls_loss   dfl_loss  Instances       Size\n"
          ]
        },
        {
          "name": "stderr",
          "output_type": "stream",
          "text": [
            "     14/100      4.25G      3.071      2.587      3.585          5        640: 100%|██████████| 182/182 [00:37<00:00,  4.80it/s]\n",
            "                 Class     Images  Instances      Box(P          R      mAP50  mAP50-95): 100%|██████████| 91/91 [00:17<00:00,  5.22it/s]"
          ]
        },
        {
          "name": "stdout",
          "output_type": "stream",
          "text": [
            "                   all       2898       3318      0.826      0.742      0.833        0.5\n"
          ]
        },
        {
          "name": "stderr",
          "output_type": "stream",
          "text": [
            "\n"
          ]
        },
        {
          "name": "stdout",
          "output_type": "stream",
          "text": [
            "\n",
            "      Epoch    GPU_mem   box_loss   cls_loss   dfl_loss  Instances       Size\n"
          ]
        },
        {
          "name": "stderr",
          "output_type": "stream",
          "text": [
            "     15/100      4.25G      3.025      2.513      3.525          2        640: 100%|██████████| 182/182 [00:37<00:00,  4.83it/s]\n",
            "                 Class     Images  Instances      Box(P          R      mAP50  mAP50-95): 100%|██████████| 91/91 [00:17<00:00,  5.18it/s]"
          ]
        },
        {
          "name": "stdout",
          "output_type": "stream",
          "text": [
            "                   all       2898       3318       0.83      0.747      0.834      0.476\n"
          ]
        },
        {
          "name": "stderr",
          "output_type": "stream",
          "text": [
            "\n"
          ]
        },
        {
          "name": "stdout",
          "output_type": "stream",
          "text": [
            "\n",
            "      Epoch    GPU_mem   box_loss   cls_loss   dfl_loss  Instances       Size\n"
          ]
        },
        {
          "name": "stderr",
          "output_type": "stream",
          "text": [
            "     16/100      4.25G      2.973      2.515      3.517          2        640: 100%|██████████| 182/182 [00:37<00:00,  4.81it/s]\n",
            "                 Class     Images  Instances      Box(P          R      mAP50  mAP50-95): 100%|██████████| 91/91 [00:17<00:00,  5.17it/s]"
          ]
        },
        {
          "name": "stdout",
          "output_type": "stream",
          "text": [
            "                   all       2898       3318      0.811      0.784      0.838      0.495\n"
          ]
        },
        {
          "name": "stderr",
          "output_type": "stream",
          "text": [
            "\n"
          ]
        },
        {
          "name": "stdout",
          "output_type": "stream",
          "text": [
            "\n",
            "      Epoch    GPU_mem   box_loss   cls_loss   dfl_loss  Instances       Size\n"
          ]
        },
        {
          "name": "stderr",
          "output_type": "stream",
          "text": [
            "     17/100      4.25G      2.982      2.512      3.497          3        640: 100%|██████████| 182/182 [00:37<00:00,  4.80it/s]\n",
            "                 Class     Images  Instances      Box(P          R      mAP50  mAP50-95): 100%|██████████| 91/91 [00:17<00:00,  5.25it/s]"
          ]
        },
        {
          "name": "stdout",
          "output_type": "stream",
          "text": [
            "                   all       2898       3318      0.827      0.764      0.834      0.491\n"
          ]
        },
        {
          "name": "stderr",
          "output_type": "stream",
          "text": [
            "\n"
          ]
        },
        {
          "name": "stdout",
          "output_type": "stream",
          "text": [
            "\n",
            "      Epoch    GPU_mem   box_loss   cls_loss   dfl_loss  Instances       Size\n"
          ]
        },
        {
          "name": "stderr",
          "output_type": "stream",
          "text": [
            "     18/100      4.25G      2.966       2.51      3.462          5        640: 100%|██████████| 182/182 [00:37<00:00,  4.80it/s]\n",
            "                 Class     Images  Instances      Box(P          R      mAP50  mAP50-95): 100%|██████████| 91/91 [00:17<00:00,  5.21it/s]"
          ]
        },
        {
          "name": "stdout",
          "output_type": "stream",
          "text": [
            "                   all       2898       3318      0.842      0.771      0.844      0.505\n"
          ]
        },
        {
          "name": "stderr",
          "output_type": "stream",
          "text": [
            "\n"
          ]
        },
        {
          "name": "stdout",
          "output_type": "stream",
          "text": [
            "\n",
            "      Epoch    GPU_mem   box_loss   cls_loss   dfl_loss  Instances       Size\n"
          ]
        },
        {
          "name": "stderr",
          "output_type": "stream",
          "text": [
            "     19/100      4.25G      2.942       2.44      3.477          2        640: 100%|██████████| 182/182 [00:37<00:00,  4.82it/s]\n",
            "                 Class     Images  Instances      Box(P          R      mAP50  mAP50-95): 100%|██████████| 91/91 [00:17<00:00,  5.25it/s]"
          ]
        },
        {
          "name": "stdout",
          "output_type": "stream",
          "text": [
            "                   all       2898       3318      0.852      0.781      0.851      0.508\n"
          ]
        },
        {
          "name": "stderr",
          "output_type": "stream",
          "text": [
            "\n"
          ]
        },
        {
          "name": "stdout",
          "output_type": "stream",
          "text": [
            "\n",
            "      Epoch    GPU_mem   box_loss   cls_loss   dfl_loss  Instances       Size\n"
          ]
        },
        {
          "name": "stderr",
          "output_type": "stream",
          "text": [
            "     20/100      4.25G      2.966      2.442      3.466          3        640: 100%|██████████| 182/182 [00:37<00:00,  4.81it/s]\n",
            "                 Class     Images  Instances      Box(P          R      mAP50  mAP50-95): 100%|██████████| 91/91 [00:17<00:00,  5.20it/s]"
          ]
        },
        {
          "name": "stdout",
          "output_type": "stream",
          "text": [
            "                   all       2898       3318      0.838      0.775      0.852      0.507\n"
          ]
        },
        {
          "name": "stderr",
          "output_type": "stream",
          "text": [
            "\n"
          ]
        },
        {
          "name": "stdout",
          "output_type": "stream",
          "text": [
            "\n",
            "      Epoch    GPU_mem   box_loss   cls_loss   dfl_loss  Instances       Size\n"
          ]
        },
        {
          "name": "stderr",
          "output_type": "stream",
          "text": [
            "     21/100      4.25G       2.91      2.352      3.405          3        640: 100%|██████████| 182/182 [00:37<00:00,  4.82it/s]\n",
            "                 Class     Images  Instances      Box(P          R      mAP50  mAP50-95): 100%|██████████| 91/91 [00:17<00:00,  5.22it/s]"
          ]
        },
        {
          "name": "stdout",
          "output_type": "stream",
          "text": [
            "                   all       2898       3318      0.842      0.785      0.858      0.521\n"
          ]
        },
        {
          "name": "stderr",
          "output_type": "stream",
          "text": [
            "\n"
          ]
        },
        {
          "name": "stdout",
          "output_type": "stream",
          "text": [
            "\n",
            "      Epoch    GPU_mem   box_loss   cls_loss   dfl_loss  Instances       Size\n"
          ]
        },
        {
          "name": "stderr",
          "output_type": "stream",
          "text": [
            "     22/100      4.25G      2.902      2.288      3.405          4        640: 100%|██████████| 182/182 [00:37<00:00,  4.83it/s]\n",
            "                 Class     Images  Instances      Box(P          R      mAP50  mAP50-95): 100%|██████████| 91/91 [00:17<00:00,  5.16it/s]"
          ]
        },
        {
          "name": "stdout",
          "output_type": "stream",
          "text": [
            "                   all       2898       3318      0.852      0.787      0.869      0.517\n"
          ]
        },
        {
          "name": "stderr",
          "output_type": "stream",
          "text": [
            "\n"
          ]
        },
        {
          "name": "stdout",
          "output_type": "stream",
          "text": [
            "\n",
            "      Epoch    GPU_mem   box_loss   cls_loss   dfl_loss  Instances       Size\n"
          ]
        },
        {
          "name": "stderr",
          "output_type": "stream",
          "text": [
            "     23/100      4.25G       2.89      2.291      3.381          2        640: 100%|██████████| 182/182 [00:37<00:00,  4.82it/s]\n",
            "                 Class     Images  Instances      Box(P          R      mAP50  mAP50-95): 100%|██████████| 91/91 [00:17<00:00,  5.28it/s]"
          ]
        },
        {
          "name": "stdout",
          "output_type": "stream",
          "text": [
            "                   all       2898       3318      0.868      0.783      0.872      0.517\n"
          ]
        },
        {
          "name": "stderr",
          "output_type": "stream",
          "text": [
            "\n"
          ]
        },
        {
          "name": "stdout",
          "output_type": "stream",
          "text": [
            "\n",
            "      Epoch    GPU_mem   box_loss   cls_loss   dfl_loss  Instances       Size\n"
          ]
        },
        {
          "name": "stderr",
          "output_type": "stream",
          "text": [
            "     24/100      4.25G      2.893      2.278      3.399          4        640: 100%|██████████| 182/182 [00:37<00:00,  4.83it/s]\n",
            "                 Class     Images  Instances      Box(P          R      mAP50  mAP50-95): 100%|██████████| 91/91 [00:18<00:00,  5.05it/s]"
          ]
        },
        {
          "name": "stdout",
          "output_type": "stream",
          "text": [
            "                   all       2898       3318      0.852      0.784       0.87      0.511\n"
          ]
        },
        {
          "name": "stderr",
          "output_type": "stream",
          "text": [
            "\n"
          ]
        },
        {
          "name": "stdout",
          "output_type": "stream",
          "text": [
            "\n",
            "      Epoch    GPU_mem   box_loss   cls_loss   dfl_loss  Instances       Size\n"
          ]
        },
        {
          "name": "stderr",
          "output_type": "stream",
          "text": [
            "     25/100      4.25G      2.881      2.256      3.361          3        640: 100%|██████████| 182/182 [00:37<00:00,  4.80it/s]\n",
            "                 Class     Images  Instances      Box(P          R      mAP50  mAP50-95): 100%|██████████| 91/91 [00:17<00:00,  5.29it/s]"
          ]
        },
        {
          "name": "stdout",
          "output_type": "stream",
          "text": [
            "                   all       2898       3318      0.855      0.796       0.86      0.526\n"
          ]
        },
        {
          "name": "stderr",
          "output_type": "stream",
          "text": [
            "\n"
          ]
        },
        {
          "name": "stdout",
          "output_type": "stream",
          "text": [
            "\n",
            "      Epoch    GPU_mem   box_loss   cls_loss   dfl_loss  Instances       Size\n"
          ]
        },
        {
          "name": "stderr",
          "output_type": "stream",
          "text": [
            "     26/100      4.25G      2.867      2.219      3.391          5        640: 100%|██████████| 182/182 [00:37<00:00,  4.83it/s]\n",
            "                 Class     Images  Instances      Box(P          R      mAP50  mAP50-95): 100%|██████████| 91/91 [00:17<00:00,  5.22it/s]"
          ]
        },
        {
          "name": "stdout",
          "output_type": "stream",
          "text": [
            "                   all       2898       3318      0.883      0.792      0.877      0.528\n"
          ]
        },
        {
          "name": "stderr",
          "output_type": "stream",
          "text": [
            "\n"
          ]
        },
        {
          "name": "stdout",
          "output_type": "stream",
          "text": [
            "\n",
            "      Epoch    GPU_mem   box_loss   cls_loss   dfl_loss  Instances       Size\n"
          ]
        },
        {
          "name": "stderr",
          "output_type": "stream",
          "text": [
            "     27/100      4.25G      2.882      2.269      3.384          5        640: 100%|██████████| 182/182 [00:37<00:00,  4.80it/s]\n",
            "                 Class     Images  Instances      Box(P          R      mAP50  mAP50-95): 100%|██████████| 91/91 [00:17<00:00,  5.20it/s]"
          ]
        },
        {
          "name": "stdout",
          "output_type": "stream",
          "text": [
            "                   all       2898       3318      0.872        0.8      0.885      0.543\n"
          ]
        },
        {
          "name": "stderr",
          "output_type": "stream",
          "text": [
            "\n"
          ]
        },
        {
          "name": "stdout",
          "output_type": "stream",
          "text": [
            "\n",
            "      Epoch    GPU_mem   box_loss   cls_loss   dfl_loss  Instances       Size\n"
          ]
        },
        {
          "name": "stderr",
          "output_type": "stream",
          "text": [
            "     28/100      4.25G      2.831      2.149      3.365          5        640: 100%|██████████| 182/182 [00:37<00:00,  4.81it/s]\n",
            "                 Class     Images  Instances      Box(P          R      mAP50  mAP50-95): 100%|██████████| 91/91 [00:17<00:00,  5.16it/s]"
          ]
        },
        {
          "name": "stdout",
          "output_type": "stream",
          "text": [
            "                   all       2898       3318      0.876        0.8      0.883      0.543\n"
          ]
        },
        {
          "name": "stderr",
          "output_type": "stream",
          "text": [
            "\n"
          ]
        },
        {
          "name": "stdout",
          "output_type": "stream",
          "text": [
            "\n",
            "      Epoch    GPU_mem   box_loss   cls_loss   dfl_loss  Instances       Size\n"
          ]
        },
        {
          "name": "stderr",
          "output_type": "stream",
          "text": [
            "     29/100      4.25G      2.838        2.2      3.332          4        640: 100%|██████████| 182/182 [00:38<00:00,  4.75it/s]\n",
            "                 Class     Images  Instances      Box(P          R      mAP50  mAP50-95): 100%|██████████| 91/91 [00:17<00:00,  5.22it/s]"
          ]
        },
        {
          "name": "stdout",
          "output_type": "stream",
          "text": [
            "                   all       2898       3318      0.883      0.791      0.887      0.542\n"
          ]
        },
        {
          "name": "stderr",
          "output_type": "stream",
          "text": [
            "\n"
          ]
        },
        {
          "name": "stdout",
          "output_type": "stream",
          "text": [
            "\n",
            "      Epoch    GPU_mem   box_loss   cls_loss   dfl_loss  Instances       Size\n"
          ]
        },
        {
          "name": "stderr",
          "output_type": "stream",
          "text": [
            "     30/100      4.25G      2.819        2.1      3.311          3        640: 100%|██████████| 182/182 [00:37<00:00,  4.80it/s]\n",
            "                 Class     Images  Instances      Box(P          R      mAP50  mAP50-95): 100%|██████████| 91/91 [00:17<00:00,  5.30it/s]"
          ]
        },
        {
          "name": "stdout",
          "output_type": "stream",
          "text": [
            "                   all       2898       3318       0.87      0.812      0.888      0.537\n"
          ]
        },
        {
          "name": "stderr",
          "output_type": "stream",
          "text": [
            "\n"
          ]
        },
        {
          "name": "stdout",
          "output_type": "stream",
          "text": [
            "\n",
            "      Epoch    GPU_mem   box_loss   cls_loss   dfl_loss  Instances       Size\n"
          ]
        },
        {
          "name": "stderr",
          "output_type": "stream",
          "text": [
            "     31/100      4.25G      2.793       2.15      3.292          5        640: 100%|██████████| 182/182 [00:37<00:00,  4.82it/s]\n",
            "                 Class     Images  Instances      Box(P          R      mAP50  mAP50-95): 100%|██████████| 91/91 [00:17<00:00,  5.23it/s]"
          ]
        },
        {
          "name": "stdout",
          "output_type": "stream",
          "text": [
            "                   all       2898       3318      0.889      0.803      0.893       0.54\n"
          ]
        },
        {
          "name": "stderr",
          "output_type": "stream",
          "text": [
            "\n"
          ]
        },
        {
          "name": "stdout",
          "output_type": "stream",
          "text": [
            "\n",
            "      Epoch    GPU_mem   box_loss   cls_loss   dfl_loss  Instances       Size\n"
          ]
        },
        {
          "name": "stderr",
          "output_type": "stream",
          "text": [
            "     32/100      4.25G      2.793      2.126      3.293          3        640: 100%|██████████| 182/182 [00:37<00:00,  4.84it/s]\n",
            "                 Class     Images  Instances      Box(P          R      mAP50  mAP50-95): 100%|██████████| 91/91 [00:17<00:00,  5.29it/s]"
          ]
        },
        {
          "name": "stdout",
          "output_type": "stream",
          "text": [
            "                   all       2898       3318      0.893      0.811      0.894      0.556\n"
          ]
        },
        {
          "name": "stderr",
          "output_type": "stream",
          "text": [
            "\n"
          ]
        },
        {
          "name": "stdout",
          "output_type": "stream",
          "text": [
            "\n",
            "      Epoch    GPU_mem   box_loss   cls_loss   dfl_loss  Instances       Size\n"
          ]
        },
        {
          "name": "stderr",
          "output_type": "stream",
          "text": [
            "     33/100      4.25G      2.784       2.05      3.282          4        640: 100%|██████████| 182/182 [00:37<00:00,  4.82it/s]\n",
            "                 Class     Images  Instances      Box(P          R      mAP50  mAP50-95): 100%|██████████| 91/91 [00:17<00:00,  5.16it/s]"
          ]
        },
        {
          "name": "stdout",
          "output_type": "stream",
          "text": [
            "                   all       2898       3318      0.876       0.81      0.893      0.538\n"
          ]
        },
        {
          "name": "stderr",
          "output_type": "stream",
          "text": [
            "\n"
          ]
        },
        {
          "name": "stdout",
          "output_type": "stream",
          "text": [
            "\n",
            "      Epoch    GPU_mem   box_loss   cls_loss   dfl_loss  Instances       Size\n"
          ]
        },
        {
          "name": "stderr",
          "output_type": "stream",
          "text": [
            "     34/100      4.25G      2.806      2.038      3.273          3        640: 100%|██████████| 182/182 [00:37<00:00,  4.82it/s]\n",
            "                 Class     Images  Instances      Box(P          R      mAP50  mAP50-95): 100%|██████████| 91/91 [00:17<00:00,  5.25it/s]"
          ]
        },
        {
          "name": "stdout",
          "output_type": "stream",
          "text": [
            "                   all       2898       3318      0.881      0.815      0.899      0.557\n"
          ]
        },
        {
          "name": "stderr",
          "output_type": "stream",
          "text": [
            "\n"
          ]
        },
        {
          "name": "stdout",
          "output_type": "stream",
          "text": [
            "\n",
            "      Epoch    GPU_mem   box_loss   cls_loss   dfl_loss  Instances       Size\n"
          ]
        },
        {
          "name": "stderr",
          "output_type": "stream",
          "text": [
            "     35/100      4.25G      2.801      2.043      3.271          5        640: 100%|██████████| 182/182 [00:37<00:00,  4.81it/s]\n",
            "                 Class     Images  Instances      Box(P          R      mAP50  mAP50-95): 100%|██████████| 91/91 [00:17<00:00,  5.27it/s]"
          ]
        },
        {
          "name": "stdout",
          "output_type": "stream",
          "text": [
            "                   all       2898       3318      0.898       0.81      0.899      0.557\n"
          ]
        },
        {
          "name": "stderr",
          "output_type": "stream",
          "text": [
            "\n"
          ]
        },
        {
          "name": "stdout",
          "output_type": "stream",
          "text": [
            "\n",
            "      Epoch    GPU_mem   box_loss   cls_loss   dfl_loss  Instances       Size\n"
          ]
        },
        {
          "name": "stderr",
          "output_type": "stream",
          "text": [
            "     36/100      4.25G      2.797      2.069      3.284          3        640: 100%|██████████| 182/182 [00:37<00:00,  4.82it/s]\n",
            "                 Class     Images  Instances      Box(P          R      mAP50  mAP50-95): 100%|██████████| 91/91 [00:17<00:00,  5.23it/s]"
          ]
        },
        {
          "name": "stdout",
          "output_type": "stream",
          "text": [
            "                   all       2898       3318       0.88      0.812      0.899       0.56\n"
          ]
        },
        {
          "name": "stderr",
          "output_type": "stream",
          "text": [
            "\n"
          ]
        },
        {
          "name": "stdout",
          "output_type": "stream",
          "text": [
            "\n",
            "      Epoch    GPU_mem   box_loss   cls_loss   dfl_loss  Instances       Size\n"
          ]
        },
        {
          "name": "stderr",
          "output_type": "stream",
          "text": [
            "     37/100      4.25G      2.772      1.996       3.26          3        640: 100%|██████████| 182/182 [00:37<00:00,  4.83it/s]\n",
            "                 Class     Images  Instances      Box(P          R      mAP50  mAP50-95): 100%|██████████| 91/91 [00:17<00:00,  5.30it/s]"
          ]
        },
        {
          "name": "stdout",
          "output_type": "stream",
          "text": [
            "                   all       2898       3318      0.895      0.813      0.905      0.568\n"
          ]
        },
        {
          "name": "stderr",
          "output_type": "stream",
          "text": [
            "\n"
          ]
        },
        {
          "name": "stdout",
          "output_type": "stream",
          "text": [
            "\n",
            "      Epoch    GPU_mem   box_loss   cls_loss   dfl_loss  Instances       Size\n"
          ]
        },
        {
          "name": "stderr",
          "output_type": "stream",
          "text": [
            "     38/100      4.25G      2.772      2.003      3.263          6        640: 100%|██████████| 182/182 [00:37<00:00,  4.82it/s]\n",
            "                 Class     Images  Instances      Box(P          R      mAP50  mAP50-95): 100%|██████████| 91/91 [00:17<00:00,  5.24it/s]"
          ]
        },
        {
          "name": "stdout",
          "output_type": "stream",
          "text": [
            "                   all       2898       3318      0.901      0.813        0.9      0.569\n"
          ]
        },
        {
          "name": "stderr",
          "output_type": "stream",
          "text": [
            "\n"
          ]
        },
        {
          "name": "stdout",
          "output_type": "stream",
          "text": [
            "\n",
            "      Epoch    GPU_mem   box_loss   cls_loss   dfl_loss  Instances       Size\n"
          ]
        },
        {
          "name": "stderr",
          "output_type": "stream",
          "text": [
            "     39/100      4.25G      2.709      1.996       3.22          5        640: 100%|██████████| 182/182 [00:37<00:00,  4.83it/s]\n",
            "                 Class     Images  Instances      Box(P          R      mAP50  mAP50-95): 100%|██████████| 91/91 [00:17<00:00,  5.28it/s]"
          ]
        },
        {
          "name": "stdout",
          "output_type": "stream",
          "text": [
            "                   all       2898       3318      0.892      0.829      0.907      0.568\n"
          ]
        },
        {
          "name": "stderr",
          "output_type": "stream",
          "text": [
            "\n"
          ]
        },
        {
          "name": "stdout",
          "output_type": "stream",
          "text": [
            "\n",
            "      Epoch    GPU_mem   box_loss   cls_loss   dfl_loss  Instances       Size\n"
          ]
        },
        {
          "name": "stderr",
          "output_type": "stream",
          "text": [
            "     40/100      4.25G      2.738       1.97       3.24          5        640: 100%|██████████| 182/182 [00:37<00:00,  4.83it/s]\n",
            "                 Class     Images  Instances      Box(P          R      mAP50  mAP50-95): 100%|██████████| 91/91 [00:17<00:00,  5.25it/s]"
          ]
        },
        {
          "name": "stdout",
          "output_type": "stream",
          "text": [
            "                   all       2898       3318      0.899      0.825      0.913      0.572\n"
          ]
        },
        {
          "name": "stderr",
          "output_type": "stream",
          "text": [
            "\n"
          ]
        },
        {
          "name": "stdout",
          "output_type": "stream",
          "text": [
            "\n",
            "      Epoch    GPU_mem   box_loss   cls_loss   dfl_loss  Instances       Size\n"
          ]
        },
        {
          "name": "stderr",
          "output_type": "stream",
          "text": [
            "     41/100      4.25G      2.738      2.006      3.259          6        640: 100%|██████████| 182/182 [00:37<00:00,  4.81it/s]\n",
            "                 Class     Images  Instances      Box(P          R      mAP50  mAP50-95): 100%|██████████| 91/91 [00:17<00:00,  5.28it/s]"
          ]
        },
        {
          "name": "stdout",
          "output_type": "stream",
          "text": [
            "                   all       2898       3318      0.904      0.833      0.908      0.576\n"
          ]
        },
        {
          "name": "stderr",
          "output_type": "stream",
          "text": [
            "\n"
          ]
        },
        {
          "name": "stdout",
          "output_type": "stream",
          "text": [
            "\n",
            "      Epoch    GPU_mem   box_loss   cls_loss   dfl_loss  Instances       Size\n"
          ]
        },
        {
          "name": "stderr",
          "output_type": "stream",
          "text": [
            "     42/100      4.25G       2.77      2.025      3.261          4        640: 100%|██████████| 182/182 [00:37<00:00,  4.81it/s]\n",
            "                 Class     Images  Instances      Box(P          R      mAP50  mAP50-95): 100%|██████████| 91/91 [00:17<00:00,  5.09it/s]"
          ]
        },
        {
          "name": "stdout",
          "output_type": "stream",
          "text": [
            "                   all       2898       3318      0.886      0.831      0.906      0.567\n"
          ]
        },
        {
          "name": "stderr",
          "output_type": "stream",
          "text": [
            "\n"
          ]
        },
        {
          "name": "stdout",
          "output_type": "stream",
          "text": [
            "\n",
            "      Epoch    GPU_mem   box_loss   cls_loss   dfl_loss  Instances       Size\n"
          ]
        },
        {
          "name": "stderr",
          "output_type": "stream",
          "text": [
            "     43/100      4.25G      2.769      2.057      3.237          3        640: 100%|██████████| 182/182 [00:37<00:00,  4.80it/s]\n",
            "                 Class     Images  Instances      Box(P          R      mAP50  mAP50-95): 100%|██████████| 91/91 [00:17<00:00,  5.26it/s]"
          ]
        },
        {
          "name": "stdout",
          "output_type": "stream",
          "text": [
            "                   all       2898       3318      0.913      0.808      0.902      0.567\n"
          ]
        },
        {
          "name": "stderr",
          "output_type": "stream",
          "text": [
            "\n"
          ]
        },
        {
          "name": "stdout",
          "output_type": "stream",
          "text": [
            "\n",
            "      Epoch    GPU_mem   box_loss   cls_loss   dfl_loss  Instances       Size\n"
          ]
        },
        {
          "name": "stderr",
          "output_type": "stream",
          "text": [
            "     44/100      4.25G      2.722      1.951      3.246          5        640: 100%|██████████| 182/182 [00:37<00:00,  4.80it/s]\n",
            "                 Class     Images  Instances      Box(P          R      mAP50  mAP50-95): 100%|██████████| 91/91 [00:17<00:00,  5.25it/s]"
          ]
        },
        {
          "name": "stdout",
          "output_type": "stream",
          "text": [
            "                   all       2898       3318      0.908      0.833      0.921       0.58\n"
          ]
        },
        {
          "name": "stderr",
          "output_type": "stream",
          "text": [
            "\n"
          ]
        },
        {
          "name": "stdout",
          "output_type": "stream",
          "text": [
            "\n",
            "      Epoch    GPU_mem   box_loss   cls_loss   dfl_loss  Instances       Size\n"
          ]
        },
        {
          "name": "stderr",
          "output_type": "stream",
          "text": [
            "     45/100      4.25G      2.749      1.883      3.233          3        640: 100%|██████████| 182/182 [00:37<00:00,  4.82it/s]\n",
            "                 Class     Images  Instances      Box(P          R      mAP50  mAP50-95): 100%|██████████| 91/91 [00:17<00:00,  5.27it/s]"
          ]
        },
        {
          "name": "stdout",
          "output_type": "stream",
          "text": [
            "                   all       2898       3318      0.917      0.812      0.914      0.571\n"
          ]
        },
        {
          "name": "stderr",
          "output_type": "stream",
          "text": [
            "\n"
          ]
        },
        {
          "name": "stdout",
          "output_type": "stream",
          "text": [
            "\n",
            "      Epoch    GPU_mem   box_loss   cls_loss   dfl_loss  Instances       Size\n"
          ]
        },
        {
          "name": "stderr",
          "output_type": "stream",
          "text": [
            "     46/100      4.25G      2.769      1.909      3.237          6        640: 100%|██████████| 182/182 [00:37<00:00,  4.79it/s]\n",
            "                 Class     Images  Instances      Box(P          R      mAP50  mAP50-95): 100%|██████████| 91/91 [00:17<00:00,  5.28it/s]"
          ]
        },
        {
          "name": "stdout",
          "output_type": "stream",
          "text": [
            "                   all       2898       3318      0.899      0.839      0.924      0.583\n"
          ]
        },
        {
          "name": "stderr",
          "output_type": "stream",
          "text": [
            "\n"
          ]
        },
        {
          "name": "stdout",
          "output_type": "stream",
          "text": [
            "\n",
            "      Epoch    GPU_mem   box_loss   cls_loss   dfl_loss  Instances       Size\n"
          ]
        },
        {
          "name": "stderr",
          "output_type": "stream",
          "text": [
            "     47/100      4.25G      2.731      1.905      3.234          2        640: 100%|██████████| 182/182 [00:37<00:00,  4.81it/s]\n",
            "                 Class     Images  Instances      Box(P          R      mAP50  mAP50-95): 100%|██████████| 91/91 [00:17<00:00,  5.26it/s]"
          ]
        },
        {
          "name": "stdout",
          "output_type": "stream",
          "text": [
            "                   all       2898       3318      0.907      0.845      0.919      0.586\n"
          ]
        },
        {
          "name": "stderr",
          "output_type": "stream",
          "text": [
            "\n"
          ]
        },
        {
          "name": "stdout",
          "output_type": "stream",
          "text": [
            "\n",
            "      Epoch    GPU_mem   box_loss   cls_loss   dfl_loss  Instances       Size\n"
          ]
        },
        {
          "name": "stderr",
          "output_type": "stream",
          "text": [
            "     48/100      4.25G       2.72      1.932      3.246          3        640: 100%|██████████| 182/182 [00:37<00:00,  4.82it/s]\n",
            "                 Class     Images  Instances      Box(P          R      mAP50  mAP50-95): 100%|██████████| 91/91 [00:17<00:00,  5.29it/s]"
          ]
        },
        {
          "name": "stdout",
          "output_type": "stream",
          "text": [
            "                   all       2898       3318      0.895      0.844       0.92      0.588\n"
          ]
        },
        {
          "name": "stderr",
          "output_type": "stream",
          "text": [
            "\n"
          ]
        },
        {
          "name": "stdout",
          "output_type": "stream",
          "text": [
            "\n",
            "      Epoch    GPU_mem   box_loss   cls_loss   dfl_loss  Instances       Size\n"
          ]
        },
        {
          "name": "stderr",
          "output_type": "stream",
          "text": [
            "     49/100      4.25G      2.718      1.918      3.216          3        640: 100%|██████████| 182/182 [00:37<00:00,  4.82it/s]\n",
            "                 Class     Images  Instances      Box(P          R      mAP50  mAP50-95): 100%|██████████| 91/91 [00:17<00:00,  5.28it/s]"
          ]
        },
        {
          "name": "stdout",
          "output_type": "stream",
          "text": [
            "                   all       2898       3318      0.907      0.831      0.912      0.588\n"
          ]
        },
        {
          "name": "stderr",
          "output_type": "stream",
          "text": [
            "\n"
          ]
        },
        {
          "name": "stdout",
          "output_type": "stream",
          "text": [
            "\n",
            "      Epoch    GPU_mem   box_loss   cls_loss   dfl_loss  Instances       Size\n"
          ]
        },
        {
          "name": "stderr",
          "output_type": "stream",
          "text": [
            "     50/100      4.25G      2.701      1.891      3.202          3        640: 100%|██████████| 182/182 [00:37<00:00,  4.82it/s]\n",
            "                 Class     Images  Instances      Box(P          R      mAP50  mAP50-95): 100%|██████████| 91/91 [00:17<00:00,  5.20it/s]"
          ]
        },
        {
          "name": "stdout",
          "output_type": "stream",
          "text": [
            "                   all       2898       3318      0.911      0.854      0.929      0.596\n"
          ]
        },
        {
          "name": "stderr",
          "output_type": "stream",
          "text": [
            "\n"
          ]
        },
        {
          "name": "stdout",
          "output_type": "stream",
          "text": [
            "\n",
            "      Epoch    GPU_mem   box_loss   cls_loss   dfl_loss  Instances       Size\n"
          ]
        },
        {
          "name": "stderr",
          "output_type": "stream",
          "text": [
            "     51/100      4.25G      2.676      1.862      3.186          4        640: 100%|██████████| 182/182 [00:38<00:00,  4.77it/s]\n",
            "                 Class     Images  Instances      Box(P          R      mAP50  mAP50-95): 100%|██████████| 91/91 [00:17<00:00,  5.22it/s]"
          ]
        },
        {
          "name": "stdout",
          "output_type": "stream",
          "text": [
            "                   all       2898       3318      0.919      0.841      0.925      0.594\n"
          ]
        },
        {
          "name": "stderr",
          "output_type": "stream",
          "text": [
            "\n"
          ]
        },
        {
          "name": "stdout",
          "output_type": "stream",
          "text": [
            "\n",
            "      Epoch    GPU_mem   box_loss   cls_loss   dfl_loss  Instances       Size\n"
          ]
        },
        {
          "name": "stderr",
          "output_type": "stream",
          "text": [
            "     52/100      4.25G      2.678       1.88      3.205          7        640: 100%|██████████| 182/182 [00:37<00:00,  4.82it/s]\n",
            "                 Class     Images  Instances      Box(P          R      mAP50  mAP50-95): 100%|██████████| 91/91 [00:17<00:00,  5.25it/s]"
          ]
        },
        {
          "name": "stdout",
          "output_type": "stream",
          "text": [
            "                   all       2898       3318      0.931      0.837      0.929      0.597\n"
          ]
        },
        {
          "name": "stderr",
          "output_type": "stream",
          "text": [
            "\n"
          ]
        },
        {
          "name": "stdout",
          "output_type": "stream",
          "text": [
            "\n",
            "      Epoch    GPU_mem   box_loss   cls_loss   dfl_loss  Instances       Size\n"
          ]
        },
        {
          "name": "stderr",
          "output_type": "stream",
          "text": [
            "     53/100      4.25G      2.697      1.899      3.199          1        640: 100%|██████████| 182/182 [00:37<00:00,  4.80it/s]\n",
            "                 Class     Images  Instances      Box(P          R      mAP50  mAP50-95): 100%|██████████| 91/91 [00:17<00:00,  5.26it/s]"
          ]
        },
        {
          "name": "stdout",
          "output_type": "stream",
          "text": [
            "                   all       2898       3318      0.909      0.843       0.92      0.594\n"
          ]
        },
        {
          "name": "stderr",
          "output_type": "stream",
          "text": [
            "\n"
          ]
        },
        {
          "name": "stdout",
          "output_type": "stream",
          "text": [
            "\n",
            "      Epoch    GPU_mem   box_loss   cls_loss   dfl_loss  Instances       Size\n"
          ]
        },
        {
          "name": "stderr",
          "output_type": "stream",
          "text": [
            "     54/100      4.25G      2.688      1.857      3.186          1        640: 100%|██████████| 182/182 [00:37<00:00,  4.81it/s]\n",
            "                 Class     Images  Instances      Box(P          R      mAP50  mAP50-95): 100%|██████████| 91/91 [00:17<00:00,  5.25it/s]"
          ]
        },
        {
          "name": "stdout",
          "output_type": "stream",
          "text": [
            "                   all       2898       3318      0.919      0.832      0.918      0.585\n"
          ]
        },
        {
          "name": "stderr",
          "output_type": "stream",
          "text": [
            "\n"
          ]
        },
        {
          "name": "stdout",
          "output_type": "stream",
          "text": [
            "\n",
            "      Epoch    GPU_mem   box_loss   cls_loss   dfl_loss  Instances       Size\n"
          ]
        },
        {
          "name": "stderr",
          "output_type": "stream",
          "text": [
            "     55/100      4.25G      2.744      1.883      3.203          2        640: 100%|██████████| 182/182 [00:37<00:00,  4.80it/s]\n",
            "                 Class     Images  Instances      Box(P          R      mAP50  mAP50-95): 100%|██████████| 91/91 [00:17<00:00,  5.27it/s]"
          ]
        },
        {
          "name": "stdout",
          "output_type": "stream",
          "text": [
            "                   all       2898       3318      0.909      0.843      0.927      0.598\n"
          ]
        },
        {
          "name": "stderr",
          "output_type": "stream",
          "text": [
            "\n"
          ]
        },
        {
          "name": "stdout",
          "output_type": "stream",
          "text": [
            "\n",
            "      Epoch    GPU_mem   box_loss   cls_loss   dfl_loss  Instances       Size\n"
          ]
        },
        {
          "name": "stderr",
          "output_type": "stream",
          "text": [
            "     56/100      4.25G      2.677      1.839      3.192          6        640: 100%|██████████| 182/182 [00:37<00:00,  4.83it/s]\n",
            "                 Class     Images  Instances      Box(P          R      mAP50  mAP50-95): 100%|██████████| 91/91 [00:17<00:00,  5.26it/s]"
          ]
        },
        {
          "name": "stdout",
          "output_type": "stream",
          "text": [
            "                   all       2898       3318      0.913      0.845      0.932      0.601\n"
          ]
        },
        {
          "name": "stderr",
          "output_type": "stream",
          "text": [
            "\n"
          ]
        },
        {
          "name": "stdout",
          "output_type": "stream",
          "text": [
            "\n",
            "      Epoch    GPU_mem   box_loss   cls_loss   dfl_loss  Instances       Size\n"
          ]
        },
        {
          "name": "stderr",
          "output_type": "stream",
          "text": [
            "     57/100      4.25G      2.721      1.864       3.18          5        640: 100%|██████████| 182/182 [00:37<00:00,  4.81it/s]\n",
            "                 Class     Images  Instances      Box(P          R      mAP50  mAP50-95): 100%|██████████| 91/91 [00:17<00:00,  5.23it/s]"
          ]
        },
        {
          "name": "stdout",
          "output_type": "stream",
          "text": [
            "                   all       2898       3318      0.917      0.856      0.941      0.605\n"
          ]
        },
        {
          "name": "stderr",
          "output_type": "stream",
          "text": [
            "\n"
          ]
        },
        {
          "name": "stdout",
          "output_type": "stream",
          "text": [
            "\n",
            "      Epoch    GPU_mem   box_loss   cls_loss   dfl_loss  Instances       Size\n"
          ]
        },
        {
          "name": "stderr",
          "output_type": "stream",
          "text": [
            "     58/100      4.25G      2.633      1.799      3.149          4        640: 100%|██████████| 182/182 [00:37<00:00,  4.82it/s]\n",
            "                 Class     Images  Instances      Box(P          R      mAP50  mAP50-95): 100%|██████████| 91/91 [00:17<00:00,  5.28it/s]"
          ]
        },
        {
          "name": "stdout",
          "output_type": "stream",
          "text": [
            "                   all       2898       3318       0.91      0.858      0.933      0.596\n"
          ]
        },
        {
          "name": "stderr",
          "output_type": "stream",
          "text": [
            "\n"
          ]
        },
        {
          "name": "stdout",
          "output_type": "stream",
          "text": [
            "\n",
            "      Epoch    GPU_mem   box_loss   cls_loss   dfl_loss  Instances       Size\n"
          ]
        },
        {
          "name": "stderr",
          "output_type": "stream",
          "text": [
            "     59/100      4.25G      2.636      1.746      3.145          4        640: 100%|██████████| 182/182 [00:37<00:00,  4.83it/s]\n",
            "                 Class     Images  Instances      Box(P          R      mAP50  mAP50-95): 100%|██████████| 91/91 [00:17<00:00,  5.32it/s]"
          ]
        },
        {
          "name": "stdout",
          "output_type": "stream",
          "text": [
            "                   all       2898       3318      0.924       0.84      0.933      0.605\n"
          ]
        },
        {
          "name": "stderr",
          "output_type": "stream",
          "text": [
            "\n"
          ]
        },
        {
          "name": "stdout",
          "output_type": "stream",
          "text": [
            "\n",
            "      Epoch    GPU_mem   box_loss   cls_loss   dfl_loss  Instances       Size\n"
          ]
        },
        {
          "name": "stderr",
          "output_type": "stream",
          "text": [
            "     60/100      4.25G      2.605      1.752      3.132          4        640: 100%|██████████| 182/182 [00:37<00:00,  4.81it/s]\n",
            "                 Class     Images  Instances      Box(P          R      mAP50  mAP50-95): 100%|██████████| 91/91 [00:17<00:00,  5.26it/s]"
          ]
        },
        {
          "name": "stdout",
          "output_type": "stream",
          "text": [
            "                   all       2898       3318      0.931       0.85       0.94      0.608\n"
          ]
        },
        {
          "name": "stderr",
          "output_type": "stream",
          "text": [
            "\n"
          ]
        },
        {
          "name": "stdout",
          "output_type": "stream",
          "text": [
            "\n",
            "      Epoch    GPU_mem   box_loss   cls_loss   dfl_loss  Instances       Size\n"
          ]
        },
        {
          "name": "stderr",
          "output_type": "stream",
          "text": [
            "     61/100      4.25G      2.649       1.76      3.177          5        640: 100%|██████████| 182/182 [00:37<00:00,  4.80it/s]\n",
            "                 Class     Images  Instances      Box(P          R      mAP50  mAP50-95): 100%|██████████| 91/91 [00:17<00:00,  5.28it/s]"
          ]
        },
        {
          "name": "stdout",
          "output_type": "stream",
          "text": [
            "                   all       2898       3318       0.92      0.867      0.943      0.616\n"
          ]
        },
        {
          "name": "stderr",
          "output_type": "stream",
          "text": [
            "\n"
          ]
        },
        {
          "name": "stdout",
          "output_type": "stream",
          "text": [
            "\n",
            "      Epoch    GPU_mem   box_loss   cls_loss   dfl_loss  Instances       Size\n"
          ]
        },
        {
          "name": "stderr",
          "output_type": "stream",
          "text": [
            "     62/100      4.25G      2.644       1.77      3.161          5        640: 100%|██████████| 182/182 [00:37<00:00,  4.81it/s]\n",
            "                 Class     Images  Instances      Box(P          R      mAP50  mAP50-95): 100%|██████████| 91/91 [00:16<00:00,  5.35it/s]"
          ]
        },
        {
          "name": "stdout",
          "output_type": "stream",
          "text": [
            "                   all       2898       3318      0.921      0.855      0.939       0.61\n"
          ]
        },
        {
          "name": "stderr",
          "output_type": "stream",
          "text": [
            "\n"
          ]
        },
        {
          "name": "stdout",
          "output_type": "stream",
          "text": [
            "\n",
            "      Epoch    GPU_mem   box_loss   cls_loss   dfl_loss  Instances       Size\n"
          ]
        },
        {
          "name": "stderr",
          "output_type": "stream",
          "text": [
            "     63/100      4.25G      2.665      1.808       3.14          4        640: 100%|██████████| 182/182 [00:38<00:00,  4.79it/s]\n",
            "                 Class     Images  Instances      Box(P          R      mAP50  mAP50-95): 100%|██████████| 91/91 [00:17<00:00,  5.25it/s]"
          ]
        },
        {
          "name": "stdout",
          "output_type": "stream",
          "text": [
            "                   all       2898       3318      0.919       0.86       0.93      0.608\n"
          ]
        },
        {
          "name": "stderr",
          "output_type": "stream",
          "text": [
            "\n"
          ]
        },
        {
          "name": "stdout",
          "output_type": "stream",
          "text": [
            "\n",
            "      Epoch    GPU_mem   box_loss   cls_loss   dfl_loss  Instances       Size\n"
          ]
        },
        {
          "name": "stderr",
          "output_type": "stream",
          "text": [
            "     64/100      4.25G      2.642      1.735      3.127          5        640: 100%|██████████| 182/182 [00:38<00:00,  4.77it/s]\n",
            "                 Class     Images  Instances      Box(P          R      mAP50  mAP50-95): 100%|██████████| 91/91 [00:17<00:00,  5.25it/s]"
          ]
        },
        {
          "name": "stdout",
          "output_type": "stream",
          "text": [
            "                   all       2898       3318      0.918       0.86      0.935      0.608\n"
          ]
        },
        {
          "name": "stderr",
          "output_type": "stream",
          "text": [
            "\n"
          ]
        },
        {
          "name": "stdout",
          "output_type": "stream",
          "text": [
            "\n",
            "      Epoch    GPU_mem   box_loss   cls_loss   dfl_loss  Instances       Size\n"
          ]
        },
        {
          "name": "stderr",
          "output_type": "stream",
          "text": [
            "     65/100      4.25G      2.604      1.757      3.157          7        640: 100%|██████████| 182/182 [00:37<00:00,  4.84it/s]\n",
            "                 Class     Images  Instances      Box(P          R      mAP50  mAP50-95): 100%|██████████| 91/91 [00:17<00:00,  5.26it/s]"
          ]
        },
        {
          "name": "stdout",
          "output_type": "stream",
          "text": [
            "                   all       2898       3318      0.923      0.862      0.933      0.615\n"
          ]
        },
        {
          "name": "stderr",
          "output_type": "stream",
          "text": [
            "\n"
          ]
        },
        {
          "name": "stdout",
          "output_type": "stream",
          "text": [
            "\n",
            "      Epoch    GPU_mem   box_loss   cls_loss   dfl_loss  Instances       Size\n"
          ]
        },
        {
          "name": "stderr",
          "output_type": "stream",
          "text": [
            "     66/100      4.25G      2.645      1.742      3.115          5        640: 100%|██████████| 182/182 [00:37<00:00,  4.80it/s]\n",
            "                 Class     Images  Instances      Box(P          R      mAP50  mAP50-95): 100%|██████████| 91/91 [00:17<00:00,  5.27it/s]"
          ]
        },
        {
          "name": "stdout",
          "output_type": "stream",
          "text": [
            "                   all       2898       3318      0.928      0.866      0.933      0.613\n"
          ]
        },
        {
          "name": "stderr",
          "output_type": "stream",
          "text": [
            "\n"
          ]
        },
        {
          "name": "stdout",
          "output_type": "stream",
          "text": [
            "\n",
            "      Epoch    GPU_mem   box_loss   cls_loss   dfl_loss  Instances       Size\n"
          ]
        },
        {
          "name": "stderr",
          "output_type": "stream",
          "text": [
            "     67/100      4.25G      2.597      1.669      3.105          4        640: 100%|██████████| 182/182 [00:37<00:00,  4.81it/s]\n",
            "                 Class     Images  Instances      Box(P          R      mAP50  mAP50-95): 100%|██████████| 91/91 [00:17<00:00,  5.21it/s]"
          ]
        },
        {
          "name": "stdout",
          "output_type": "stream",
          "text": [
            "                   all       2898       3318      0.932      0.856      0.927      0.608\n"
          ]
        },
        {
          "name": "stderr",
          "output_type": "stream",
          "text": [
            "\n"
          ]
        },
        {
          "name": "stdout",
          "output_type": "stream",
          "text": [
            "\n",
            "      Epoch    GPU_mem   box_loss   cls_loss   dfl_loss  Instances       Size\n"
          ]
        },
        {
          "name": "stderr",
          "output_type": "stream",
          "text": [
            "     68/100      4.25G      2.615      1.702       3.13          5        640: 100%|██████████| 182/182 [00:37<00:00,  4.82it/s]\n",
            "                 Class     Images  Instances      Box(P          R      mAP50  mAP50-95): 100%|██████████| 91/91 [00:17<00:00,  5.27it/s]"
          ]
        },
        {
          "name": "stdout",
          "output_type": "stream",
          "text": [
            "                   all       2898       3318      0.918      0.871      0.944       0.62\n"
          ]
        },
        {
          "name": "stderr",
          "output_type": "stream",
          "text": [
            "\n"
          ]
        },
        {
          "name": "stdout",
          "output_type": "stream",
          "text": [
            "\n",
            "      Epoch    GPU_mem   box_loss   cls_loss   dfl_loss  Instances       Size\n"
          ]
        },
        {
          "name": "stderr",
          "output_type": "stream",
          "text": [
            "     69/100      4.25G      2.613      1.686      3.093          5        640: 100%|██████████| 182/182 [00:38<00:00,  4.73it/s]\n",
            "                 Class     Images  Instances      Box(P          R      mAP50  mAP50-95): 100%|██████████| 91/91 [00:17<00:00,  5.26it/s]"
          ]
        },
        {
          "name": "stdout",
          "output_type": "stream",
          "text": [
            "                   all       2898       3318      0.942      0.861      0.936      0.619\n"
          ]
        },
        {
          "name": "stderr",
          "output_type": "stream",
          "text": [
            "\n"
          ]
        },
        {
          "name": "stdout",
          "output_type": "stream",
          "text": [
            "\n",
            "      Epoch    GPU_mem   box_loss   cls_loss   dfl_loss  Instances       Size\n"
          ]
        },
        {
          "name": "stderr",
          "output_type": "stream",
          "text": [
            "     70/100      4.25G      2.636       1.76      3.135          6        640: 100%|██████████| 182/182 [00:37<00:00,  4.83it/s]\n",
            "                 Class     Images  Instances      Box(P          R      mAP50  mAP50-95): 100%|██████████| 91/91 [00:17<00:00,  5.30it/s]"
          ]
        },
        {
          "name": "stdout",
          "output_type": "stream",
          "text": [
            "                   all       2898       3318      0.945      0.861      0.942      0.625\n"
          ]
        },
        {
          "name": "stderr",
          "output_type": "stream",
          "text": [
            "\n"
          ]
        },
        {
          "name": "stdout",
          "output_type": "stream",
          "text": [
            "\n",
            "      Epoch    GPU_mem   box_loss   cls_loss   dfl_loss  Instances       Size\n"
          ]
        },
        {
          "name": "stderr",
          "output_type": "stream",
          "text": [
            "     71/100      4.25G      2.591      1.695      3.084          7        640: 100%|██████████| 182/182 [00:37<00:00,  4.81it/s]\n",
            "                 Class     Images  Instances      Box(P          R      mAP50  mAP50-95): 100%|██████████| 91/91 [00:17<00:00,  5.26it/s]"
          ]
        },
        {
          "name": "stdout",
          "output_type": "stream",
          "text": [
            "                   all       2898       3318      0.935      0.864      0.946      0.625\n"
          ]
        },
        {
          "name": "stderr",
          "output_type": "stream",
          "text": [
            "\n"
          ]
        },
        {
          "name": "stdout",
          "output_type": "stream",
          "text": [
            "\n",
            "      Epoch    GPU_mem   box_loss   cls_loss   dfl_loss  Instances       Size\n"
          ]
        },
        {
          "name": "stderr",
          "output_type": "stream",
          "text": [
            "     72/100      4.25G      2.554      1.688      3.102          4        640: 100%|██████████| 182/182 [00:37<00:00,  4.81it/s]\n",
            "                 Class     Images  Instances      Box(P          R      mAP50  mAP50-95): 100%|██████████| 91/91 [00:17<00:00,  5.25it/s]"
          ]
        },
        {
          "name": "stdout",
          "output_type": "stream",
          "text": [
            "                   all       2898       3318      0.943      0.859      0.947      0.628\n"
          ]
        },
        {
          "name": "stderr",
          "output_type": "stream",
          "text": [
            "\n"
          ]
        },
        {
          "name": "stdout",
          "output_type": "stream",
          "text": [
            "\n",
            "      Epoch    GPU_mem   box_loss   cls_loss   dfl_loss  Instances       Size\n"
          ]
        },
        {
          "name": "stderr",
          "output_type": "stream",
          "text": [
            "     73/100      4.25G      2.585       1.68      3.088          8        640: 100%|██████████| 182/182 [00:37<00:00,  4.79it/s]\n",
            "                 Class     Images  Instances      Box(P          R      mAP50  mAP50-95): 100%|██████████| 91/91 [00:17<00:00,  5.25it/s]"
          ]
        },
        {
          "name": "stdout",
          "output_type": "stream",
          "text": [
            "                   all       2898       3318      0.929      0.864      0.941      0.624\n"
          ]
        },
        {
          "name": "stderr",
          "output_type": "stream",
          "text": [
            "\n"
          ]
        },
        {
          "name": "stdout",
          "output_type": "stream",
          "text": [
            "\n",
            "      Epoch    GPU_mem   box_loss   cls_loss   dfl_loss  Instances       Size\n"
          ]
        },
        {
          "name": "stderr",
          "output_type": "stream",
          "text": [
            "     74/100      4.25G      2.607      1.666      3.088          9        640: 100%|██████████| 182/182 [00:37<00:00,  4.79it/s]\n",
            "                 Class     Images  Instances      Box(P          R      mAP50  mAP50-95): 100%|██████████| 91/91 [00:17<00:00,  5.27it/s]"
          ]
        },
        {
          "name": "stdout",
          "output_type": "stream",
          "text": [
            "                   all       2898       3318      0.944      0.861      0.946      0.623\n"
          ]
        },
        {
          "name": "stderr",
          "output_type": "stream",
          "text": [
            "\n"
          ]
        },
        {
          "name": "stdout",
          "output_type": "stream",
          "text": [
            "\n",
            "      Epoch    GPU_mem   box_loss   cls_loss   dfl_loss  Instances       Size\n"
          ]
        },
        {
          "name": "stderr",
          "output_type": "stream",
          "text": [
            "     75/100      4.25G      2.581      1.689      3.098          7        640: 100%|██████████| 182/182 [00:37<00:00,  4.82it/s]\n",
            "                 Class     Images  Instances      Box(P          R      mAP50  mAP50-95): 100%|██████████| 91/91 [00:17<00:00,  5.31it/s]"
          ]
        },
        {
          "name": "stdout",
          "output_type": "stream",
          "text": [
            "                   all       2898       3318      0.939      0.865      0.946       0.63\n"
          ]
        },
        {
          "name": "stderr",
          "output_type": "stream",
          "text": [
            "\n"
          ]
        },
        {
          "name": "stdout",
          "output_type": "stream",
          "text": [
            "\n",
            "      Epoch    GPU_mem   box_loss   cls_loss   dfl_loss  Instances       Size\n"
          ]
        },
        {
          "name": "stderr",
          "output_type": "stream",
          "text": [
            "     76/100      4.25G      2.584      1.637      3.098          1        640: 100%|██████████| 182/182 [00:37<00:00,  4.82it/s]\n",
            "                 Class     Images  Instances      Box(P          R      mAP50  mAP50-95): 100%|██████████| 91/91 [00:17<00:00,  5.21it/s]"
          ]
        },
        {
          "name": "stdout",
          "output_type": "stream",
          "text": [
            "                   all       2898       3318       0.93      0.863      0.947       0.63\n"
          ]
        },
        {
          "name": "stderr",
          "output_type": "stream",
          "text": [
            "\n"
          ]
        },
        {
          "name": "stdout",
          "output_type": "stream",
          "text": [
            "\n",
            "      Epoch    GPU_mem   box_loss   cls_loss   dfl_loss  Instances       Size\n"
          ]
        },
        {
          "name": "stderr",
          "output_type": "stream",
          "text": [
            "     77/100      4.25G      2.533      1.615      3.072          4        640: 100%|██████████| 182/182 [00:37<00:00,  4.81it/s]\n",
            "                 Class     Images  Instances      Box(P          R      mAP50  mAP50-95): 100%|██████████| 91/91 [00:17<00:00,  5.20it/s]"
          ]
        },
        {
          "name": "stdout",
          "output_type": "stream",
          "text": [
            "                   all       2898       3318      0.939      0.865       0.95      0.632\n"
          ]
        },
        {
          "name": "stderr",
          "output_type": "stream",
          "text": [
            "\n"
          ]
        },
        {
          "name": "stdout",
          "output_type": "stream",
          "text": [
            "\n",
            "      Epoch    GPU_mem   box_loss   cls_loss   dfl_loss  Instances       Size\n"
          ]
        },
        {
          "name": "stderr",
          "output_type": "stream",
          "text": [
            "     78/100      4.25G      2.569       1.63      3.086          6        640: 100%|██████████| 182/182 [00:37<00:00,  4.81it/s]\n",
            "                 Class     Images  Instances      Box(P          R      mAP50  mAP50-95): 100%|██████████| 91/91 [00:17<00:00,  5.28it/s]"
          ]
        },
        {
          "name": "stdout",
          "output_type": "stream",
          "text": [
            "                   all       2898       3318      0.939      0.876      0.956       0.64\n"
          ]
        },
        {
          "name": "stderr",
          "output_type": "stream",
          "text": [
            "\n"
          ]
        },
        {
          "name": "stdout",
          "output_type": "stream",
          "text": [
            "\n",
            "      Epoch    GPU_mem   box_loss   cls_loss   dfl_loss  Instances       Size\n"
          ]
        },
        {
          "name": "stderr",
          "output_type": "stream",
          "text": [
            "     79/100      4.25G      2.545      1.617      3.058          6        640: 100%|██████████| 182/182 [00:37<00:00,  4.81it/s]\n",
            "                 Class     Images  Instances      Box(P          R      mAP50  mAP50-95): 100%|██████████| 91/91 [00:17<00:00,  5.30it/s]"
          ]
        },
        {
          "name": "stdout",
          "output_type": "stream",
          "text": [
            "                   all       2898       3318      0.935      0.869      0.953      0.633\n"
          ]
        },
        {
          "name": "stderr",
          "output_type": "stream",
          "text": [
            "\n"
          ]
        },
        {
          "name": "stdout",
          "output_type": "stream",
          "text": [
            "\n",
            "      Epoch    GPU_mem   box_loss   cls_loss   dfl_loss  Instances       Size\n"
          ]
        },
        {
          "name": "stderr",
          "output_type": "stream",
          "text": [
            "     80/100      4.25G      2.576      1.644       3.07          5        640: 100%|██████████| 182/182 [00:37<00:00,  4.81it/s]\n",
            "                 Class     Images  Instances      Box(P          R      mAP50  mAP50-95): 100%|██████████| 91/91 [00:17<00:00,  5.33it/s]"
          ]
        },
        {
          "name": "stdout",
          "output_type": "stream",
          "text": [
            "                   all       2898       3318      0.938      0.874      0.955       0.64\n"
          ]
        },
        {
          "name": "stderr",
          "output_type": "stream",
          "text": [
            "\n"
          ]
        },
        {
          "name": "stdout",
          "output_type": "stream",
          "text": [
            "\n",
            "      Epoch    GPU_mem   box_loss   cls_loss   dfl_loss  Instances       Size\n"
          ]
        },
        {
          "name": "stderr",
          "output_type": "stream",
          "text": [
            "     81/100      4.25G      2.509      1.579      3.032          5        640: 100%|██████████| 182/182 [00:37<00:00,  4.83it/s]\n",
            "                 Class     Images  Instances      Box(P          R      mAP50  mAP50-95): 100%|██████████| 91/91 [00:17<00:00,  5.29it/s]"
          ]
        },
        {
          "name": "stdout",
          "output_type": "stream",
          "text": [
            "                   all       2898       3318      0.943      0.869      0.952      0.637\n"
          ]
        },
        {
          "name": "stderr",
          "output_type": "stream",
          "text": [
            "\n"
          ]
        },
        {
          "name": "stdout",
          "output_type": "stream",
          "text": [
            "\n",
            "      Epoch    GPU_mem   box_loss   cls_loss   dfl_loss  Instances       Size\n"
          ]
        },
        {
          "name": "stderr",
          "output_type": "stream",
          "text": [
            "     82/100      4.25G      2.546      1.614      3.065          2        640: 100%|██████████| 182/182 [00:38<00:00,  4.78it/s]\n",
            "                 Class     Images  Instances      Box(P          R      mAP50  mAP50-95): 100%|██████████| 91/91 [00:17<00:00,  5.32it/s]"
          ]
        },
        {
          "name": "stdout",
          "output_type": "stream",
          "text": [
            "                   all       2898       3318      0.938      0.874      0.955      0.643\n"
          ]
        },
        {
          "name": "stderr",
          "output_type": "stream",
          "text": [
            "\n"
          ]
        },
        {
          "name": "stdout",
          "output_type": "stream",
          "text": [
            "\n",
            "      Epoch    GPU_mem   box_loss   cls_loss   dfl_loss  Instances       Size\n"
          ]
        },
        {
          "name": "stderr",
          "output_type": "stream",
          "text": [
            "     83/100      4.25G      2.486      1.557      3.029          4        640: 100%|██████████| 182/182 [00:37<00:00,  4.84it/s]\n",
            "                 Class     Images  Instances      Box(P          R      mAP50  mAP50-95): 100%|██████████| 91/91 [00:17<00:00,  5.32it/s]"
          ]
        },
        {
          "name": "stdout",
          "output_type": "stream",
          "text": [
            "                   all       2898       3318      0.944      0.888      0.957       0.65\n"
          ]
        },
        {
          "name": "stderr",
          "output_type": "stream",
          "text": [
            "\n"
          ]
        },
        {
          "name": "stdout",
          "output_type": "stream",
          "text": [
            "\n",
            "      Epoch    GPU_mem   box_loss   cls_loss   dfl_loss  Instances       Size\n"
          ]
        },
        {
          "name": "stderr",
          "output_type": "stream",
          "text": [
            "     84/100      4.25G      2.536      1.601      3.038          6        640: 100%|██████████| 182/182 [00:37<00:00,  4.82it/s]\n",
            "                 Class     Images  Instances      Box(P          R      mAP50  mAP50-95): 100%|██████████| 91/91 [00:17<00:00,  5.31it/s]"
          ]
        },
        {
          "name": "stdout",
          "output_type": "stream",
          "text": [
            "                   all       2898       3318      0.934      0.888      0.956      0.645\n"
          ]
        },
        {
          "name": "stderr",
          "output_type": "stream",
          "text": [
            "\n"
          ]
        },
        {
          "name": "stdout",
          "output_type": "stream",
          "text": [
            "\n",
            "      Epoch    GPU_mem   box_loss   cls_loss   dfl_loss  Instances       Size\n"
          ]
        },
        {
          "name": "stderr",
          "output_type": "stream",
          "text": [
            "     85/100      4.25G      2.549      1.605      3.057          5        640: 100%|██████████| 182/182 [00:37<00:00,  4.81it/s]\n",
            "                 Class     Images  Instances      Box(P          R      mAP50  mAP50-95): 100%|██████████| 91/91 [00:17<00:00,  5.31it/s]"
          ]
        },
        {
          "name": "stdout",
          "output_type": "stream",
          "text": [
            "                   all       2898       3318      0.938      0.882       0.95      0.649\n"
          ]
        },
        {
          "name": "stderr",
          "output_type": "stream",
          "text": [
            "\n"
          ]
        },
        {
          "name": "stdout",
          "output_type": "stream",
          "text": [
            "\n",
            "      Epoch    GPU_mem   box_loss   cls_loss   dfl_loss  Instances       Size\n"
          ]
        },
        {
          "name": "stderr",
          "output_type": "stream",
          "text": [
            "     86/100      4.25G      2.465      1.544      3.017          2        640: 100%|██████████| 182/182 [00:37<00:00,  4.82it/s]\n",
            "                 Class     Images  Instances      Box(P          R      mAP50  mAP50-95): 100%|██████████| 91/91 [00:17<00:00,  5.17it/s]"
          ]
        },
        {
          "name": "stdout",
          "output_type": "stream",
          "text": [
            "                   all       2898       3318       0.94      0.871      0.948      0.647\n"
          ]
        },
        {
          "name": "stderr",
          "output_type": "stream",
          "text": [
            "\n"
          ]
        },
        {
          "name": "stdout",
          "output_type": "stream",
          "text": [
            "\n",
            "      Epoch    GPU_mem   box_loss   cls_loss   dfl_loss  Instances       Size\n"
          ]
        },
        {
          "name": "stderr",
          "output_type": "stream",
          "text": [
            "     87/100      4.25G      2.538      1.636      3.043          6        640: 100%|██████████| 182/182 [00:37<00:00,  4.82it/s]\n",
            "                 Class     Images  Instances      Box(P          R      mAP50  mAP50-95): 100%|██████████| 91/91 [00:17<00:00,  5.35it/s]"
          ]
        },
        {
          "name": "stdout",
          "output_type": "stream",
          "text": [
            "                   all       2898       3318      0.932       0.88       0.95      0.649\n"
          ]
        },
        {
          "name": "stderr",
          "output_type": "stream",
          "text": [
            "\n"
          ]
        },
        {
          "name": "stdout",
          "output_type": "stream",
          "text": [
            "\n",
            "      Epoch    GPU_mem   box_loss   cls_loss   dfl_loss  Instances       Size\n"
          ]
        },
        {
          "name": "stderr",
          "output_type": "stream",
          "text": [
            "     88/100      4.25G       2.52      1.556      3.035          3        640: 100%|██████████| 182/182 [00:37<00:00,  4.83it/s]\n",
            "                 Class     Images  Instances      Box(P          R      mAP50  mAP50-95): 100%|██████████| 91/91 [00:17<00:00,  5.34it/s]"
          ]
        },
        {
          "name": "stdout",
          "output_type": "stream",
          "text": [
            "                   all       2898       3318      0.933      0.883      0.955      0.651\n"
          ]
        },
        {
          "name": "stderr",
          "output_type": "stream",
          "text": [
            "\n"
          ]
        },
        {
          "name": "stdout",
          "output_type": "stream",
          "text": [
            "\n",
            "      Epoch    GPU_mem   box_loss   cls_loss   dfl_loss  Instances       Size\n"
          ]
        },
        {
          "name": "stderr",
          "output_type": "stream",
          "text": [
            "     89/100      4.25G      2.461      1.555      2.999          4        640: 100%|██████████| 182/182 [00:37<00:00,  4.85it/s]\n",
            "                 Class     Images  Instances      Box(P          R      mAP50  mAP50-95): 100%|██████████| 91/91 [00:17<00:00,  5.33it/s]"
          ]
        },
        {
          "name": "stdout",
          "output_type": "stream",
          "text": [
            "                   all       2898       3318       0.94      0.883      0.956      0.657\n"
          ]
        },
        {
          "name": "stderr",
          "output_type": "stream",
          "text": [
            "\n"
          ]
        },
        {
          "name": "stdout",
          "output_type": "stream",
          "text": [
            "\n",
            "      Epoch    GPU_mem   box_loss   cls_loss   dfl_loss  Instances       Size\n"
          ]
        },
        {
          "name": "stderr",
          "output_type": "stream",
          "text": [
            "     90/100      4.25G      2.518      1.604      3.021          2        640: 100%|██████████| 182/182 [00:37<00:00,  4.84it/s]\n",
            "                 Class     Images  Instances      Box(P          R      mAP50  mAP50-95): 100%|██████████| 91/91 [00:17<00:00,  5.18it/s]"
          ]
        },
        {
          "name": "stdout",
          "output_type": "stream",
          "text": [
            "                   all       2898       3318      0.938      0.884      0.958      0.658\n"
          ]
        },
        {
          "name": "stderr",
          "output_type": "stream",
          "text": [
            "\n"
          ]
        },
        {
          "name": "stdout",
          "output_type": "stream",
          "text": [
            "Closing dataloader mosaic\n",
            "\u001b[34m\u001b[1malbumentations: \u001b[0mBlur(p=0.01, blur_limit=(3, 7)), MedianBlur(p=0.01, blur_limit=(3, 7)), ToGray(p=0.01, num_output_channels=3, method='weighted_average'), CLAHE(p=0.01, clip_limit=(1.0, 4.0), tile_grid_size=(8, 8))\n",
            "\n",
            "      Epoch    GPU_mem   box_loss   cls_loss   dfl_loss  Instances       Size\n"
          ]
        },
        {
          "name": "stderr",
          "output_type": "stream",
          "text": [
            "     91/100      4.25G      2.395      1.035      2.939          2        640: 100%|██████████| 182/182 [00:38<00:00,  4.70it/s]\n",
            "                 Class     Images  Instances      Box(P          R      mAP50  mAP50-95): 100%|██████████| 91/91 [00:17<00:00,  5.34it/s]"
          ]
        },
        {
          "name": "stdout",
          "output_type": "stream",
          "text": [
            "                   all       2898       3318      0.929      0.894      0.957      0.652\n"
          ]
        },
        {
          "name": "stderr",
          "output_type": "stream",
          "text": [
            "\n"
          ]
        },
        {
          "name": "stdout",
          "output_type": "stream",
          "text": [
            "\n",
            "      Epoch    GPU_mem   box_loss   cls_loss   dfl_loss  Instances       Size\n"
          ]
        },
        {
          "name": "stderr",
          "output_type": "stream",
          "text": [
            "     92/100      4.25G      2.418       1.02      2.964          2        640: 100%|██████████| 182/182 [00:37<00:00,  4.86it/s]\n",
            "                 Class     Images  Instances      Box(P          R      mAP50  mAP50-95): 100%|██████████| 91/91 [00:17<00:00,  5.29it/s]"
          ]
        },
        {
          "name": "stdout",
          "output_type": "stream",
          "text": [
            "                   all       2898       3318       0.94      0.877      0.952      0.649\n"
          ]
        },
        {
          "name": "stderr",
          "output_type": "stream",
          "text": [
            "\n"
          ]
        },
        {
          "name": "stdout",
          "output_type": "stream",
          "text": [
            "\n",
            "      Epoch    GPU_mem   box_loss   cls_loss   dfl_loss  Instances       Size\n"
          ]
        },
        {
          "name": "stderr",
          "output_type": "stream",
          "text": [
            "     93/100      4.25G      2.367     0.9862      2.916          2        640: 100%|██████████| 182/182 [00:37<00:00,  4.86it/s]\n",
            "                 Class     Images  Instances      Box(P          R      mAP50  mAP50-95): 100%|██████████| 91/91 [00:17<00:00,  5.23it/s]"
          ]
        },
        {
          "name": "stdout",
          "output_type": "stream",
          "text": [
            "                   all       2898       3318      0.938      0.888      0.953      0.654\n"
          ]
        },
        {
          "name": "stderr",
          "output_type": "stream",
          "text": [
            "\n"
          ]
        },
        {
          "name": "stdout",
          "output_type": "stream",
          "text": [
            "\n",
            "      Epoch    GPU_mem   box_loss   cls_loss   dfl_loss  Instances       Size\n"
          ]
        },
        {
          "name": "stderr",
          "output_type": "stream",
          "text": [
            "     94/100      4.25G      2.399     0.9727      2.948          2        640: 100%|██████████| 182/182 [00:37<00:00,  4.85it/s]\n",
            "                 Class     Images  Instances      Box(P          R      mAP50  mAP50-95): 100%|██████████| 91/91 [00:17<00:00,  5.35it/s]"
          ]
        },
        {
          "name": "stdout",
          "output_type": "stream",
          "text": [
            "                   all       2898       3318      0.942      0.889      0.953      0.654\n"
          ]
        },
        {
          "name": "stderr",
          "output_type": "stream",
          "text": [
            "\n"
          ]
        },
        {
          "name": "stdout",
          "output_type": "stream",
          "text": [
            "\n",
            "      Epoch    GPU_mem   box_loss   cls_loss   dfl_loss  Instances       Size\n"
          ]
        },
        {
          "name": "stderr",
          "output_type": "stream",
          "text": [
            "     95/100      4.25G      2.366     0.9835      2.915          2        640: 100%|██████████| 182/182 [00:38<00:00,  4.78it/s]\n",
            "                 Class     Images  Instances      Box(P          R      mAP50  mAP50-95): 100%|██████████| 91/91 [00:17<00:00,  5.25it/s]"
          ]
        },
        {
          "name": "stdout",
          "output_type": "stream",
          "text": [
            "                   all       2898       3318      0.939      0.886      0.953      0.657\n"
          ]
        },
        {
          "name": "stderr",
          "output_type": "stream",
          "text": [
            "\n"
          ]
        },
        {
          "name": "stdout",
          "output_type": "stream",
          "text": [
            "\n",
            "      Epoch    GPU_mem   box_loss   cls_loss   dfl_loss  Instances       Size\n"
          ]
        },
        {
          "name": "stderr",
          "output_type": "stream",
          "text": [
            "     96/100      4.25G      2.352     0.9618      2.919          2        640: 100%|██████████| 182/182 [00:37<00:00,  4.87it/s]\n",
            "                 Class     Images  Instances      Box(P          R      mAP50  mAP50-95): 100%|██████████| 91/91 [00:17<00:00,  5.30it/s]"
          ]
        },
        {
          "name": "stdout",
          "output_type": "stream",
          "text": [
            "                   all       2898       3318      0.936      0.888      0.957      0.661\n"
          ]
        },
        {
          "name": "stderr",
          "output_type": "stream",
          "text": [
            "\n"
          ]
        },
        {
          "name": "stdout",
          "output_type": "stream",
          "text": [
            "\n",
            "      Epoch    GPU_mem   box_loss   cls_loss   dfl_loss  Instances       Size\n"
          ]
        },
        {
          "name": "stderr",
          "output_type": "stream",
          "text": [
            "     97/100      4.25G      2.337     0.9614      2.906          2        640: 100%|██████████| 182/182 [00:37<00:00,  4.84it/s]\n",
            "                 Class     Images  Instances      Box(P          R      mAP50  mAP50-95): 100%|██████████| 91/91 [00:17<00:00,  5.27it/s]"
          ]
        },
        {
          "name": "stdout",
          "output_type": "stream",
          "text": [
            "                   all       2898       3318      0.946      0.888       0.96      0.664\n"
          ]
        },
        {
          "name": "stderr",
          "output_type": "stream",
          "text": [
            "\n"
          ]
        },
        {
          "name": "stdout",
          "output_type": "stream",
          "text": [
            "\n",
            "      Epoch    GPU_mem   box_loss   cls_loss   dfl_loss  Instances       Size\n"
          ]
        },
        {
          "name": "stderr",
          "output_type": "stream",
          "text": [
            "     98/100      4.25G      2.332     0.9546      2.904          2        640: 100%|██████████| 182/182 [00:37<00:00,  4.87it/s]\n",
            "                 Class     Images  Instances      Box(P          R      mAP50  mAP50-95): 100%|██████████| 91/91 [00:17<00:00,  5.26it/s]"
          ]
        },
        {
          "name": "stdout",
          "output_type": "stream",
          "text": [
            "                   all       2898       3318      0.942      0.885      0.958      0.662\n"
          ]
        },
        {
          "name": "stderr",
          "output_type": "stream",
          "text": [
            "\n"
          ]
        },
        {
          "name": "stdout",
          "output_type": "stream",
          "text": [
            "\n",
            "      Epoch    GPU_mem   box_loss   cls_loss   dfl_loss  Instances       Size\n"
          ]
        },
        {
          "name": "stderr",
          "output_type": "stream",
          "text": [
            "     99/100      4.25G      2.333     0.9568      2.902          2        640: 100%|██████████| 182/182 [00:37<00:00,  4.87it/s]\n",
            "                 Class     Images  Instances      Box(P          R      mAP50  mAP50-95): 100%|██████████| 91/91 [00:17<00:00,  5.35it/s]"
          ]
        },
        {
          "name": "stdout",
          "output_type": "stream",
          "text": [
            "                   all       2898       3318      0.934      0.893      0.959      0.666\n"
          ]
        },
        {
          "name": "stderr",
          "output_type": "stream",
          "text": [
            "\n"
          ]
        },
        {
          "name": "stdout",
          "output_type": "stream",
          "text": [
            "\n",
            "      Epoch    GPU_mem   box_loss   cls_loss   dfl_loss  Instances       Size\n"
          ]
        },
        {
          "name": "stderr",
          "output_type": "stream",
          "text": [
            "    100/100      4.25G       2.31     0.9333      2.867          3        640: 100%|██████████| 182/182 [00:37<00:00,  4.84it/s]\n",
            "                 Class     Images  Instances      Box(P          R      mAP50  mAP50-95): 100%|██████████| 91/91 [00:17<00:00,  5.32it/s]"
          ]
        },
        {
          "name": "stdout",
          "output_type": "stream",
          "text": [
            "                   all       2898       3318      0.947      0.884      0.959      0.669\n"
          ]
        },
        {
          "name": "stderr",
          "output_type": "stream",
          "text": [
            "\n"
          ]
        },
        {
          "name": "stdout",
          "output_type": "stream",
          "text": [
            "\n",
            "100 epochs completed in 1.558 hours.\n",
            "Optimizer stripped from runs/detect/train/weights/last.pt, 5.7MB\n",
            "Optimizer stripped from runs/detect/train/weights/best.pt, 5.7MB\n",
            "\n",
            "Validating runs/detect/train/weights/best.pt...\n",
            "Ultralytics 8.3.92 🚀 Python-3.11.11 torch-2.6.0+cu124 CUDA:0 (Tesla T4, 15095MiB)\n",
            "YOLOv10n summary (fused): 125 layers, 2,694,806 parameters, 0 gradients, 8.2 GFLOPs\n"
          ]
        },
        {
          "name": "stderr",
          "output_type": "stream",
          "text": [
            "                 Class     Images  Instances      Box(P          R      mAP50  mAP50-95): 100%|██████████| 91/91 [00:16<00:00,  5.52it/s]\n"
          ]
        },
        {
          "name": "stdout",
          "output_type": "stream",
          "text": [
            "                   all       2898       3318      0.947      0.886      0.959      0.669\n",
            "Speed: 0.1ms preprocess, 2.0ms inference, 0.0ms loss, 0.2ms postprocess per image\n",
            "Results saved to \u001b[1mruns/detect/train\u001b[0m\n"
          ]
        },
        {
          "data": {
            "text/plain": [
              "ultralytics.utils.metrics.DetMetrics object with attributes:\n",
              "\n",
              "ap_class_index: array([0])\n",
              "box: ultralytics.utils.metrics.Metric object\n",
              "confusion_matrix: <ultralytics.utils.metrics.ConfusionMatrix object at 0x7fa48d1fed10>\n",
              "curves: ['Precision-Recall(B)', 'F1-Confidence(B)', 'Precision-Confidence(B)', 'Recall-Confidence(B)']\n",
              "curves_results: [[array([          0,    0.001001,    0.002002,    0.003003,    0.004004,    0.005005,    0.006006,    0.007007,    0.008008,    0.009009,     0.01001,    0.011011,    0.012012,    0.013013,    0.014014,    0.015015,    0.016016,    0.017017,    0.018018,    0.019019,     0.02002,    0.021021,    0.022022,    0.023023,\n",
              "          0.024024,    0.025025,    0.026026,    0.027027,    0.028028,    0.029029,     0.03003,    0.031031,    0.032032,    0.033033,    0.034034,    0.035035,    0.036036,    0.037037,    0.038038,    0.039039,     0.04004,    0.041041,    0.042042,    0.043043,    0.044044,    0.045045,    0.046046,    0.047047,\n",
              "          0.048048,    0.049049,     0.05005,    0.051051,    0.052052,    0.053053,    0.054054,    0.055055,    0.056056,    0.057057,    0.058058,    0.059059,     0.06006,    0.061061,    0.062062,    0.063063,    0.064064,    0.065065,    0.066066,    0.067067,    0.068068,    0.069069,     0.07007,    0.071071,\n",
              "          0.072072,    0.073073,    0.074074,    0.075075,    0.076076,    0.077077,    0.078078,    0.079079,     0.08008,    0.081081,    0.082082,    0.083083,    0.084084,    0.085085,    0.086086,    0.087087,    0.088088,    0.089089,     0.09009,    0.091091,    0.092092,    0.093093,    0.094094,    0.095095,\n",
              "          0.096096,    0.097097,    0.098098,    0.099099,      0.1001,      0.1011,      0.1021,      0.1031,      0.1041,     0.10511,     0.10611,     0.10711,     0.10811,     0.10911,     0.11011,     0.11111,     0.11211,     0.11311,     0.11411,     0.11512,     0.11612,     0.11712,     0.11812,     0.11912,\n",
              "           0.12012,     0.12112,     0.12212,     0.12312,     0.12412,     0.12513,     0.12613,     0.12713,     0.12813,     0.12913,     0.13013,     0.13113,     0.13213,     0.13313,     0.13413,     0.13514,     0.13614,     0.13714,     0.13814,     0.13914,     0.14014,     0.14114,     0.14214,     0.14314,\n",
              "           0.14414,     0.14515,     0.14615,     0.14715,     0.14815,     0.14915,     0.15015,     0.15115,     0.15215,     0.15315,     0.15415,     0.15516,     0.15616,     0.15716,     0.15816,     0.15916,     0.16016,     0.16116,     0.16216,     0.16316,     0.16416,     0.16517,     0.16617,     0.16717,\n",
              "           0.16817,     0.16917,     0.17017,     0.17117,     0.17217,     0.17317,     0.17417,     0.17518,     0.17618,     0.17718,     0.17818,     0.17918,     0.18018,     0.18118,     0.18218,     0.18318,     0.18418,     0.18519,     0.18619,     0.18719,     0.18819,     0.18919,     0.19019,     0.19119,\n",
              "           0.19219,     0.19319,     0.19419,      0.1952,      0.1962,      0.1972,      0.1982,      0.1992,      0.2002,      0.2012,      0.2022,      0.2032,      0.2042,     0.20521,     0.20621,     0.20721,     0.20821,     0.20921,     0.21021,     0.21121,     0.21221,     0.21321,     0.21421,     0.21522,\n",
              "           0.21622,     0.21722,     0.21822,     0.21922,     0.22022,     0.22122,     0.22222,     0.22322,     0.22422,     0.22523,     0.22623,     0.22723,     0.22823,     0.22923,     0.23023,     0.23123,     0.23223,     0.23323,     0.23423,     0.23524,     0.23624,     0.23724,     0.23824,     0.23924,\n",
              "           0.24024,     0.24124,     0.24224,     0.24324,     0.24424,     0.24525,     0.24625,     0.24725,     0.24825,     0.24925,     0.25025,     0.25125,     0.25225,     0.25325,     0.25425,     0.25526,     0.25626,     0.25726,     0.25826,     0.25926,     0.26026,     0.26126,     0.26226,     0.26326,\n",
              "           0.26426,     0.26527,     0.26627,     0.26727,     0.26827,     0.26927,     0.27027,     0.27127,     0.27227,     0.27327,     0.27427,     0.27528,     0.27628,     0.27728,     0.27828,     0.27928,     0.28028,     0.28128,     0.28228,     0.28328,     0.28428,     0.28529,     0.28629,     0.28729,\n",
              "           0.28829,     0.28929,     0.29029,     0.29129,     0.29229,     0.29329,     0.29429,      0.2953,      0.2963,      0.2973,      0.2983,      0.2993,      0.3003,      0.3013,      0.3023,      0.3033,      0.3043,     0.30531,     0.30631,     0.30731,     0.30831,     0.30931,     0.31031,     0.31131,\n",
              "           0.31231,     0.31331,     0.31431,     0.31532,     0.31632,     0.31732,     0.31832,     0.31932,     0.32032,     0.32132,     0.32232,     0.32332,     0.32432,     0.32533,     0.32633,     0.32733,     0.32833,     0.32933,     0.33033,     0.33133,     0.33233,     0.33333,     0.33433,     0.33534,\n",
              "           0.33634,     0.33734,     0.33834,     0.33934,     0.34034,     0.34134,     0.34234,     0.34334,     0.34434,     0.34535,     0.34635,     0.34735,     0.34835,     0.34935,     0.35035,     0.35135,     0.35235,     0.35335,     0.35435,     0.35536,     0.35636,     0.35736,     0.35836,     0.35936,\n",
              "           0.36036,     0.36136,     0.36236,     0.36336,     0.36436,     0.36537,     0.36637,     0.36737,     0.36837,     0.36937,     0.37037,     0.37137,     0.37237,     0.37337,     0.37437,     0.37538,     0.37638,     0.37738,     0.37838,     0.37938,     0.38038,     0.38138,     0.38238,     0.38338,\n",
              "           0.38438,     0.38539,     0.38639,     0.38739,     0.38839,     0.38939,     0.39039,     0.39139,     0.39239,     0.39339,     0.39439,      0.3954,      0.3964,      0.3974,      0.3984,      0.3994,      0.4004,      0.4014,      0.4024,      0.4034,      0.4044,     0.40541,     0.40641,     0.40741,\n",
              "           0.40841,     0.40941,     0.41041,     0.41141,     0.41241,     0.41341,     0.41441,     0.41542,     0.41642,     0.41742,     0.41842,     0.41942,     0.42042,     0.42142,     0.42242,     0.42342,     0.42442,     0.42543,     0.42643,     0.42743,     0.42843,     0.42943,     0.43043,     0.43143,\n",
              "           0.43243,     0.43343,     0.43443,     0.43544,     0.43644,     0.43744,     0.43844,     0.43944,     0.44044,     0.44144,     0.44244,     0.44344,     0.44444,     0.44545,     0.44645,     0.44745,     0.44845,     0.44945,     0.45045,     0.45145,     0.45245,     0.45345,     0.45445,     0.45546,\n",
              "           0.45646,     0.45746,     0.45846,     0.45946,     0.46046,     0.46146,     0.46246,     0.46346,     0.46446,     0.46547,     0.46647,     0.46747,     0.46847,     0.46947,     0.47047,     0.47147,     0.47247,     0.47347,     0.47447,     0.47548,     0.47648,     0.47748,     0.47848,     0.47948,\n",
              "           0.48048,     0.48148,     0.48248,     0.48348,     0.48448,     0.48549,     0.48649,     0.48749,     0.48849,     0.48949,     0.49049,     0.49149,     0.49249,     0.49349,     0.49449,      0.4955,      0.4965,      0.4975,      0.4985,      0.4995,      0.5005,      0.5015,      0.5025,      0.5035,\n",
              "            0.5045,     0.50551,     0.50651,     0.50751,     0.50851,     0.50951,     0.51051,     0.51151,     0.51251,     0.51351,     0.51451,     0.51552,     0.51652,     0.51752,     0.51852,     0.51952,     0.52052,     0.52152,     0.52252,     0.52352,     0.52452,     0.52553,     0.52653,     0.52753,\n",
              "           0.52853,     0.52953,     0.53053,     0.53153,     0.53253,     0.53353,     0.53453,     0.53554,     0.53654,     0.53754,     0.53854,     0.53954,     0.54054,     0.54154,     0.54254,     0.54354,     0.54454,     0.54555,     0.54655,     0.54755,     0.54855,     0.54955,     0.55055,     0.55155,\n",
              "           0.55255,     0.55355,     0.55455,     0.55556,     0.55656,     0.55756,     0.55856,     0.55956,     0.56056,     0.56156,     0.56256,     0.56356,     0.56456,     0.56557,     0.56657,     0.56757,     0.56857,     0.56957,     0.57057,     0.57157,     0.57257,     0.57357,     0.57457,     0.57558,\n",
              "           0.57658,     0.57758,     0.57858,     0.57958,     0.58058,     0.58158,     0.58258,     0.58358,     0.58458,     0.58559,     0.58659,     0.58759,     0.58859,     0.58959,     0.59059,     0.59159,     0.59259,     0.59359,     0.59459,      0.5956,      0.5966,      0.5976,      0.5986,      0.5996,\n",
              "            0.6006,      0.6016,      0.6026,      0.6036,      0.6046,     0.60561,     0.60661,     0.60761,     0.60861,     0.60961,     0.61061,     0.61161,     0.61261,     0.61361,     0.61461,     0.61562,     0.61662,     0.61762,     0.61862,     0.61962,     0.62062,     0.62162,     0.62262,     0.62362,\n",
              "           0.62462,     0.62563,     0.62663,     0.62763,     0.62863,     0.62963,     0.63063,     0.63163,     0.63263,     0.63363,     0.63463,     0.63564,     0.63664,     0.63764,     0.63864,     0.63964,     0.64064,     0.64164,     0.64264,     0.64364,     0.64464,     0.64565,     0.64665,     0.64765,\n",
              "           0.64865,     0.64965,     0.65065,     0.65165,     0.65265,     0.65365,     0.65465,     0.65566,     0.65666,     0.65766,     0.65866,     0.65966,     0.66066,     0.66166,     0.66266,     0.66366,     0.66466,     0.66567,     0.66667,     0.66767,     0.66867,     0.66967,     0.67067,     0.67167,\n",
              "           0.67267,     0.67367,     0.67467,     0.67568,     0.67668,     0.67768,     0.67868,     0.67968,     0.68068,     0.68168,     0.68268,     0.68368,     0.68468,     0.68569,     0.68669,     0.68769,     0.68869,     0.68969,     0.69069,     0.69169,     0.69269,     0.69369,     0.69469,      0.6957,\n",
              "            0.6967,      0.6977,      0.6987,      0.6997,      0.7007,      0.7017,      0.7027,      0.7037,      0.7047,     0.70571,     0.70671,     0.70771,     0.70871,     0.70971,     0.71071,     0.71171,     0.71271,     0.71371,     0.71471,     0.71572,     0.71672,     0.71772,     0.71872,     0.71972,\n",
              "           0.72072,     0.72172,     0.72272,     0.72372,     0.72472,     0.72573,     0.72673,     0.72773,     0.72873,     0.72973,     0.73073,     0.73173,     0.73273,     0.73373,     0.73473,     0.73574,     0.73674,     0.73774,     0.73874,     0.73974,     0.74074,     0.74174,     0.74274,     0.74374,\n",
              "           0.74474,     0.74575,     0.74675,     0.74775,     0.74875,     0.74975,     0.75075,     0.75175,     0.75275,     0.75375,     0.75475,     0.75576,     0.75676,     0.75776,     0.75876,     0.75976,     0.76076,     0.76176,     0.76276,     0.76376,     0.76476,     0.76577,     0.76677,     0.76777,\n",
              "           0.76877,     0.76977,     0.77077,     0.77177,     0.77277,     0.77377,     0.77477,     0.77578,     0.77678,     0.77778,     0.77878,     0.77978,     0.78078,     0.78178,     0.78278,     0.78378,     0.78478,     0.78579,     0.78679,     0.78779,     0.78879,     0.78979,     0.79079,     0.79179,\n",
              "           0.79279,     0.79379,     0.79479,      0.7958,      0.7968,      0.7978,      0.7988,      0.7998,      0.8008,      0.8018,      0.8028,      0.8038,      0.8048,     0.80581,     0.80681,     0.80781,     0.80881,     0.80981,     0.81081,     0.81181,     0.81281,     0.81381,     0.81481,     0.81582,\n",
              "           0.81682,     0.81782,     0.81882,     0.81982,     0.82082,     0.82182,     0.82282,     0.82382,     0.82482,     0.82583,     0.82683,     0.82783,     0.82883,     0.82983,     0.83083,     0.83183,     0.83283,     0.83383,     0.83483,     0.83584,     0.83684,     0.83784,     0.83884,     0.83984,\n",
              "           0.84084,     0.84184,     0.84284,     0.84384,     0.84484,     0.84585,     0.84685,     0.84785,     0.84885,     0.84985,     0.85085,     0.85185,     0.85285,     0.85385,     0.85485,     0.85586,     0.85686,     0.85786,     0.85886,     0.85986,     0.86086,     0.86186,     0.86286,     0.86386,\n",
              "           0.86486,     0.86587,     0.86687,     0.86787,     0.86887,     0.86987,     0.87087,     0.87187,     0.87287,     0.87387,     0.87487,     0.87588,     0.87688,     0.87788,     0.87888,     0.87988,     0.88088,     0.88188,     0.88288,     0.88388,     0.88488,     0.88589,     0.88689,     0.88789,\n",
              "           0.88889,     0.88989,     0.89089,     0.89189,     0.89289,     0.89389,     0.89489,      0.8959,      0.8969,      0.8979,      0.8989,      0.8999,      0.9009,      0.9019,      0.9029,      0.9039,      0.9049,     0.90591,     0.90691,     0.90791,     0.90891,     0.90991,     0.91091,     0.91191,\n",
              "           0.91291,     0.91391,     0.91491,     0.91592,     0.91692,     0.91792,     0.91892,     0.91992,     0.92092,     0.92192,     0.92292,     0.92392,     0.92492,     0.92593,     0.92693,     0.92793,     0.92893,     0.92993,     0.93093,     0.93193,     0.93293,     0.93393,     0.93493,     0.93594,\n",
              "           0.93694,     0.93794,     0.93894,     0.93994,     0.94094,     0.94194,     0.94294,     0.94394,     0.94494,     0.94595,     0.94695,     0.94795,     0.94895,     0.94995,     0.95095,     0.95195,     0.95295,     0.95395,     0.95495,     0.95596,     0.95696,     0.95796,     0.95896,     0.95996,\n",
              "           0.96096,     0.96196,     0.96296,     0.96396,     0.96496,     0.96597,     0.96697,     0.96797,     0.96897,     0.96997,     0.97097,     0.97197,     0.97297,     0.97397,     0.97497,     0.97598,     0.97698,     0.97798,     0.97898,     0.97998,     0.98098,     0.98198,     0.98298,     0.98398,\n",
              "           0.98498,     0.98599,     0.98699,     0.98799,     0.98899,     0.98999,     0.99099,     0.99199,     0.99299,     0.99399,     0.99499,       0.996,       0.997,       0.998,       0.999,           1]), array([[          1,           1,           1,           1,           1,           1,           1,           1,           1,           1,           1,           1,           1,           1,           1,           1,           1,           1,           1,           1,           1,           1,           1,\n",
              "                  1,           1,           1,           1,           1,           1,           1,           1,           1,           1,           1,           1,           1,           1,           1,           1,           1,           1,           1,           1,           1,           1,           1,\n",
              "                  1,           1,           1,           1,           1,           1,           1,           1,           1,           1,           1,           1,           1,           1,           1,           1,           1,           1,           1,           1,           1,           1,           1,\n",
              "                  1,           1,           1,           1,           1,           1,           1,           1,           1,           1,           1,           1,           1,           1,           1,           1,           1,           1,           1,           1,           1,           1,     0.99883,\n",
              "            0.99883,     0.99883,     0.99883,     0.99883,     0.99883,     0.99883,     0.99883,     0.99883,     0.99883,     0.99883,     0.99883,     0.99883,     0.99883,     0.99883,     0.99883,     0.99883,     0.99883,     0.99883,     0.99883,     0.99883,     0.99883,     0.99883,     0.99883,\n",
              "            0.99883,     0.99883,     0.99883,     0.99883,     0.99883,     0.99883,     0.99883,     0.99883,     0.99883,     0.99883,     0.99883,     0.99883,     0.99883,     0.99883,     0.99883,     0.99883,     0.99883,     0.99883,     0.99883,     0.99883,     0.99883,     0.99883,     0.99883,\n",
              "            0.99883,     0.99883,     0.99883,     0.99883,     0.99883,     0.99883,     0.99883,     0.99883,     0.99883,     0.99883,     0.99883,     0.99883,     0.99883,     0.99883,     0.99883,     0.99883,     0.99883,     0.99883,     0.99883,     0.99883,     0.99883,     0.99883,     0.99883,\n",
              "            0.99883,     0.99883,     0.99883,     0.99883,     0.99883,     0.99883,     0.99883,     0.99883,     0.99883,     0.99883,     0.99883,     0.99883,     0.99883,     0.99883,     0.99883,     0.99883,     0.99883,     0.99883,     0.99883,     0.99883,     0.99883,     0.99883,     0.99883,\n",
              "            0.99883,     0.99883,     0.99883,     0.99883,     0.99883,     0.99883,     0.99883,     0.99883,     0.99883,     0.99883,     0.99883,     0.99883,     0.99883,     0.99883,     0.99883,     0.99883,     0.99883,     0.99883,     0.99883,     0.99883,     0.99883,     0.99883,     0.99883,\n",
              "            0.99883,     0.99883,     0.99883,     0.99883,     0.99883,     0.99883,     0.99883,     0.99883,     0.99883,     0.99883,     0.99883,     0.99883,     0.99883,     0.99883,     0.99883,     0.99883,     0.99883,     0.99883,     0.99883,     0.99883,     0.99883,     0.99883,     0.99883,\n",
              "            0.99883,     0.99883,     0.99883,     0.99883,     0.99883,     0.99883,     0.99883,     0.99883,     0.99883,     0.99883,     0.99883,     0.99883,     0.99883,     0.99883,     0.99883,     0.99883,     0.99883,     0.99883,     0.99883,     0.99883,     0.99883,     0.99883,     0.99883,\n",
              "            0.99883,     0.99883,     0.99883,     0.99883,     0.99883,     0.99883,     0.99883,     0.99883,     0.99883,     0.99883,     0.99883,     0.99883,     0.99883,     0.99883,     0.99883,     0.99883,     0.99883,     0.99883,     0.99883,     0.99883,     0.99883,     0.99883,     0.99883,\n",
              "            0.99883,     0.99883,     0.99883,     0.99883,     0.99883,     0.99883,     0.99883,     0.99883,     0.99883,     0.99883,     0.99883,     0.99883,     0.99883,     0.99883,     0.99883,     0.99883,     0.99883,     0.99883,     0.99883,     0.99883,     0.99883,     0.99883,     0.99883,\n",
              "            0.99883,     0.99883,     0.99883,     0.99883,     0.99883,     0.99883,     0.99883,     0.99883,     0.99883,     0.99883,     0.99883,     0.99883,     0.99883,     0.99883,     0.99883,     0.99883,     0.99883,     0.99883,     0.99883,     0.99883,     0.99883,     0.99883,     0.99883,\n",
              "            0.99883,     0.99883,     0.99883,     0.99883,     0.99883,     0.99883,     0.99883,     0.99883,     0.99883,     0.99883,     0.99883,     0.99883,     0.99883,     0.99883,     0.99883,     0.99883,     0.99883,     0.99883,     0.99883,     0.99883,     0.99883,     0.99883,     0.99883,\n",
              "            0.99883,     0.99883,     0.99883,     0.99883,     0.99883,     0.99883,     0.99883,     0.99883,     0.99883,     0.99883,     0.99883,     0.99883,     0.99883,     0.99883,     0.99883,     0.99883,     0.99883,     0.99883,     0.99883,     0.99883,     0.99883,     0.99883,     0.99883,\n",
              "            0.99883,     0.99883,     0.99883,     0.99883,     0.99883,     0.99883,     0.99883,     0.99883,     0.99883,     0.99883,     0.99883,     0.99883,     0.99883,     0.99883,     0.99883,     0.99883,     0.99883,     0.99883,     0.99883,     0.99883,     0.99883,     0.99883,     0.99883,\n",
              "            0.99883,     0.99883,     0.99883,     0.99883,     0.99883,     0.99883,     0.99883,     0.99883,     0.99883,     0.99883,     0.99883,     0.99883,     0.99883,     0.99883,     0.99883,     0.99883,     0.99883,     0.99883,     0.99883,     0.99883,     0.99883,     0.99883,     0.99883,\n",
              "            0.99883,     0.99883,     0.99883,     0.99883,     0.99883,     0.99883,     0.99883,     0.99883,     0.99883,     0.99883,     0.99883,     0.99883,     0.99883,     0.99883,     0.99883,     0.99883,     0.99883,     0.99883,     0.99883,     0.99883,     0.99883,     0.99883,     0.99883,\n",
              "            0.99883,     0.99883,     0.99883,     0.99883,     0.99883,     0.99883,     0.99883,     0.99883,     0.99883,     0.99883,     0.99883,     0.99883,     0.99883,     0.99883,     0.99883,     0.99883,     0.99883,     0.99883,     0.99883,     0.99883,     0.99883,     0.99883,     0.99883,\n",
              "            0.99883,     0.99883,     0.99883,     0.99883,     0.99883,     0.99883,     0.99883,     0.99883,     0.99883,     0.99883,     0.99883,     0.99883,     0.99883,     0.99883,     0.99883,     0.99883,     0.99883,     0.99883,     0.99883,     0.99883,     0.99883,     0.99883,     0.99883,\n",
              "            0.99883,     0.99883,     0.99883,     0.99883,     0.99883,     0.99883,     0.99883,     0.99883,     0.99883,     0.99883,     0.99883,     0.99883,     0.99883,     0.99883,     0.99883,     0.99883,     0.99883,     0.99883,     0.99883,     0.99883,     0.99883,     0.99883,     0.99883,\n",
              "            0.99883,     0.99883,     0.99883,     0.99883,     0.99883,     0.99883,     0.99883,     0.99883,     0.99883,     0.99883,     0.99845,     0.99845,     0.99845,     0.99845,     0.99845,     0.99845,     0.99845,     0.99845,     0.99845,     0.99845,     0.99845,     0.99845,     0.99845,\n",
              "            0.99845,     0.99845,     0.99845,     0.99845,     0.99845,     0.99845,     0.99845,     0.99845,     0.99845,     0.99845,     0.99845,     0.99845,     0.99845,     0.99845,     0.99845,     0.99845,     0.99845,     0.99845,     0.99845,     0.99845,     0.99845,     0.99845,     0.99845,\n",
              "            0.99845,     0.99845,     0.99845,     0.99845,     0.99845,     0.99845,     0.99845,     0.99845,     0.99845,     0.99845,     0.99845,     0.99845,     0.99845,     0.99845,     0.99845,     0.99845,     0.99845,     0.99845,     0.99845,     0.99845,     0.99845,     0.99845,     0.99845,\n",
              "            0.99845,     0.99845,     0.99845,     0.99845,     0.99845,     0.99845,     0.99802,     0.99802,     0.99802,     0.99802,     0.99802,     0.99802,     0.99802,     0.99802,     0.99802,     0.99802,     0.99802,     0.99802,     0.99802,     0.99802,     0.99802,     0.99802,     0.99802,\n",
              "            0.99802,     0.99802,     0.99802,     0.99802,     0.99802,     0.99802,     0.99802,     0.99802,     0.99802,     0.99802,     0.99802,      0.9976,      0.9976,      0.9976,      0.9976,      0.9976,      0.9976,      0.9976,      0.9976,      0.9976,      0.9976,      0.9976,      0.9976,\n",
              "             0.9976,      0.9976,      0.9976,      0.9976,      0.9976,     0.99713,     0.99713,     0.99667,     0.99667,     0.99667,     0.99635,     0.99635,     0.99635,     0.99635,     0.99635,     0.99635,     0.99635,     0.99635,     0.99635,     0.99635,     0.99635,     0.99635,     0.99635,\n",
              "            0.99635,     0.99635,     0.99635,     0.99635,     0.99635,     0.99635,     0.99635,     0.99635,     0.99635,     0.99635,     0.99635,     0.99635,     0.99635,      0.9959,      0.9959,     0.99556,     0.99556,     0.99556,     0.99556,     0.99556,     0.99556,     0.99556,     0.99556,\n",
              "            0.99556,     0.99556,     0.99556,     0.99556,     0.99556,     0.99556,     0.99556,     0.99556,     0.99556,     0.99519,     0.99519,     0.99519,     0.99519,     0.99519,     0.99519,     0.99519,     0.99519,     0.99519,     0.99478,     0.99478,     0.99478,     0.99454,     0.99454,\n",
              "            0.99454,     0.99454,     0.99454,     0.99454,     0.99454,     0.99454,     0.99454,     0.99454,     0.99454,     0.99454,     0.99454,     0.99454,     0.99454,     0.99454,     0.99454,     0.99454,     0.99454,     0.99454,     0.99454,     0.99454,     0.99454,     0.99454,     0.99454,\n",
              "            0.99421,     0.99421,     0.99421,     0.99421,     0.99421,     0.99421,     0.99421,     0.99421,     0.99421,     0.99421,     0.99421,     0.99421,     0.99386,     0.99386,     0.99386,     0.99386,     0.99386,     0.99386,     0.99386,     0.99349,     0.99349,     0.99349,     0.99349,\n",
              "            0.99312,     0.99312,     0.99312,     0.99283,     0.99283,     0.99283,     0.99283,     0.99283,     0.99283,     0.99283,     0.99283,     0.99283,     0.99283,     0.99283,     0.99283,      0.9925,      0.9925,      0.9925,      0.9925,      0.9925,      0.9925,      0.9925,     0.99217,\n",
              "            0.99217,     0.99217,     0.99217,     0.99217,     0.99178,     0.99151,     0.99151,     0.99151,     0.99151,     0.99151,     0.99151,     0.99151,     0.99151,     0.99151,     0.99151,     0.99115,     0.99115,     0.99078,     0.99043,     0.99043,     0.99043,     0.99011,     0.99011,\n",
              "            0.99011,     0.99011,     0.98975,     0.98942,     0.98942,     0.98942,     0.98942,     0.98795,     0.98795,     0.98761,     0.98727,     0.98727,     0.98692,     0.98663,     0.98663,     0.98663,     0.98663,     0.98663,     0.98628,     0.98594,     0.98594,     0.98572,     0.98572,\n",
              "            0.98572,     0.98572,     0.98572,     0.98572,     0.98572,     0.98572,      0.9854,      0.9854,     0.98515,     0.98515,     0.98515,     0.98515,     0.98515,     0.98515,     0.98486,     0.98486,     0.98486,     0.98486,     0.98452,     0.98384,     0.98353,     0.98353,     0.98353,\n",
              "            0.98252,     0.98252,     0.98221,     0.98153,     0.98153,     0.98121,     0.98088,     0.97991,     0.97991,     0.97991,     0.97863,     0.97863,     0.97863,     0.97831,     0.97765,      0.9763,      0.9753,     0.97466,     0.97401,     0.97304,     0.97208,     0.97208,     0.97159,\n",
              "            0.97159,     0.97159,     0.97159,     0.97159,      0.9713,     0.97098,     0.97068,      0.9694,      0.9688,      0.9688,      0.9682,     0.96788,     0.96695,     0.96633,     0.96443,     0.96414,     0.96321,      0.9626,     0.96169,     0.96078,     0.96019,     0.95959,     0.95902,\n",
              "            0.95873,     0.95846,     0.95567,     0.95511,     0.95452,     0.95145,     0.95031,     0.94942,     0.94853,     0.94705,     0.94654,     0.94625,     0.94509,     0.94334,     0.94281,     0.94226,     0.93931,      0.9373,     0.93382,     0.93304,     0.93133,     0.93027,        0.93,\n",
              "            0.92835,     0.92813,     0.92762,     0.92427,     0.92348,      0.9227,     0.92109,      0.9206,     0.92039,     0.91743,     0.91608,     0.91449,     0.91019,     0.90512,     0.89982,     0.89804,     0.89681,     0.89137,     0.88759,     0.88463,     0.88418,     0.88249,     0.88186,\n",
              "             0.8759,     0.87425,     0.87042,     0.86929,     0.86191,      0.8603,     0.85922,     0.85528,     0.85119,     0.85061,     0.84561,     0.84351,     0.83975,     0.83464,      0.8299,     0.82365,     0.82097,     0.81556,     0.81485,      0.8133,     0.80283,     0.80051,     0.79903,\n",
              "            0.79176,       0.784,     0.78065,     0.77772,     0.77184,     0.77011,     0.76715,     0.76127,      0.7581,     0.75574,     0.75285,     0.75255,     0.75184,     0.75136,     0.74976,     0.74625,     0.74318,     0.74163,     0.73901,     0.73624,      0.7218,     0.71378,     0.70741,\n",
              "            0.67558,     0.65311,     0.62617,     0.60371,     0.59326,     0.51419,     0.36614,     0.35405,     0.34044,     0.32682,      0.3132,     0.29958,     0.28597,     0.27235,     0.25873,     0.24511,      0.2315,     0.21788,     0.20426,     0.19064,     0.17703,     0.16341,     0.14979,\n",
              "            0.13617,     0.12256,     0.10894,    0.095322,    0.081705,    0.068087,     0.05447,    0.040852,    0.027235,    0.013617,           0]]), 'Recall', 'Precision'], [array([          0,    0.001001,    0.002002,    0.003003,    0.004004,    0.005005,    0.006006,    0.007007,    0.008008,    0.009009,     0.01001,    0.011011,    0.012012,    0.013013,    0.014014,    0.015015,    0.016016,    0.017017,    0.018018,    0.019019,     0.02002,    0.021021,    0.022022,    0.023023,\n",
              "          0.024024,    0.025025,    0.026026,    0.027027,    0.028028,    0.029029,     0.03003,    0.031031,    0.032032,    0.033033,    0.034034,    0.035035,    0.036036,    0.037037,    0.038038,    0.039039,     0.04004,    0.041041,    0.042042,    0.043043,    0.044044,    0.045045,    0.046046,    0.047047,\n",
              "          0.048048,    0.049049,     0.05005,    0.051051,    0.052052,    0.053053,    0.054054,    0.055055,    0.056056,    0.057057,    0.058058,    0.059059,     0.06006,    0.061061,    0.062062,    0.063063,    0.064064,    0.065065,    0.066066,    0.067067,    0.068068,    0.069069,     0.07007,    0.071071,\n",
              "          0.072072,    0.073073,    0.074074,    0.075075,    0.076076,    0.077077,    0.078078,    0.079079,     0.08008,    0.081081,    0.082082,    0.083083,    0.084084,    0.085085,    0.086086,    0.087087,    0.088088,    0.089089,     0.09009,    0.091091,    0.092092,    0.093093,    0.094094,    0.095095,\n",
              "          0.096096,    0.097097,    0.098098,    0.099099,      0.1001,      0.1011,      0.1021,      0.1031,      0.1041,     0.10511,     0.10611,     0.10711,     0.10811,     0.10911,     0.11011,     0.11111,     0.11211,     0.11311,     0.11411,     0.11512,     0.11612,     0.11712,     0.11812,     0.11912,\n",
              "           0.12012,     0.12112,     0.12212,     0.12312,     0.12412,     0.12513,     0.12613,     0.12713,     0.12813,     0.12913,     0.13013,     0.13113,     0.13213,     0.13313,     0.13413,     0.13514,     0.13614,     0.13714,     0.13814,     0.13914,     0.14014,     0.14114,     0.14214,     0.14314,\n",
              "           0.14414,     0.14515,     0.14615,     0.14715,     0.14815,     0.14915,     0.15015,     0.15115,     0.15215,     0.15315,     0.15415,     0.15516,     0.15616,     0.15716,     0.15816,     0.15916,     0.16016,     0.16116,     0.16216,     0.16316,     0.16416,     0.16517,     0.16617,     0.16717,\n",
              "           0.16817,     0.16917,     0.17017,     0.17117,     0.17217,     0.17317,     0.17417,     0.17518,     0.17618,     0.17718,     0.17818,     0.17918,     0.18018,     0.18118,     0.18218,     0.18318,     0.18418,     0.18519,     0.18619,     0.18719,     0.18819,     0.18919,     0.19019,     0.19119,\n",
              "           0.19219,     0.19319,     0.19419,      0.1952,      0.1962,      0.1972,      0.1982,      0.1992,      0.2002,      0.2012,      0.2022,      0.2032,      0.2042,     0.20521,     0.20621,     0.20721,     0.20821,     0.20921,     0.21021,     0.21121,     0.21221,     0.21321,     0.21421,     0.21522,\n",
              "           0.21622,     0.21722,     0.21822,     0.21922,     0.22022,     0.22122,     0.22222,     0.22322,     0.22422,     0.22523,     0.22623,     0.22723,     0.22823,     0.22923,     0.23023,     0.23123,     0.23223,     0.23323,     0.23423,     0.23524,     0.23624,     0.23724,     0.23824,     0.23924,\n",
              "           0.24024,     0.24124,     0.24224,     0.24324,     0.24424,     0.24525,     0.24625,     0.24725,     0.24825,     0.24925,     0.25025,     0.25125,     0.25225,     0.25325,     0.25425,     0.25526,     0.25626,     0.25726,     0.25826,     0.25926,     0.26026,     0.26126,     0.26226,     0.26326,\n",
              "           0.26426,     0.26527,     0.26627,     0.26727,     0.26827,     0.26927,     0.27027,     0.27127,     0.27227,     0.27327,     0.27427,     0.27528,     0.27628,     0.27728,     0.27828,     0.27928,     0.28028,     0.28128,     0.28228,     0.28328,     0.28428,     0.28529,     0.28629,     0.28729,\n",
              "           0.28829,     0.28929,     0.29029,     0.29129,     0.29229,     0.29329,     0.29429,      0.2953,      0.2963,      0.2973,      0.2983,      0.2993,      0.3003,      0.3013,      0.3023,      0.3033,      0.3043,     0.30531,     0.30631,     0.30731,     0.30831,     0.30931,     0.31031,     0.31131,\n",
              "           0.31231,     0.31331,     0.31431,     0.31532,     0.31632,     0.31732,     0.31832,     0.31932,     0.32032,     0.32132,     0.32232,     0.32332,     0.32432,     0.32533,     0.32633,     0.32733,     0.32833,     0.32933,     0.33033,     0.33133,     0.33233,     0.33333,     0.33433,     0.33534,\n",
              "           0.33634,     0.33734,     0.33834,     0.33934,     0.34034,     0.34134,     0.34234,     0.34334,     0.34434,     0.34535,     0.34635,     0.34735,     0.34835,     0.34935,     0.35035,     0.35135,     0.35235,     0.35335,     0.35435,     0.35536,     0.35636,     0.35736,     0.35836,     0.35936,\n",
              "           0.36036,     0.36136,     0.36236,     0.36336,     0.36436,     0.36537,     0.36637,     0.36737,     0.36837,     0.36937,     0.37037,     0.37137,     0.37237,     0.37337,     0.37437,     0.37538,     0.37638,     0.37738,     0.37838,     0.37938,     0.38038,     0.38138,     0.38238,     0.38338,\n",
              "           0.38438,     0.38539,     0.38639,     0.38739,     0.38839,     0.38939,     0.39039,     0.39139,     0.39239,     0.39339,     0.39439,      0.3954,      0.3964,      0.3974,      0.3984,      0.3994,      0.4004,      0.4014,      0.4024,      0.4034,      0.4044,     0.40541,     0.40641,     0.40741,\n",
              "           0.40841,     0.40941,     0.41041,     0.41141,     0.41241,     0.41341,     0.41441,     0.41542,     0.41642,     0.41742,     0.41842,     0.41942,     0.42042,     0.42142,     0.42242,     0.42342,     0.42442,     0.42543,     0.42643,     0.42743,     0.42843,     0.42943,     0.43043,     0.43143,\n",
              "           0.43243,     0.43343,     0.43443,     0.43544,     0.43644,     0.43744,     0.43844,     0.43944,     0.44044,     0.44144,     0.44244,     0.44344,     0.44444,     0.44545,     0.44645,     0.44745,     0.44845,     0.44945,     0.45045,     0.45145,     0.45245,     0.45345,     0.45445,     0.45546,\n",
              "           0.45646,     0.45746,     0.45846,     0.45946,     0.46046,     0.46146,     0.46246,     0.46346,     0.46446,     0.46547,     0.46647,     0.46747,     0.46847,     0.46947,     0.47047,     0.47147,     0.47247,     0.47347,     0.47447,     0.47548,     0.47648,     0.47748,     0.47848,     0.47948,\n",
              "           0.48048,     0.48148,     0.48248,     0.48348,     0.48448,     0.48549,     0.48649,     0.48749,     0.48849,     0.48949,     0.49049,     0.49149,     0.49249,     0.49349,     0.49449,      0.4955,      0.4965,      0.4975,      0.4985,      0.4995,      0.5005,      0.5015,      0.5025,      0.5035,\n",
              "            0.5045,     0.50551,     0.50651,     0.50751,     0.50851,     0.50951,     0.51051,     0.51151,     0.51251,     0.51351,     0.51451,     0.51552,     0.51652,     0.51752,     0.51852,     0.51952,     0.52052,     0.52152,     0.52252,     0.52352,     0.52452,     0.52553,     0.52653,     0.52753,\n",
              "           0.52853,     0.52953,     0.53053,     0.53153,     0.53253,     0.53353,     0.53453,     0.53554,     0.53654,     0.53754,     0.53854,     0.53954,     0.54054,     0.54154,     0.54254,     0.54354,     0.54454,     0.54555,     0.54655,     0.54755,     0.54855,     0.54955,     0.55055,     0.55155,\n",
              "           0.55255,     0.55355,     0.55455,     0.55556,     0.55656,     0.55756,     0.55856,     0.55956,     0.56056,     0.56156,     0.56256,     0.56356,     0.56456,     0.56557,     0.56657,     0.56757,     0.56857,     0.56957,     0.57057,     0.57157,     0.57257,     0.57357,     0.57457,     0.57558,\n",
              "           0.57658,     0.57758,     0.57858,     0.57958,     0.58058,     0.58158,     0.58258,     0.58358,     0.58458,     0.58559,     0.58659,     0.58759,     0.58859,     0.58959,     0.59059,     0.59159,     0.59259,     0.59359,     0.59459,      0.5956,      0.5966,      0.5976,      0.5986,      0.5996,\n",
              "            0.6006,      0.6016,      0.6026,      0.6036,      0.6046,     0.60561,     0.60661,     0.60761,     0.60861,     0.60961,     0.61061,     0.61161,     0.61261,     0.61361,     0.61461,     0.61562,     0.61662,     0.61762,     0.61862,     0.61962,     0.62062,     0.62162,     0.62262,     0.62362,\n",
              "           0.62462,     0.62563,     0.62663,     0.62763,     0.62863,     0.62963,     0.63063,     0.63163,     0.63263,     0.63363,     0.63463,     0.63564,     0.63664,     0.63764,     0.63864,     0.63964,     0.64064,     0.64164,     0.64264,     0.64364,     0.64464,     0.64565,     0.64665,     0.64765,\n",
              "           0.64865,     0.64965,     0.65065,     0.65165,     0.65265,     0.65365,     0.65465,     0.65566,     0.65666,     0.65766,     0.65866,     0.65966,     0.66066,     0.66166,     0.66266,     0.66366,     0.66466,     0.66567,     0.66667,     0.66767,     0.66867,     0.66967,     0.67067,     0.67167,\n",
              "           0.67267,     0.67367,     0.67467,     0.67568,     0.67668,     0.67768,     0.67868,     0.67968,     0.68068,     0.68168,     0.68268,     0.68368,     0.68468,     0.68569,     0.68669,     0.68769,     0.68869,     0.68969,     0.69069,     0.69169,     0.69269,     0.69369,     0.69469,      0.6957,\n",
              "            0.6967,      0.6977,      0.6987,      0.6997,      0.7007,      0.7017,      0.7027,      0.7037,      0.7047,     0.70571,     0.70671,     0.70771,     0.70871,     0.70971,     0.71071,     0.71171,     0.71271,     0.71371,     0.71471,     0.71572,     0.71672,     0.71772,     0.71872,     0.71972,\n",
              "           0.72072,     0.72172,     0.72272,     0.72372,     0.72472,     0.72573,     0.72673,     0.72773,     0.72873,     0.72973,     0.73073,     0.73173,     0.73273,     0.73373,     0.73473,     0.73574,     0.73674,     0.73774,     0.73874,     0.73974,     0.74074,     0.74174,     0.74274,     0.74374,\n",
              "           0.74474,     0.74575,     0.74675,     0.74775,     0.74875,     0.74975,     0.75075,     0.75175,     0.75275,     0.75375,     0.75475,     0.75576,     0.75676,     0.75776,     0.75876,     0.75976,     0.76076,     0.76176,     0.76276,     0.76376,     0.76476,     0.76577,     0.76677,     0.76777,\n",
              "           0.76877,     0.76977,     0.77077,     0.77177,     0.77277,     0.77377,     0.77477,     0.77578,     0.77678,     0.77778,     0.77878,     0.77978,     0.78078,     0.78178,     0.78278,     0.78378,     0.78478,     0.78579,     0.78679,     0.78779,     0.78879,     0.78979,     0.79079,     0.79179,\n",
              "           0.79279,     0.79379,     0.79479,      0.7958,      0.7968,      0.7978,      0.7988,      0.7998,      0.8008,      0.8018,      0.8028,      0.8038,      0.8048,     0.80581,     0.80681,     0.80781,     0.80881,     0.80981,     0.81081,     0.81181,     0.81281,     0.81381,     0.81481,     0.81582,\n",
              "           0.81682,     0.81782,     0.81882,     0.81982,     0.82082,     0.82182,     0.82282,     0.82382,     0.82482,     0.82583,     0.82683,     0.82783,     0.82883,     0.82983,     0.83083,     0.83183,     0.83283,     0.83383,     0.83483,     0.83584,     0.83684,     0.83784,     0.83884,     0.83984,\n",
              "           0.84084,     0.84184,     0.84284,     0.84384,     0.84484,     0.84585,     0.84685,     0.84785,     0.84885,     0.84985,     0.85085,     0.85185,     0.85285,     0.85385,     0.85485,     0.85586,     0.85686,     0.85786,     0.85886,     0.85986,     0.86086,     0.86186,     0.86286,     0.86386,\n",
              "           0.86486,     0.86587,     0.86687,     0.86787,     0.86887,     0.86987,     0.87087,     0.87187,     0.87287,     0.87387,     0.87487,     0.87588,     0.87688,     0.87788,     0.87888,     0.87988,     0.88088,     0.88188,     0.88288,     0.88388,     0.88488,     0.88589,     0.88689,     0.88789,\n",
              "           0.88889,     0.88989,     0.89089,     0.89189,     0.89289,     0.89389,     0.89489,      0.8959,      0.8969,      0.8979,      0.8989,      0.8999,      0.9009,      0.9019,      0.9029,      0.9039,      0.9049,     0.90591,     0.90691,     0.90791,     0.90891,     0.90991,     0.91091,     0.91191,\n",
              "           0.91291,     0.91391,     0.91491,     0.91592,     0.91692,     0.91792,     0.91892,     0.91992,     0.92092,     0.92192,     0.92292,     0.92392,     0.92492,     0.92593,     0.92693,     0.92793,     0.92893,     0.92993,     0.93093,     0.93193,     0.93293,     0.93393,     0.93493,     0.93594,\n",
              "           0.93694,     0.93794,     0.93894,     0.93994,     0.94094,     0.94194,     0.94294,     0.94394,     0.94494,     0.94595,     0.94695,     0.94795,     0.94895,     0.94995,     0.95095,     0.95195,     0.95295,     0.95395,     0.95495,     0.95596,     0.95696,     0.95796,     0.95896,     0.95996,\n",
              "           0.96096,     0.96196,     0.96296,     0.96396,     0.96496,     0.96597,     0.96697,     0.96797,     0.96897,     0.96997,     0.97097,     0.97197,     0.97297,     0.97397,     0.97497,     0.97598,     0.97698,     0.97798,     0.97898,     0.97998,     0.98098,     0.98198,     0.98298,     0.98398,\n",
              "           0.98498,     0.98599,     0.98699,     0.98799,     0.98899,     0.98999,     0.99099,     0.99199,     0.99299,     0.99399,     0.99499,       0.996,       0.997,       0.998,       0.999,           1]), array([[    0.53078,     0.53114,      0.5954,      0.6299,     0.65191,     0.66772,     0.68147,     0.69229,     0.70028,     0.70601,      0.7137,     0.71876,     0.72373,     0.72816,     0.73253,     0.73612,     0.73946,     0.74312,     0.74629,     0.74873,     0.75138,     0.75348,     0.75521,\n",
              "             0.7573,      0.7585,     0.76082,     0.76243,     0.76387,     0.76559,     0.76802,     0.76967,     0.77122,     0.77235,     0.77338,     0.77405,     0.77546,      0.7771,     0.77847,     0.77998,     0.78096,      0.7823,     0.78354,     0.78424,     0.78489,     0.78567,     0.78663,\n",
              "             0.7879,      0.7888,     0.78967,     0.79069,     0.79161,     0.79234,     0.79343,     0.79485,     0.79567,     0.79734,     0.79853,     0.79945,     0.80064,     0.80133,     0.80216,     0.80288,     0.80339,     0.80412,     0.80499,      0.8056,     0.80642,     0.80745,     0.80869,\n",
              "            0.80981,     0.81052,     0.81135,     0.81225,     0.81269,     0.81296,     0.81373,     0.81462,     0.81532,     0.81588,     0.81677,     0.81729,     0.81786,     0.81802,      0.8186,      0.8188,     0.81866,     0.81963,     0.82044,      0.8206,     0.82113,     0.82151,      0.8221,\n",
              "            0.82306,     0.82339,     0.82445,     0.82472,     0.82514,     0.82547,     0.82593,     0.82645,     0.82707,     0.82738,      0.8277,     0.82822,     0.82878,     0.82923,     0.82967,     0.83047,     0.83094,     0.83157,      0.8319,     0.83234,     0.83308,     0.83344,     0.83388,\n",
              "            0.83504,     0.83571,     0.83648,     0.83768,     0.83877,     0.83968,     0.84031,     0.84123,      0.8416,     0.84163,     0.84173,     0.84239,     0.84285,     0.84358,     0.84421,     0.84525,     0.84603,     0.84765,     0.84843,     0.84954,     0.85089,     0.85281,     0.85393,\n",
              "            0.85482,     0.85544,     0.85673,     0.85725,     0.85775,     0.85905,     0.86071,     0.86186,     0.86242,     0.86314,     0.86369,     0.86475,     0.86504,     0.86569,     0.86621,     0.86636,     0.86657,     0.86753,     0.86796,      0.8693,     0.87025,     0.87171,     0.87243,\n",
              "            0.87264,      0.8732,     0.87393,     0.87478,      0.8754,     0.87588,     0.87615,     0.87684,     0.87786,     0.87825,     0.87885,     0.87926,     0.87956,     0.88047,     0.88204,     0.88275,     0.88324,     0.88363,     0.88388,      0.8839,     0.88449,     0.88522,     0.88575,\n",
              "            0.88561,      0.8858,     0.88579,     0.88623,     0.88651,     0.88689,     0.88713,      0.8874,      0.8877,      0.8882,     0.88848,     0.88875,     0.88932,     0.88936,     0.88987,     0.89011,     0.89055,     0.89083,     0.89117,     0.89147,     0.89158,     0.89214,       0.892,\n",
              "            0.89241,     0.89223,     0.89268,     0.89304,     0.89382,     0.89459,     0.89526,     0.89569,     0.89599,      0.8961,     0.89586,     0.89573,     0.89605,     0.89635,     0.89668,     0.89705,     0.89717,     0.89747,     0.89764,     0.89747,     0.89779,     0.89798,     0.89831,\n",
              "             0.8985,     0.89869,     0.89888,     0.89904,     0.89923,     0.89955,     0.90013,     0.90028,     0.90033,      0.9001,     0.90032,      0.9002,     0.90045,     0.90077,     0.90071,     0.90078,     0.90074,     0.90071,     0.90039,     0.90049,     0.90104,     0.90101,     0.90112,\n",
              "            0.90156,     0.90168,     0.90179,     0.90242,     0.90243,     0.90249,     0.90291,     0.90297,     0.90314,     0.90355,     0.90398,     0.90443,     0.90502,     0.90531,      0.9053,     0.90524,     0.90531,      0.9054,     0.90554,     0.90572,     0.90569,     0.90599,     0.90626,\n",
              "            0.90685,       0.907,     0.90735,     0.90742,     0.90779,     0.90821,     0.90798,     0.90825,     0.90868,     0.90899,     0.90871,     0.90915,     0.90931,     0.90997,     0.91005,     0.91007,      0.9104,     0.91094,     0.91114,     0.91133,     0.91128,     0.91161,     0.91167,\n",
              "            0.91161,     0.91184,     0.91176,     0.91169,     0.91181,     0.91171,     0.91186,     0.91202,     0.91216,     0.91234,     0.91204,     0.91225,     0.91242,     0.91314,       0.913,     0.91246,      0.9123,     0.91231,     0.91276,     0.91259,     0.91237,     0.91242,     0.91248,\n",
              "             0.9126,     0.91217,     0.91283,       0.913,     0.91337,     0.91336,     0.91353,     0.91324,     0.91328,     0.91316,     0.91306,     0.91285,     0.91322,     0.91315,     0.91282,     0.91249,     0.91282,     0.91297,     0.91302,     0.91325,      0.9131,      0.9131,     0.91304,\n",
              "            0.91295,     0.91287,     0.91287,     0.91317,     0.91346,     0.91389,     0.91417,     0.91413,       0.914,     0.91442,     0.91443,     0.91444,     0.91438,     0.91446,     0.91427,     0.91441,     0.91459,     0.91502,     0.91518,     0.91549,      0.9153,     0.91524,     0.91517,\n",
              "            0.91482,     0.91493,     0.91458,     0.91501,     0.91513,     0.91515,     0.91509,     0.91504,     0.91487,     0.91466,     0.91427,     0.91453,     0.91444,     0.91452,      0.9144,     0.91462,     0.91451,     0.91441,     0.91447,     0.91422,      0.9142,     0.91426,     0.91419,\n",
              "            0.91488,     0.91517,     0.91529,     0.91496,     0.91502,     0.91494,     0.91481,     0.91461,     0.91458,     0.91451,     0.91459,     0.91473,     0.91502,     0.91543,     0.91537,     0.91528,     0.91505,     0.91477,      0.9145,      0.9143,     0.91426,     0.91409,     0.91402,\n",
              "            0.91405,     0.91395,     0.91384,     0.91377,     0.91382,     0.91368,     0.91357,     0.91355,     0.91335,     0.91331,       0.913,      0.9131,     0.91297,     0.91304,     0.91289,     0.91283,     0.91265,     0.91247,     0.91238,      0.9127,     0.91261,     0.91274,     0.91282,\n",
              "            0.91279,      0.9127,     0.91238,     0.91259,     0.91228,     0.91231,     0.91238,     0.91232,     0.91223,     0.91235,     0.91183,     0.91165,     0.91142,     0.91115,     0.91106,     0.91103,     0.91094,     0.91082,     0.91072,     0.91088,     0.91081,     0.91051,     0.91042,\n",
              "            0.91042,     0.91044,     0.91035,     0.91009,        0.91,     0.90991,     0.90982,     0.90964,     0.90929,     0.90911,     0.90882,     0.90873,     0.90769,     0.90751,     0.90716,     0.90698,     0.90685,     0.90676,     0.90689,     0.90655,     0.90611,     0.90621,     0.90618,\n",
              "              0.906,     0.90593,     0.90558,      0.9054,     0.90548,     0.90539,     0.90547,     0.90542,     0.90533,     0.90514,     0.90541,     0.90549,     0.90564,     0.90555,     0.90546,     0.90537,     0.90522,     0.90535,     0.90517,     0.90496,     0.90442,      0.9037,     0.90331,\n",
              "            0.90328,     0.90332,     0.90324,     0.90329,     0.90284,     0.90212,     0.90158,     0.90167,     0.90197,     0.90147,     0.90152,     0.90159,     0.90107,     0.90103,     0.90064,     0.90006,     0.89989,     0.90002,     0.89965,     0.89947,     0.89876,     0.89867,     0.89877,\n",
              "            0.89892,     0.89881,     0.89862,     0.89808,     0.89768,     0.89731,     0.89704,     0.89705,     0.89701,     0.89701,     0.89664,     0.89628,     0.89609,     0.89536,     0.89481,     0.89483,     0.89459,     0.89422,     0.89403,     0.89375,     0.89369,     0.89362,     0.89328,\n",
              "             0.8931,     0.89291,     0.89236,     0.89181,     0.89143,     0.89112,     0.89075,     0.89038,     0.89018,     0.88978,     0.88923,     0.88904,     0.88867,     0.88848,     0.88755,     0.88718,      0.8868,     0.88668,     0.88659,     0.88624,     0.88605,     0.88567,     0.88556,\n",
              "            0.88547,      0.8851,     0.88469,     0.88413,     0.88427,      0.8839,     0.88366,     0.88283,     0.88264,     0.88207,     0.88169,     0.88132,     0.88113,     0.88093,      0.8807,     0.88058,     0.88049,     0.88059,     0.87971,     0.87891,     0.87872,     0.87764,     0.87745,\n",
              "            0.87785,     0.87728,      0.8769,     0.87595,     0.87576,     0.87571,     0.87528,      0.8749,     0.87452,     0.87404,     0.87384,     0.87346,     0.87291,     0.87281,     0.87264,     0.87245,     0.87206,     0.87168,     0.87102,     0.87113,     0.87057,     0.87047,     0.87014,\n",
              "            0.86932,     0.86874,     0.86855,     0.86814,     0.86767,     0.86709,     0.86632,     0.86574,     0.86535,     0.86522,     0.86512,     0.86427,     0.86349,      0.8631,     0.86305,     0.86299,     0.86252,     0.86192,     0.86153,     0.86114,     0.86016,     0.85977,     0.85961,\n",
              "            0.85903,     0.85824,     0.85745,     0.85706,     0.85666,     0.85597,     0.85557,     0.85498,     0.85414,     0.85387,     0.85324,     0.85245,     0.85224,     0.85204,     0.85055,     0.84961,      0.8495,     0.84915,     0.84768,      0.8468,      0.8466,     0.84564,      0.8455,\n",
              "            0.84443,     0.84382,     0.84327,     0.84286,     0.84265,     0.84244,     0.84197,     0.84052,     0.84011,     0.83956,     0.83879,     0.83858,     0.83815,     0.83801,     0.83699,     0.83658,     0.83615,     0.83504,     0.83463,     0.83422,      0.8335,     0.83308,     0.83221,\n",
              "            0.83154,     0.83086,     0.83065,     0.82951,     0.82848,     0.82819,     0.82651,     0.82579,     0.82571,     0.82453,      0.8238,     0.82358,     0.82273,     0.82243,     0.82122,     0.82023,     0.81981,     0.81767,     0.81697,      0.8168,     0.81538,     0.81516,     0.81412,\n",
              "            0.81398,      0.8135,     0.81254,      0.8116,     0.81066,     0.81044,     0.80948,     0.80905,     0.80787,     0.80721,     0.80626,     0.80604,       0.805,     0.80324,     0.80251,     0.80175,     0.79872,     0.79779,      0.7967,     0.79631,     0.79602,     0.79532,     0.79488,\n",
              "            0.79389,     0.79302,     0.79217,      0.7911,     0.79054,     0.78987,     0.78954,     0.78821,     0.78677,     0.78651,      0.7862,     0.78431,     0.78381,     0.78263,     0.77984,     0.77954,     0.77843,     0.77758,     0.77682,     0.77565,     0.77409,     0.77339,      0.7725,\n",
              "            0.77171,     0.77025,     0.76959,     0.76879,     0.76787,     0.76695,     0.76576,      0.7643,     0.76211,     0.76159,     0.76048,     0.75972,      0.7592,     0.75675,     0.75634,     0.75479,     0.75399,     0.75232,     0.74974,     0.74949,     0.74547,     0.74332,     0.74225,\n",
              "            0.73972,     0.73914,     0.73802,     0.73673,     0.73464,     0.73421,     0.73088,     0.72935,     0.72681,     0.72664,     0.72425,     0.72298,     0.71956,     0.71754,     0.71607,     0.71368,     0.71106,     0.70921,     0.70702,     0.70399,     0.70245,     0.70116,     0.69851,\n",
              "            0.69604,      0.6935,     0.69242,     0.68853,     0.68716,     0.68487,     0.68207,     0.68119,     0.67711,     0.67455,     0.67259,     0.66991,     0.66708,     0.66561,     0.66183,     0.65804,     0.65557,     0.65353,     0.64788,     0.64445,      0.6401,     0.63533,     0.62918,\n",
              "            0.62797,     0.62284,     0.61853,     0.61332,     0.61035,     0.60367,     0.60041,     0.59774,     0.59237,      0.5877,     0.58454,     0.57755,     0.56772,      0.5615,     0.55679,     0.55205,      0.5441,     0.53804,     0.53475,     0.52889,     0.52233,      0.5167,      0.5107,\n",
              "            0.50262,     0.49343,     0.48654,     0.47541,       0.468,     0.45874,     0.45189,     0.44243,     0.43249,     0.41601,     0.41031,      0.3984,     0.38984,     0.38039,     0.37323,     0.36721,     0.36155,     0.34684,     0.33855,     0.32723,     0.31959,     0.30973,     0.30105,\n",
              "            0.29193,     0.28485,     0.27277,     0.26372,     0.25456,     0.24206,     0.23267,     0.22128,      0.2136,     0.20634,     0.19657,     0.19114,     0.18617,     0.17818,      0.1681,     0.16356,     0.15832,     0.15071,     0.14552,     0.13821,     0.13242,     0.12606,     0.12339,\n",
              "            0.11804,     0.11427,     0.10725,    0.097998,    0.094147,    0.091378,    0.086949,    0.084228,    0.079697,    0.076329,    0.073899,    0.069558,    0.063332,    0.061041,    0.058175,    0.055302,     0.05013,    0.048381,    0.046629,    0.041989,    0.040226,    0.038443,    0.036397,\n",
              "           0.034915,    0.032556,    0.029606,     0.02782,    0.024855,    0.023061,    0.020672,    0.017094,    0.014097,    0.011885,    0.011478,    0.010912,    0.009405,   0.0079868,   0.0074572,   0.0067303,   0.0057883,   0.0055425,   0.0052683,    0.004961,   0.0036088,   0.0035529,   0.0034969,\n",
              "          0.0034409,   0.0033849,    0.003329,    0.003273,    0.003217,    0.003161,    0.003105,    0.003049,   0.0028297,   0.0020187,   0.0012958,   0.0011391,   0.0010619,  0.00098475,  0.00090759,  0.00083043,  0.00075326,  0.00067608,           0,           0,           0,           0,           0,\n",
              "                  0,           0,           0,           0,           0,           0,           0,           0,           0,           0,           0,           0,           0,           0,           0,           0,           0,           0,           0,           0,           0,           0,           0,\n",
              "                  0,           0,           0,           0,           0,           0,           0,           0,           0,           0,           0]]), 'Confidence', 'F1'], [array([          0,    0.001001,    0.002002,    0.003003,    0.004004,    0.005005,    0.006006,    0.007007,    0.008008,    0.009009,     0.01001,    0.011011,    0.012012,    0.013013,    0.014014,    0.015015,    0.016016,    0.017017,    0.018018,    0.019019,     0.02002,    0.021021,    0.022022,    0.023023,\n",
              "          0.024024,    0.025025,    0.026026,    0.027027,    0.028028,    0.029029,     0.03003,    0.031031,    0.032032,    0.033033,    0.034034,    0.035035,    0.036036,    0.037037,    0.038038,    0.039039,     0.04004,    0.041041,    0.042042,    0.043043,    0.044044,    0.045045,    0.046046,    0.047047,\n",
              "          0.048048,    0.049049,     0.05005,    0.051051,    0.052052,    0.053053,    0.054054,    0.055055,    0.056056,    0.057057,    0.058058,    0.059059,     0.06006,    0.061061,    0.062062,    0.063063,    0.064064,    0.065065,    0.066066,    0.067067,    0.068068,    0.069069,     0.07007,    0.071071,\n",
              "          0.072072,    0.073073,    0.074074,    0.075075,    0.076076,    0.077077,    0.078078,    0.079079,     0.08008,    0.081081,    0.082082,    0.083083,    0.084084,    0.085085,    0.086086,    0.087087,    0.088088,    0.089089,     0.09009,    0.091091,    0.092092,    0.093093,    0.094094,    0.095095,\n",
              "          0.096096,    0.097097,    0.098098,    0.099099,      0.1001,      0.1011,      0.1021,      0.1031,      0.1041,     0.10511,     0.10611,     0.10711,     0.10811,     0.10911,     0.11011,     0.11111,     0.11211,     0.11311,     0.11411,     0.11512,     0.11612,     0.11712,     0.11812,     0.11912,\n",
              "           0.12012,     0.12112,     0.12212,     0.12312,     0.12412,     0.12513,     0.12613,     0.12713,     0.12813,     0.12913,     0.13013,     0.13113,     0.13213,     0.13313,     0.13413,     0.13514,     0.13614,     0.13714,     0.13814,     0.13914,     0.14014,     0.14114,     0.14214,     0.14314,\n",
              "           0.14414,     0.14515,     0.14615,     0.14715,     0.14815,     0.14915,     0.15015,     0.15115,     0.15215,     0.15315,     0.15415,     0.15516,     0.15616,     0.15716,     0.15816,     0.15916,     0.16016,     0.16116,     0.16216,     0.16316,     0.16416,     0.16517,     0.16617,     0.16717,\n",
              "           0.16817,     0.16917,     0.17017,     0.17117,     0.17217,     0.17317,     0.17417,     0.17518,     0.17618,     0.17718,     0.17818,     0.17918,     0.18018,     0.18118,     0.18218,     0.18318,     0.18418,     0.18519,     0.18619,     0.18719,     0.18819,     0.18919,     0.19019,     0.19119,\n",
              "           0.19219,     0.19319,     0.19419,      0.1952,      0.1962,      0.1972,      0.1982,      0.1992,      0.2002,      0.2012,      0.2022,      0.2032,      0.2042,     0.20521,     0.20621,     0.20721,     0.20821,     0.20921,     0.21021,     0.21121,     0.21221,     0.21321,     0.21421,     0.21522,\n",
              "           0.21622,     0.21722,     0.21822,     0.21922,     0.22022,     0.22122,     0.22222,     0.22322,     0.22422,     0.22523,     0.22623,     0.22723,     0.22823,     0.22923,     0.23023,     0.23123,     0.23223,     0.23323,     0.23423,     0.23524,     0.23624,     0.23724,     0.23824,     0.23924,\n",
              "           0.24024,     0.24124,     0.24224,     0.24324,     0.24424,     0.24525,     0.24625,     0.24725,     0.24825,     0.24925,     0.25025,     0.25125,     0.25225,     0.25325,     0.25425,     0.25526,     0.25626,     0.25726,     0.25826,     0.25926,     0.26026,     0.26126,     0.26226,     0.26326,\n",
              "           0.26426,     0.26527,     0.26627,     0.26727,     0.26827,     0.26927,     0.27027,     0.27127,     0.27227,     0.27327,     0.27427,     0.27528,     0.27628,     0.27728,     0.27828,     0.27928,     0.28028,     0.28128,     0.28228,     0.28328,     0.28428,     0.28529,     0.28629,     0.28729,\n",
              "           0.28829,     0.28929,     0.29029,     0.29129,     0.29229,     0.29329,     0.29429,      0.2953,      0.2963,      0.2973,      0.2983,      0.2993,      0.3003,      0.3013,      0.3023,      0.3033,      0.3043,     0.30531,     0.30631,     0.30731,     0.30831,     0.30931,     0.31031,     0.31131,\n",
              "           0.31231,     0.31331,     0.31431,     0.31532,     0.31632,     0.31732,     0.31832,     0.31932,     0.32032,     0.32132,     0.32232,     0.32332,     0.32432,     0.32533,     0.32633,     0.32733,     0.32833,     0.32933,     0.33033,     0.33133,     0.33233,     0.33333,     0.33433,     0.33534,\n",
              "           0.33634,     0.33734,     0.33834,     0.33934,     0.34034,     0.34134,     0.34234,     0.34334,     0.34434,     0.34535,     0.34635,     0.34735,     0.34835,     0.34935,     0.35035,     0.35135,     0.35235,     0.35335,     0.35435,     0.35536,     0.35636,     0.35736,     0.35836,     0.35936,\n",
              "           0.36036,     0.36136,     0.36236,     0.36336,     0.36436,     0.36537,     0.36637,     0.36737,     0.36837,     0.36937,     0.37037,     0.37137,     0.37237,     0.37337,     0.37437,     0.37538,     0.37638,     0.37738,     0.37838,     0.37938,     0.38038,     0.38138,     0.38238,     0.38338,\n",
              "           0.38438,     0.38539,     0.38639,     0.38739,     0.38839,     0.38939,     0.39039,     0.39139,     0.39239,     0.39339,     0.39439,      0.3954,      0.3964,      0.3974,      0.3984,      0.3994,      0.4004,      0.4014,      0.4024,      0.4034,      0.4044,     0.40541,     0.40641,     0.40741,\n",
              "           0.40841,     0.40941,     0.41041,     0.41141,     0.41241,     0.41341,     0.41441,     0.41542,     0.41642,     0.41742,     0.41842,     0.41942,     0.42042,     0.42142,     0.42242,     0.42342,     0.42442,     0.42543,     0.42643,     0.42743,     0.42843,     0.42943,     0.43043,     0.43143,\n",
              "           0.43243,     0.43343,     0.43443,     0.43544,     0.43644,     0.43744,     0.43844,     0.43944,     0.44044,     0.44144,     0.44244,     0.44344,     0.44444,     0.44545,     0.44645,     0.44745,     0.44845,     0.44945,     0.45045,     0.45145,     0.45245,     0.45345,     0.45445,     0.45546,\n",
              "           0.45646,     0.45746,     0.45846,     0.45946,     0.46046,     0.46146,     0.46246,     0.46346,     0.46446,     0.46547,     0.46647,     0.46747,     0.46847,     0.46947,     0.47047,     0.47147,     0.47247,     0.47347,     0.47447,     0.47548,     0.47648,     0.47748,     0.47848,     0.47948,\n",
              "           0.48048,     0.48148,     0.48248,     0.48348,     0.48448,     0.48549,     0.48649,     0.48749,     0.48849,     0.48949,     0.49049,     0.49149,     0.49249,     0.49349,     0.49449,      0.4955,      0.4965,      0.4975,      0.4985,      0.4995,      0.5005,      0.5015,      0.5025,      0.5035,\n",
              "            0.5045,     0.50551,     0.50651,     0.50751,     0.50851,     0.50951,     0.51051,     0.51151,     0.51251,     0.51351,     0.51451,     0.51552,     0.51652,     0.51752,     0.51852,     0.51952,     0.52052,     0.52152,     0.52252,     0.52352,     0.52452,     0.52553,     0.52653,     0.52753,\n",
              "           0.52853,     0.52953,     0.53053,     0.53153,     0.53253,     0.53353,     0.53453,     0.53554,     0.53654,     0.53754,     0.53854,     0.53954,     0.54054,     0.54154,     0.54254,     0.54354,     0.54454,     0.54555,     0.54655,     0.54755,     0.54855,     0.54955,     0.55055,     0.55155,\n",
              "           0.55255,     0.55355,     0.55455,     0.55556,     0.55656,     0.55756,     0.55856,     0.55956,     0.56056,     0.56156,     0.56256,     0.56356,     0.56456,     0.56557,     0.56657,     0.56757,     0.56857,     0.56957,     0.57057,     0.57157,     0.57257,     0.57357,     0.57457,     0.57558,\n",
              "           0.57658,     0.57758,     0.57858,     0.57958,     0.58058,     0.58158,     0.58258,     0.58358,     0.58458,     0.58559,     0.58659,     0.58759,     0.58859,     0.58959,     0.59059,     0.59159,     0.59259,     0.59359,     0.59459,      0.5956,      0.5966,      0.5976,      0.5986,      0.5996,\n",
              "            0.6006,      0.6016,      0.6026,      0.6036,      0.6046,     0.60561,     0.60661,     0.60761,     0.60861,     0.60961,     0.61061,     0.61161,     0.61261,     0.61361,     0.61461,     0.61562,     0.61662,     0.61762,     0.61862,     0.61962,     0.62062,     0.62162,     0.62262,     0.62362,\n",
              "           0.62462,     0.62563,     0.62663,     0.62763,     0.62863,     0.62963,     0.63063,     0.63163,     0.63263,     0.63363,     0.63463,     0.63564,     0.63664,     0.63764,     0.63864,     0.63964,     0.64064,     0.64164,     0.64264,     0.64364,     0.64464,     0.64565,     0.64665,     0.64765,\n",
              "           0.64865,     0.64965,     0.65065,     0.65165,     0.65265,     0.65365,     0.65465,     0.65566,     0.65666,     0.65766,     0.65866,     0.65966,     0.66066,     0.66166,     0.66266,     0.66366,     0.66466,     0.66567,     0.66667,     0.66767,     0.66867,     0.66967,     0.67067,     0.67167,\n",
              "           0.67267,     0.67367,     0.67467,     0.67568,     0.67668,     0.67768,     0.67868,     0.67968,     0.68068,     0.68168,     0.68268,     0.68368,     0.68468,     0.68569,     0.68669,     0.68769,     0.68869,     0.68969,     0.69069,     0.69169,     0.69269,     0.69369,     0.69469,      0.6957,\n",
              "            0.6967,      0.6977,      0.6987,      0.6997,      0.7007,      0.7017,      0.7027,      0.7037,      0.7047,     0.70571,     0.70671,     0.70771,     0.70871,     0.70971,     0.71071,     0.71171,     0.71271,     0.71371,     0.71471,     0.71572,     0.71672,     0.71772,     0.71872,     0.71972,\n",
              "           0.72072,     0.72172,     0.72272,     0.72372,     0.72472,     0.72573,     0.72673,     0.72773,     0.72873,     0.72973,     0.73073,     0.73173,     0.73273,     0.73373,     0.73473,     0.73574,     0.73674,     0.73774,     0.73874,     0.73974,     0.74074,     0.74174,     0.74274,     0.74374,\n",
              "           0.74474,     0.74575,     0.74675,     0.74775,     0.74875,     0.74975,     0.75075,     0.75175,     0.75275,     0.75375,     0.75475,     0.75576,     0.75676,     0.75776,     0.75876,     0.75976,     0.76076,     0.76176,     0.76276,     0.76376,     0.76476,     0.76577,     0.76677,     0.76777,\n",
              "           0.76877,     0.76977,     0.77077,     0.77177,     0.77277,     0.77377,     0.77477,     0.77578,     0.77678,     0.77778,     0.77878,     0.77978,     0.78078,     0.78178,     0.78278,     0.78378,     0.78478,     0.78579,     0.78679,     0.78779,     0.78879,     0.78979,     0.79079,     0.79179,\n",
              "           0.79279,     0.79379,     0.79479,      0.7958,      0.7968,      0.7978,      0.7988,      0.7998,      0.8008,      0.8018,      0.8028,      0.8038,      0.8048,     0.80581,     0.80681,     0.80781,     0.80881,     0.80981,     0.81081,     0.81181,     0.81281,     0.81381,     0.81481,     0.81582,\n",
              "           0.81682,     0.81782,     0.81882,     0.81982,     0.82082,     0.82182,     0.82282,     0.82382,     0.82482,     0.82583,     0.82683,     0.82783,     0.82883,     0.82983,     0.83083,     0.83183,     0.83283,     0.83383,     0.83483,     0.83584,     0.83684,     0.83784,     0.83884,     0.83984,\n",
              "           0.84084,     0.84184,     0.84284,     0.84384,     0.84484,     0.84585,     0.84685,     0.84785,     0.84885,     0.84985,     0.85085,     0.85185,     0.85285,     0.85385,     0.85485,     0.85586,     0.85686,     0.85786,     0.85886,     0.85986,     0.86086,     0.86186,     0.86286,     0.86386,\n",
              "           0.86486,     0.86587,     0.86687,     0.86787,     0.86887,     0.86987,     0.87087,     0.87187,     0.87287,     0.87387,     0.87487,     0.87588,     0.87688,     0.87788,     0.87888,     0.87988,     0.88088,     0.88188,     0.88288,     0.88388,     0.88488,     0.88589,     0.88689,     0.88789,\n",
              "           0.88889,     0.88989,     0.89089,     0.89189,     0.89289,     0.89389,     0.89489,      0.8959,      0.8969,      0.8979,      0.8989,      0.8999,      0.9009,      0.9019,      0.9029,      0.9039,      0.9049,     0.90591,     0.90691,     0.90791,     0.90891,     0.90991,     0.91091,     0.91191,\n",
              "           0.91291,     0.91391,     0.91491,     0.91592,     0.91692,     0.91792,     0.91892,     0.91992,     0.92092,     0.92192,     0.92292,     0.92392,     0.92492,     0.92593,     0.92693,     0.92793,     0.92893,     0.92993,     0.93093,     0.93193,     0.93293,     0.93393,     0.93493,     0.93594,\n",
              "           0.93694,     0.93794,     0.93894,     0.93994,     0.94094,     0.94194,     0.94294,     0.94394,     0.94494,     0.94595,     0.94695,     0.94795,     0.94895,     0.94995,     0.95095,     0.95195,     0.95295,     0.95395,     0.95495,     0.95596,     0.95696,     0.95796,     0.95896,     0.95996,\n",
              "           0.96096,     0.96196,     0.96296,     0.96396,     0.96496,     0.96597,     0.96697,     0.96797,     0.96897,     0.96997,     0.97097,     0.97197,     0.97297,     0.97397,     0.97497,     0.97598,     0.97698,     0.97798,     0.97898,     0.97998,     0.98098,     0.98198,     0.98298,     0.98398,\n",
              "           0.98498,     0.98599,     0.98699,     0.98799,     0.98899,     0.98999,     0.99099,     0.99199,     0.99299,     0.99399,     0.99499,       0.996,       0.997,       0.998,       0.999,           1]), array([[     0.3649,     0.36524,     0.42896,     0.46578,     0.49027,     0.50845,     0.52475,     0.53778,     0.54749,     0.55463,     0.56417,     0.57052,     0.57681,     0.58246,     0.58808,     0.59272,     0.59729,     0.60207,     0.60648,     0.60972,     0.61323,     0.61604,     0.61836,\n",
              "            0.62128,      0.6229,     0.62616,     0.62847,     0.63043,     0.63278,     0.63611,     0.63837,     0.64064,     0.64226,     0.64377,     0.64482,     0.64678,     0.64907,     0.65098,      0.6531,      0.6546,     0.65649,     0.65838,     0.65937,     0.66043,     0.66154,      0.6629,\n",
              "            0.66471,     0.66599,     0.66723,     0.66869,     0.67001,     0.67104,     0.67262,     0.67465,     0.67598,     0.67841,     0.68013,     0.68146,     0.68319,      0.6845,     0.68571,     0.68676,     0.68751,     0.68858,     0.68986,     0.69076,     0.69197,     0.69348,     0.69531,\n",
              "            0.69697,     0.69802,     0.69926,      0.7006,     0.70124,     0.70164,     0.70279,     0.70413,     0.70518,     0.70602,     0.70734,     0.70829,     0.70915,     0.70938,     0.71025,     0.71056,     0.71067,     0.71214,     0.71353,     0.71394,     0.71489,     0.71548,     0.71638,\n",
              "            0.71784,     0.71833,     0.71995,     0.72053,     0.72117,     0.72168,     0.72255,     0.72335,      0.7243,     0.72477,     0.72543,      0.7264,     0.72727,     0.72796,     0.72863,     0.72987,      0.7306,     0.73157,     0.73208,     0.73277,     0.73391,     0.73447,     0.73516,\n",
              "            0.73714,      0.7389,     0.74028,     0.74289,     0.74478,     0.74694,     0.74812,     0.74976,     0.75091,     0.75167,     0.75279,     0.75461,     0.75569,      0.7571,     0.75849,     0.76017,     0.76201,     0.76483,      0.7663,     0.76891,     0.77192,     0.77549,     0.77755,\n",
              "            0.77943,     0.78088,     0.78303,     0.78494,     0.78578,     0.78796,     0.79075,     0.79291,     0.79408,      0.7953,     0.79665,     0.79846,     0.79939,     0.80093,     0.80188,     0.80297,     0.80355,      0.8052,     0.80616,     0.80847,     0.81011,     0.81265,     0.81459,\n",
              "            0.81587,     0.81698,     0.81845,     0.82006,     0.82162,     0.82247,     0.82341,     0.82486,     0.82667,      0.8276,     0.82867,     0.82987,     0.83064,     0.83274,     0.83581,     0.83708,     0.83795,     0.83891,     0.83969,     0.84012,     0.84118,      0.8425,      0.8435,\n",
              "            0.84347,     0.84406,     0.84478,      0.8456,     0.84634,     0.84704,     0.84747,     0.84822,     0.84898,     0.84993,     0.85094,     0.85195,     0.85325,     0.85358,     0.85451,     0.85522,     0.85629,     0.85731,     0.85794,     0.85851,     0.85871,     0.86012,     0.86027,\n",
              "            0.86155,     0.86227,     0.86311,     0.86378,     0.86524,     0.86669,     0.86794,     0.86883,     0.86984,     0.87006,     0.87038,     0.87043,     0.87104,     0.87188,      0.8725,     0.87328,     0.87369,     0.87454,     0.87495,     0.87491,     0.87587,     0.87636,     0.87723,\n",
              "            0.87759,     0.87795,     0.87832,     0.87888,     0.87926,     0.87987,     0.88098,     0.88181,     0.88203,     0.88199,     0.88249,     0.88246,     0.88299,     0.88359,     0.88371,     0.88395,      0.8844,      0.8846,     0.88482,     0.88501,     0.88607,      0.8863,     0.88652,\n",
              "            0.88736,     0.88787,     0.88831,     0.88989,     0.89008,     0.89031,     0.89113,     0.89125,     0.89187,     0.89267,     0.89378,     0.89467,     0.89582,     0.89656,     0.89679,     0.89683,     0.89755,     0.89773,     0.89829,     0.89866,     0.89918,     0.89977,     0.90088,\n",
              "            0.90205,     0.90236,     0.90305,     0.90318,     0.90422,     0.90506,     0.90518,     0.90572,     0.90658,     0.90719,     0.90724,     0.90812,     0.90844,     0.90975,     0.90992,     0.91026,     0.91091,     0.91199,      0.9124,      0.9129,     0.91329,     0.91394,     0.91437,\n",
              "            0.91455,     0.91502,     0.91501,       0.915,     0.91527,     0.91526,     0.91567,     0.91599,     0.91659,     0.91727,     0.91737,     0.91831,     0.91865,     0.92013,     0.92014,     0.92091,     0.92106,     0.92123,     0.92215,     0.92242,     0.92294,     0.92304,     0.92315,\n",
              "            0.92341,     0.92341,     0.92513,      0.9258,     0.92689,     0.92705,     0.92753,     0.92757,     0.92785,      0.9281,     0.92809,     0.92837,     0.92914,     0.92997,     0.93023,     0.93056,     0.93132,     0.93188,     0.93231,     0.93302,     0.93345,     0.93356,     0.93355,\n",
              "            0.93354,     0.93364,     0.93397,     0.93459,     0.93519,     0.93644,     0.93702,      0.9373,     0.93766,     0.93856,     0.93874,     0.93893,     0.93913,      0.9393,     0.93956,     0.93987,     0.94025,     0.94116,      0.9415,     0.94215,     0.94242,     0.94252,     0.94279,\n",
              "            0.94276,     0.94334,     0.94395,     0.94487,     0.94547,     0.94567,     0.94642,     0.94653,     0.94651,     0.94649,     0.94673,     0.94764,     0.94763,     0.94831,     0.94851,     0.94921,      0.9494,     0.94939,     0.94959,     0.95046,     0.95076,     0.95114,     0.95144,\n",
              "            0.95329,     0.95393,     0.95422,     0.95453,     0.95509,     0.95509,     0.95508,      0.9552,     0.95566,     0.95604,     0.95623,     0.95652,     0.95716,     0.95841,     0.95845,     0.95844,     0.95873,     0.95877,     0.95899,     0.95928,     0.95959,     0.95957,     0.95967,\n",
              "            0.96018,     0.96018,     0.96037,     0.96047,     0.96069,     0.96139,     0.96162,     0.96193,     0.96223,     0.96291,     0.96292,     0.96321,     0.96322,     0.96339,     0.96351,     0.96413,     0.96411,     0.96442,     0.96441,     0.96569,     0.96568,     0.96608,     0.96627,\n",
              "            0.96633,     0.96632,      0.9663,     0.96687,     0.96724,     0.96737,     0.96754,     0.96756,     0.96756,     0.96785,     0.96817,     0.96816,     0.96878,     0.96877,     0.96876,     0.96908,     0.96907,     0.96939,     0.96938,     0.97003,     0.97049,     0.97066,     0.97065,\n",
              "            0.97114,      0.9713,     0.97129,     0.97128,     0.97127,     0.97127,     0.97126,     0.97158,     0.97156,     0.97155,     0.97153,     0.97153,     0.97147,     0.97146,     0.97144,     0.97143,     0.97175,     0.97174,     0.97207,     0.97206,     0.97302,     0.97368,     0.97401,\n",
              "              0.974,     0.97466,     0.97464,     0.97499,     0.97517,     0.97537,     0.97563,      0.9763,     0.97629,     0.97639,     0.97702,      0.9772,     0.97764,     0.97764,     0.97764,     0.97763,     0.97779,      0.9783,     0.97829,     0.97862,      0.9786,     0.97857,     0.97889,\n",
              "            0.97923,     0.97946,     0.97957,     0.97982,     0.97989,     0.97986,     0.97984,     0.98013,     0.98083,     0.98086,     0.98102,     0.98119,     0.98119,     0.98153,     0.98186,     0.98218,      0.9822,     0.98252,     0.98251,     0.98251,     0.98248,     0.98248,      0.9829,\n",
              "            0.98326,     0.98352,     0.98352,      0.9835,     0.98383,     0.98382,      0.9843,     0.98451,     0.98467,     0.98486,     0.98485,     0.98484,     0.98483,     0.98481,      0.9848,     0.98501,     0.98514,     0.98513,     0.98513,     0.98512,     0.98511,     0.98511,      0.9851,\n",
              "             0.9851,     0.98509,     0.98508,     0.98506,     0.98505,     0.98539,     0.98538,     0.98537,     0.98555,     0.98571,      0.9857,     0.98569,     0.98568,     0.98567,     0.98565,     0.98564,     0.98563,     0.98562,     0.98562,     0.98561,      0.9856,     0.98559,     0.98559,\n",
              "            0.98559,     0.98558,     0.98593,     0.98591,     0.98627,     0.98627,     0.98662,      0.9866,     0.98659,     0.98658,     0.98657,     0.98656,     0.98655,     0.98655,     0.98691,      0.9869,      0.9869,      0.9872,     0.98725,     0.98759,     0.98759,     0.98793,     0.98793,\n",
              "            0.98942,      0.9894,      0.9894,     0.98938,     0.98958,     0.98974,     0.99011,      0.9901,     0.99009,     0.99008,     0.99008,     0.99007,     0.99006,     0.99006,     0.99043,     0.99043,     0.99042,     0.99041,      0.9904,     0.99076,     0.99077,     0.99077,     0.99114,\n",
              "            0.99151,      0.9915,     0.99149,     0.99149,     0.99148,     0.99147,     0.99145,     0.99144,     0.99144,     0.99144,     0.99143,     0.99142,     0.99141,      0.9914,     0.99178,     0.99194,     0.99216,     0.99215,     0.99214,     0.99214,     0.99212,     0.99212,     0.99218,\n",
              "            0.99249,     0.99248,     0.99247,     0.99246,     0.99246,     0.99245,     0.99244,     0.99243,     0.99281,     0.99281,      0.9928,     0.99279,     0.99279,     0.99278,     0.99276,     0.99275,     0.99275,     0.99274,     0.99275,     0.99311,      0.9931,     0.99315,     0.99349,\n",
              "            0.99348,     0.99347,     0.99346,     0.99386,     0.99386,     0.99385,     0.99385,     0.99383,     0.99382,     0.99382,     0.99381,     0.99381,     0.99421,     0.99421,      0.9942,     0.99419,     0.99419,     0.99417,     0.99417,     0.99416,     0.99415,     0.99415,     0.99414,\n",
              "            0.99413,     0.99454,     0.99454,     0.99452,     0.99451,     0.99451,     0.99449,     0.99448,     0.99448,     0.99447,     0.99446,     0.99446,     0.99445,     0.99444,     0.99443,     0.99442,     0.99441,     0.99439,     0.99438,     0.99438,     0.99436,     0.99436,     0.99435,\n",
              "            0.99435,     0.99477,     0.99476,     0.99475,     0.99518,     0.99517,     0.99516,     0.99516,     0.99515,     0.99514,     0.99513,     0.99513,     0.99556,     0.99554,     0.99554,     0.99553,      0.9955,     0.99549,     0.99548,     0.99548,     0.99548,     0.99547,     0.99547,\n",
              "            0.99546,     0.99585,     0.99589,     0.99634,     0.99633,     0.99633,     0.99633,     0.99632,      0.9963,      0.9963,      0.9963,     0.99629,     0.99628,     0.99627,     0.99625,     0.99625,     0.99624,     0.99623,     0.99623,     0.99622,     0.99621,      0.9962,     0.99667,\n",
              "            0.99666,     0.99713,      0.9976,      0.9976,     0.99759,     0.99759,     0.99758,     0.99757,     0.99756,     0.99756,     0.99755,     0.99755,     0.99755,     0.99753,     0.99802,     0.99802,     0.99801,     0.99801,       0.998,       0.998,     0.99798,     0.99797,     0.99796,\n",
              "            0.99795,     0.99795,     0.99795,     0.99794,     0.99793,     0.99845,     0.99843,     0.99843,     0.99842,     0.99842,     0.99841,     0.99841,      0.9984,     0.99839,     0.99838,     0.99837,     0.99837,     0.99836,     0.99835,     0.99834,     0.99833,     0.99833,     0.99832,\n",
              "            0.99831,      0.9983,      0.9983,     0.99828,     0.99828,     0.99827,     0.99826,     0.99825,     0.99882,     0.99882,     0.99881,     0.99881,      0.9988,     0.99879,     0.99878,     0.99877,     0.99877,     0.99876,     0.99874,     0.99873,     0.99872,     0.99871,     0.99869,\n",
              "            0.99869,     0.99867,     0.99866,     0.99864,     0.99863,     0.99861,      0.9986,     0.99859,     0.99857,     0.99855,     0.99854,     0.99852,     0.99848,     0.99846,     0.99844,     0.99842,     0.99839,     0.99837,     0.99835,     0.99833,      0.9983,     0.99827,     0.99825,\n",
              "            0.99821,     0.99816,     0.99813,     0.99807,     0.99803,     0.99798,     0.99794,     0.99788,     0.99782,     0.99771,     0.99767,     0.99758,     0.99752,     0.99744,     0.99738,     0.99733,     0.99728,     0.99714,     0.99705,     0.99693,     0.99684,     0.99672,     0.99661,\n",
              "            0.99824,     0.99819,      0.9981,     0.99802,     0.99794,     0.99782,     0.99772,     0.99758,     0.99749,     0.99739,     0.99724,     0.99716,     0.99707,     0.99693,     0.99673,           1,           1,           1,           1,           1,           1,           1,           1,\n",
              "                  1,           1,           1,           1,           1,           1,           1,           1,           1,           1,           1,           1,           1,           1,           1,           1,           1,           1,           1,           1,           1,           1,           1,\n",
              "                  1,           1,           1,           1,           1,           1,           1,           1,           1,           1,           1,           1,           1,           1,           1,           1,           1,           1,           1,           1,           1,           1,           1,\n",
              "                  1,           1,           1,           1,           1,           1,           1,           1,           1,           1,           1,           1,           1,           1,           1,           1,           1,           1,           1,           1,           1,           1,           1,\n",
              "                  1,           1,           1,           1,           1,           1,           1,           1,           1,           1,           1,           1,           1,           1,           1,           1,           1,           1,           1,           1,           1,           1,           1,\n",
              "                  1,           1,           1,           1,           1,           1,           1,           1,           1,           1,           1]]), 'Confidence', 'Precision'], [array([          0,    0.001001,    0.002002,    0.003003,    0.004004,    0.005005,    0.006006,    0.007007,    0.008008,    0.009009,     0.01001,    0.011011,    0.012012,    0.013013,    0.014014,    0.015015,    0.016016,    0.017017,    0.018018,    0.019019,     0.02002,    0.021021,    0.022022,    0.023023,\n",
              "          0.024024,    0.025025,    0.026026,    0.027027,    0.028028,    0.029029,     0.03003,    0.031031,    0.032032,    0.033033,    0.034034,    0.035035,    0.036036,    0.037037,    0.038038,    0.039039,     0.04004,    0.041041,    0.042042,    0.043043,    0.044044,    0.045045,    0.046046,    0.047047,\n",
              "          0.048048,    0.049049,     0.05005,    0.051051,    0.052052,    0.053053,    0.054054,    0.055055,    0.056056,    0.057057,    0.058058,    0.059059,     0.06006,    0.061061,    0.062062,    0.063063,    0.064064,    0.065065,    0.066066,    0.067067,    0.068068,    0.069069,     0.07007,    0.071071,\n",
              "          0.072072,    0.073073,    0.074074,    0.075075,    0.076076,    0.077077,    0.078078,    0.079079,     0.08008,    0.081081,    0.082082,    0.083083,    0.084084,    0.085085,    0.086086,    0.087087,    0.088088,    0.089089,     0.09009,    0.091091,    0.092092,    0.093093,    0.094094,    0.095095,\n",
              "          0.096096,    0.097097,    0.098098,    0.099099,      0.1001,      0.1011,      0.1021,      0.1031,      0.1041,     0.10511,     0.10611,     0.10711,     0.10811,     0.10911,     0.11011,     0.11111,     0.11211,     0.11311,     0.11411,     0.11512,     0.11612,     0.11712,     0.11812,     0.11912,\n",
              "           0.12012,     0.12112,     0.12212,     0.12312,     0.12412,     0.12513,     0.12613,     0.12713,     0.12813,     0.12913,     0.13013,     0.13113,     0.13213,     0.13313,     0.13413,     0.13514,     0.13614,     0.13714,     0.13814,     0.13914,     0.14014,     0.14114,     0.14214,     0.14314,\n",
              "           0.14414,     0.14515,     0.14615,     0.14715,     0.14815,     0.14915,     0.15015,     0.15115,     0.15215,     0.15315,     0.15415,     0.15516,     0.15616,     0.15716,     0.15816,     0.15916,     0.16016,     0.16116,     0.16216,     0.16316,     0.16416,     0.16517,     0.16617,     0.16717,\n",
              "           0.16817,     0.16917,     0.17017,     0.17117,     0.17217,     0.17317,     0.17417,     0.17518,     0.17618,     0.17718,     0.17818,     0.17918,     0.18018,     0.18118,     0.18218,     0.18318,     0.18418,     0.18519,     0.18619,     0.18719,     0.18819,     0.18919,     0.19019,     0.19119,\n",
              "           0.19219,     0.19319,     0.19419,      0.1952,      0.1962,      0.1972,      0.1982,      0.1992,      0.2002,      0.2012,      0.2022,      0.2032,      0.2042,     0.20521,     0.20621,     0.20721,     0.20821,     0.20921,     0.21021,     0.21121,     0.21221,     0.21321,     0.21421,     0.21522,\n",
              "           0.21622,     0.21722,     0.21822,     0.21922,     0.22022,     0.22122,     0.22222,     0.22322,     0.22422,     0.22523,     0.22623,     0.22723,     0.22823,     0.22923,     0.23023,     0.23123,     0.23223,     0.23323,     0.23423,     0.23524,     0.23624,     0.23724,     0.23824,     0.23924,\n",
              "           0.24024,     0.24124,     0.24224,     0.24324,     0.24424,     0.24525,     0.24625,     0.24725,     0.24825,     0.24925,     0.25025,     0.25125,     0.25225,     0.25325,     0.25425,     0.25526,     0.25626,     0.25726,     0.25826,     0.25926,     0.26026,     0.26126,     0.26226,     0.26326,\n",
              "           0.26426,     0.26527,     0.26627,     0.26727,     0.26827,     0.26927,     0.27027,     0.27127,     0.27227,     0.27327,     0.27427,     0.27528,     0.27628,     0.27728,     0.27828,     0.27928,     0.28028,     0.28128,     0.28228,     0.28328,     0.28428,     0.28529,     0.28629,     0.28729,\n",
              "           0.28829,     0.28929,     0.29029,     0.29129,     0.29229,     0.29329,     0.29429,      0.2953,      0.2963,      0.2973,      0.2983,      0.2993,      0.3003,      0.3013,      0.3023,      0.3033,      0.3043,     0.30531,     0.30631,     0.30731,     0.30831,     0.30931,     0.31031,     0.31131,\n",
              "           0.31231,     0.31331,     0.31431,     0.31532,     0.31632,     0.31732,     0.31832,     0.31932,     0.32032,     0.32132,     0.32232,     0.32332,     0.32432,     0.32533,     0.32633,     0.32733,     0.32833,     0.32933,     0.33033,     0.33133,     0.33233,     0.33333,     0.33433,     0.33534,\n",
              "           0.33634,     0.33734,     0.33834,     0.33934,     0.34034,     0.34134,     0.34234,     0.34334,     0.34434,     0.34535,     0.34635,     0.34735,     0.34835,     0.34935,     0.35035,     0.35135,     0.35235,     0.35335,     0.35435,     0.35536,     0.35636,     0.35736,     0.35836,     0.35936,\n",
              "           0.36036,     0.36136,     0.36236,     0.36336,     0.36436,     0.36537,     0.36637,     0.36737,     0.36837,     0.36937,     0.37037,     0.37137,     0.37237,     0.37337,     0.37437,     0.37538,     0.37638,     0.37738,     0.37838,     0.37938,     0.38038,     0.38138,     0.38238,     0.38338,\n",
              "           0.38438,     0.38539,     0.38639,     0.38739,     0.38839,     0.38939,     0.39039,     0.39139,     0.39239,     0.39339,     0.39439,      0.3954,      0.3964,      0.3974,      0.3984,      0.3994,      0.4004,      0.4014,      0.4024,      0.4034,      0.4044,     0.40541,     0.40641,     0.40741,\n",
              "           0.40841,     0.40941,     0.41041,     0.41141,     0.41241,     0.41341,     0.41441,     0.41542,     0.41642,     0.41742,     0.41842,     0.41942,     0.42042,     0.42142,     0.42242,     0.42342,     0.42442,     0.42543,     0.42643,     0.42743,     0.42843,     0.42943,     0.43043,     0.43143,\n",
              "           0.43243,     0.43343,     0.43443,     0.43544,     0.43644,     0.43744,     0.43844,     0.43944,     0.44044,     0.44144,     0.44244,     0.44344,     0.44444,     0.44545,     0.44645,     0.44745,     0.44845,     0.44945,     0.45045,     0.45145,     0.45245,     0.45345,     0.45445,     0.45546,\n",
              "           0.45646,     0.45746,     0.45846,     0.45946,     0.46046,     0.46146,     0.46246,     0.46346,     0.46446,     0.46547,     0.46647,     0.46747,     0.46847,     0.46947,     0.47047,     0.47147,     0.47247,     0.47347,     0.47447,     0.47548,     0.47648,     0.47748,     0.47848,     0.47948,\n",
              "           0.48048,     0.48148,     0.48248,     0.48348,     0.48448,     0.48549,     0.48649,     0.48749,     0.48849,     0.48949,     0.49049,     0.49149,     0.49249,     0.49349,     0.49449,      0.4955,      0.4965,      0.4975,      0.4985,      0.4995,      0.5005,      0.5015,      0.5025,      0.5035,\n",
              "            0.5045,     0.50551,     0.50651,     0.50751,     0.50851,     0.50951,     0.51051,     0.51151,     0.51251,     0.51351,     0.51451,     0.51552,     0.51652,     0.51752,     0.51852,     0.51952,     0.52052,     0.52152,     0.52252,     0.52352,     0.52452,     0.52553,     0.52653,     0.52753,\n",
              "           0.52853,     0.52953,     0.53053,     0.53153,     0.53253,     0.53353,     0.53453,     0.53554,     0.53654,     0.53754,     0.53854,     0.53954,     0.54054,     0.54154,     0.54254,     0.54354,     0.54454,     0.54555,     0.54655,     0.54755,     0.54855,     0.54955,     0.55055,     0.55155,\n",
              "           0.55255,     0.55355,     0.55455,     0.55556,     0.55656,     0.55756,     0.55856,     0.55956,     0.56056,     0.56156,     0.56256,     0.56356,     0.56456,     0.56557,     0.56657,     0.56757,     0.56857,     0.56957,     0.57057,     0.57157,     0.57257,     0.57357,     0.57457,     0.57558,\n",
              "           0.57658,     0.57758,     0.57858,     0.57958,     0.58058,     0.58158,     0.58258,     0.58358,     0.58458,     0.58559,     0.58659,     0.58759,     0.58859,     0.58959,     0.59059,     0.59159,     0.59259,     0.59359,     0.59459,      0.5956,      0.5966,      0.5976,      0.5986,      0.5996,\n",
              "            0.6006,      0.6016,      0.6026,      0.6036,      0.6046,     0.60561,     0.60661,     0.60761,     0.60861,     0.60961,     0.61061,     0.61161,     0.61261,     0.61361,     0.61461,     0.61562,     0.61662,     0.61762,     0.61862,     0.61962,     0.62062,     0.62162,     0.62262,     0.62362,\n",
              "           0.62462,     0.62563,     0.62663,     0.62763,     0.62863,     0.62963,     0.63063,     0.63163,     0.63263,     0.63363,     0.63463,     0.63564,     0.63664,     0.63764,     0.63864,     0.63964,     0.64064,     0.64164,     0.64264,     0.64364,     0.64464,     0.64565,     0.64665,     0.64765,\n",
              "           0.64865,     0.64965,     0.65065,     0.65165,     0.65265,     0.65365,     0.65465,     0.65566,     0.65666,     0.65766,     0.65866,     0.65966,     0.66066,     0.66166,     0.66266,     0.66366,     0.66466,     0.66567,     0.66667,     0.66767,     0.66867,     0.66967,     0.67067,     0.67167,\n",
              "           0.67267,     0.67367,     0.67467,     0.67568,     0.67668,     0.67768,     0.67868,     0.67968,     0.68068,     0.68168,     0.68268,     0.68368,     0.68468,     0.68569,     0.68669,     0.68769,     0.68869,     0.68969,     0.69069,     0.69169,     0.69269,     0.69369,     0.69469,      0.6957,\n",
              "            0.6967,      0.6977,      0.6987,      0.6997,      0.7007,      0.7017,      0.7027,      0.7037,      0.7047,     0.70571,     0.70671,     0.70771,     0.70871,     0.70971,     0.71071,     0.71171,     0.71271,     0.71371,     0.71471,     0.71572,     0.71672,     0.71772,     0.71872,     0.71972,\n",
              "           0.72072,     0.72172,     0.72272,     0.72372,     0.72472,     0.72573,     0.72673,     0.72773,     0.72873,     0.72973,     0.73073,     0.73173,     0.73273,     0.73373,     0.73473,     0.73574,     0.73674,     0.73774,     0.73874,     0.73974,     0.74074,     0.74174,     0.74274,     0.74374,\n",
              "           0.74474,     0.74575,     0.74675,     0.74775,     0.74875,     0.74975,     0.75075,     0.75175,     0.75275,     0.75375,     0.75475,     0.75576,     0.75676,     0.75776,     0.75876,     0.75976,     0.76076,     0.76176,     0.76276,     0.76376,     0.76476,     0.76577,     0.76677,     0.76777,\n",
              "           0.76877,     0.76977,     0.77077,     0.77177,     0.77277,     0.77377,     0.77477,     0.77578,     0.77678,     0.77778,     0.77878,     0.77978,     0.78078,     0.78178,     0.78278,     0.78378,     0.78478,     0.78579,     0.78679,     0.78779,     0.78879,     0.78979,     0.79079,     0.79179,\n",
              "           0.79279,     0.79379,     0.79479,      0.7958,      0.7968,      0.7978,      0.7988,      0.7998,      0.8008,      0.8018,      0.8028,      0.8038,      0.8048,     0.80581,     0.80681,     0.80781,     0.80881,     0.80981,     0.81081,     0.81181,     0.81281,     0.81381,     0.81481,     0.81582,\n",
              "           0.81682,     0.81782,     0.81882,     0.81982,     0.82082,     0.82182,     0.82282,     0.82382,     0.82482,     0.82583,     0.82683,     0.82783,     0.82883,     0.82983,     0.83083,     0.83183,     0.83283,     0.83383,     0.83483,     0.83584,     0.83684,     0.83784,     0.83884,     0.83984,\n",
              "           0.84084,     0.84184,     0.84284,     0.84384,     0.84484,     0.84585,     0.84685,     0.84785,     0.84885,     0.84985,     0.85085,     0.85185,     0.85285,     0.85385,     0.85485,     0.85586,     0.85686,     0.85786,     0.85886,     0.85986,     0.86086,     0.86186,     0.86286,     0.86386,\n",
              "           0.86486,     0.86587,     0.86687,     0.86787,     0.86887,     0.86987,     0.87087,     0.87187,     0.87287,     0.87387,     0.87487,     0.87588,     0.87688,     0.87788,     0.87888,     0.87988,     0.88088,     0.88188,     0.88288,     0.88388,     0.88488,     0.88589,     0.88689,     0.88789,\n",
              "           0.88889,     0.88989,     0.89089,     0.89189,     0.89289,     0.89389,     0.89489,      0.8959,      0.8969,      0.8979,      0.8989,      0.8999,      0.9009,      0.9019,      0.9029,      0.9039,      0.9049,     0.90591,     0.90691,     0.90791,     0.90891,     0.90991,     0.91091,     0.91191,\n",
              "           0.91291,     0.91391,     0.91491,     0.91592,     0.91692,     0.91792,     0.91892,     0.91992,     0.92092,     0.92192,     0.92292,     0.92392,     0.92492,     0.92593,     0.92693,     0.92793,     0.92893,     0.92993,     0.93093,     0.93193,     0.93293,     0.93393,     0.93493,     0.93594,\n",
              "           0.93694,     0.93794,     0.93894,     0.93994,     0.94094,     0.94194,     0.94294,     0.94394,     0.94494,     0.94595,     0.94695,     0.94795,     0.94895,     0.94995,     0.95095,     0.95195,     0.95295,     0.95395,     0.95495,     0.95596,     0.95696,     0.95796,     0.95896,     0.95996,\n",
              "           0.96096,     0.96196,     0.96296,     0.96396,     0.96496,     0.96597,     0.96697,     0.96797,     0.96897,     0.96997,     0.97097,     0.97197,     0.97297,     0.97397,     0.97497,     0.97598,     0.97698,     0.97798,     0.97898,     0.97998,     0.98098,     0.98198,     0.98298,     0.98398,\n",
              "           0.98498,     0.98599,     0.98699,     0.98799,     0.98899,     0.98999,     0.99099,     0.99199,     0.99299,     0.99399,     0.99499,       0.996,       0.997,       0.998,       0.999,           1]), array([[    0.97318,     0.97318,     0.97288,     0.97257,     0.97257,     0.97227,     0.97167,     0.97137,     0.97137,     0.97107,     0.97107,     0.97107,     0.97107,     0.97107,     0.97107,     0.97107,     0.97046,     0.97046,     0.96986,     0.96986,     0.96986,     0.96986,     0.96986,\n",
              "            0.96956,     0.96956,     0.96926,     0.96896,     0.96896,     0.96896,     0.96896,     0.96896,     0.96866,     0.96853,     0.96835,     0.96805,     0.96805,     0.96805,     0.96805,     0.96803,     0.96775,     0.96775,     0.96745,     0.96745,     0.96715,     0.96715,     0.96715,\n",
              "            0.96715,     0.96715,     0.96715,     0.96715,     0.96715,     0.96715,     0.96715,     0.96715,     0.96685,     0.96685,     0.96685,     0.96685,     0.96685,     0.96624,     0.96624,     0.96624,     0.96624,     0.96624,     0.96624,     0.96624,     0.96624,     0.96624,     0.96624,\n",
              "            0.96624,     0.96624,     0.96624,     0.96624,     0.96624,     0.96624,     0.96624,     0.96624,     0.96624,     0.96624,     0.96624,     0.96594,     0.96594,     0.96594,     0.96594,     0.96594,     0.96534,     0.96534,     0.96504,     0.96474,     0.96444,     0.96444,     0.96444,\n",
              "            0.96444,     0.96444,     0.96444,     0.96414,     0.96414,     0.96414,     0.96383,     0.96383,     0.96383,     0.96383,     0.96353,     0.96323,     0.96323,     0.96323,     0.96323,     0.96323,     0.96323,     0.96323,     0.96323,     0.96323,     0.96323,     0.96323,     0.96323,\n",
              "            0.96293,     0.96172,     0.96142,     0.96022,     0.95992,     0.95871,     0.95841,     0.95811,      0.9572,     0.95606,     0.95449,     0.95329,     0.95274,     0.95238,     0.95178,     0.95178,     0.95087,     0.95057,     0.95027,     0.94907,     0.94786,     0.94726,     0.94696,\n",
              "            0.94635,     0.94575,     0.94575,     0.94424,     0.94424,     0.94424,     0.94424,     0.94394,     0.94364,     0.94364,     0.94304,     0.94304,     0.94244,     0.94183,     0.94175,     0.94063,     0.94033,     0.94033,     0.94002,     0.94002,     0.94002,     0.94002,     0.93912,\n",
              "            0.93791,     0.93773,     0.93749,     0.93731,     0.93671,     0.93671,     0.93611,      0.9358,      0.9358,      0.9355,      0.9355,      0.9349,      0.9346,       0.934,     0.93369,     0.93369,     0.93369,     0.93339,     0.93298,     0.93249,     0.93249,     0.93249,     0.93244,\n",
              "            0.93219,     0.93189,     0.93098,     0.93096,     0.93068,     0.93068,     0.93068,     0.93038,     0.93013,     0.93008,     0.92948,     0.92887,     0.92857,     0.92827,     0.92827,     0.92797,     0.92767,     0.92706,     0.92706,     0.92706,     0.92706,     0.92664,     0.92616,\n",
              "            0.92556,     0.92435,     0.92435,     0.92435,     0.92435,     0.92435,     0.92435,     0.92426,     0.92375,     0.92375,     0.92288,     0.92254,     0.92254,     0.92224,     0.92224,     0.92216,     0.92194,     0.92164,     0.92153,     0.92121,     0.92083,      0.9207,     0.92043,\n",
              "            0.92043,     0.92043,     0.92043,     0.92013,     0.92013,     0.92013,     0.92013,     0.91953,      0.9194,     0.91898,      0.9189,     0.91867,     0.91863,     0.91863,     0.91838,     0.91827,      0.9177,     0.91742,     0.91652,     0.91652,     0.91651,     0.91621,     0.91621,\n",
              "            0.91621,     0.91591,     0.91568,     0.91531,     0.91514,     0.91501,     0.91501,     0.91501,     0.91471,     0.91471,     0.91441,     0.91441,     0.91441,     0.91424,     0.91397,      0.9138,      0.9132,      0.9132,      0.9129,      0.9129,      0.9123,      0.9123,     0.91169,\n",
              "            0.91169,     0.91169,     0.91169,     0.91169,     0.91139,     0.91139,     0.91079,     0.91079,     0.91079,     0.91079,     0.91019,     0.91019,     0.91019,     0.91019,     0.91019,     0.90989,     0.90989,     0.90989,     0.90989,     0.90977,     0.90928,     0.90928,     0.90898,\n",
              "            0.90868,     0.90868,     0.90854,      0.9084,     0.90836,     0.90819,     0.90808,     0.90808,     0.90778,     0.90747,     0.90678,     0.90627,     0.90627,     0.90625,     0.90597,     0.90416,      0.9037,     0.90356,     0.90356,     0.90298,     0.90205,     0.90205,     0.90205,\n",
              "            0.90205,      0.9012,     0.90084,     0.90054,     0.90024,     0.90007,     0.89994,     0.89934,     0.89916,     0.89869,     0.89851,     0.89783,     0.89783,     0.89693,     0.89605,     0.89512,     0.89503,     0.89482,     0.89451,      0.8943,     0.89361,     0.89352,     0.89341,\n",
              "            0.89326,     0.89301,     0.89271,     0.89271,     0.89271,     0.89241,     0.89239,     0.89208,      0.8915,      0.8915,     0.89135,      0.8912,      0.8909,      0.8909,      0.8903,      0.8903,      0.8903,      0.8903,      0.8903,      0.8903,     0.88969,     0.88949,     0.88912,\n",
              "             0.8885,     0.88819,     0.88698,     0.88698,     0.88668,     0.88654,     0.88577,     0.88558,     0.88527,      0.8849,     0.88397,     0.88366,     0.88349,     0.88306,     0.88267,     0.88246,      0.8821,     0.88192,     0.88186,     0.88065,     0.88035,     0.88013,     0.87975,\n",
              "            0.87945,     0.87945,     0.87942,     0.87854,     0.87818,     0.87803,     0.87781,     0.87734,     0.87689,     0.87643,     0.87643,     0.87643,     0.87643,     0.87613,       0.876,     0.87584,     0.87517,     0.87462,     0.87395,     0.87334,     0.87303,     0.87272,     0.87251,\n",
              "            0.87215,     0.87197,     0.87161,      0.8714,     0.87131,     0.87048,      0.8701,      0.8698,      0.8692,     0.86857,     0.86799,     0.86795,     0.86769,     0.86769,     0.86733,     0.86672,     0.86641,     0.86584,     0.86569,     0.86523,     0.86508,     0.86498,     0.86498,\n",
              "            0.86488,     0.86472,     0.86415,     0.86407,     0.86324,     0.86317,     0.86317,     0.86304,     0.86289,     0.86287,     0.86168,     0.86137,     0.86046,        0.86,     0.85984,     0.85954,     0.85939,     0.85893,     0.85876,     0.85853,     0.85805,     0.85737,     0.85722,\n",
              "            0.85684,     0.85676,     0.85661,     0.85615,       0.856,     0.85584,     0.85569,     0.85513,     0.85452,     0.85421,     0.85371,     0.85356,     0.85177,     0.85147,     0.85086,     0.85055,     0.85007,     0.84992,     0.84991,     0.84931,      0.8478,     0.84749,     0.84718,\n",
              "            0.84687,     0.84626,     0.84565,     0.84509,     0.84509,     0.84479,     0.84471,     0.84414,     0.84399,     0.84358,     0.84358,     0.84358,     0.84352,     0.84337,     0.84321,     0.84306,     0.84268,     0.84252,     0.84221,      0.8416,     0.84069,     0.83948,     0.83857,\n",
              "            0.83826,     0.83816,     0.83794,     0.83785,     0.83702,     0.83581,      0.8349,     0.83484,     0.83484,     0.83397,     0.83394,     0.83394,     0.83304,     0.83273,     0.83183,     0.83061,     0.83032,     0.83029,     0.82968,     0.82937,     0.82819,     0.82803,     0.82791,\n",
              "            0.82791,     0.82753,     0.82722,     0.82631,      0.8254,     0.82479,     0.82399,     0.82387,     0.82369,     0.82355,     0.82294,     0.82233,     0.82202,     0.82081,     0.81989,     0.81977,     0.81928,     0.81867,     0.81836,     0.81789,     0.81779,     0.81768,     0.81712,\n",
              "            0.81681,      0.8165,     0.81559,     0.81468,     0.81407,     0.81331,      0.8127,     0.81209,     0.81163,     0.81087,     0.80996,     0.80965,     0.80904,     0.80873,     0.80721,      0.8066,     0.80599,      0.8058,     0.80564,     0.80507,     0.80476,     0.80415,     0.80397,\n",
              "            0.80381,     0.80322,     0.80231,      0.8014,     0.80139,     0.80078,     0.80016,     0.79881,      0.7985,     0.79758,     0.79697,     0.79636,     0.79605,     0.79575,     0.79514,     0.79494,     0.79479,     0.79476,      0.7933,     0.79178,     0.79147,     0.78951,      0.7892,\n",
              "            0.78889,     0.78798,     0.78737,     0.78585,     0.78541,     0.78524,     0.78432,     0.78371,      0.7831,     0.78234,     0.78203,     0.78142,     0.78055,      0.7804,     0.77989,     0.77958,     0.77897,     0.77836,     0.77733,     0.77728,     0.77638,     0.77622,     0.77546,\n",
              "            0.77395,     0.77304,     0.77273,     0.77208,     0.77136,     0.77044,     0.76923,     0.76832,     0.76771,     0.76752,     0.76736,     0.76603,     0.76482,     0.76421,      0.7639,     0.76371,     0.76284,     0.76192,      0.7613,     0.76069,     0.75918,     0.75857,     0.75829,\n",
              "             0.7572,     0.75599,     0.75477,     0.75416,     0.75355,     0.75249,     0.75188,     0.75097,     0.74945,     0.74904,     0.74808,     0.74687,     0.74656,     0.74625,     0.74398,     0.74254,     0.74239,     0.74185,      0.7396,     0.73807,     0.73776,     0.73629,     0.73589,\n",
              "            0.73427,     0.73336,     0.73252,     0.73169,     0.73138,     0.73107,     0.73035,     0.72819,     0.72758,     0.72676,     0.72561,      0.7253,     0.72443,     0.72423,     0.72271,      0.7221,     0.72146,     0.71983,     0.71922,     0.71861,     0.71754,     0.71693,     0.71565,\n",
              "            0.71466,     0.71344,     0.71314,     0.71147,     0.70996,     0.70953,     0.70708,     0.70603,     0.70591,     0.70419,     0.70313,     0.70282,     0.70159,     0.70115,     0.69939,     0.69797,     0.69736,     0.69428,     0.69327,     0.69304,       0.691,     0.69069,     0.68921,\n",
              "              0.689,      0.6881,     0.68674,      0.6854,     0.68386,     0.68355,     0.68219,     0.68158,     0.67991,     0.67898,     0.67764,     0.67733,     0.67567,      0.6732,     0.67218,     0.67112,     0.66689,      0.6656,      0.6641,     0.66356,     0.66314,     0.66219,     0.66158,\n",
              "            0.66021,     0.65883,     0.65763,     0.65597,     0.65521,     0.65428,     0.65384,     0.65202,     0.65005,      0.6497,     0.64929,     0.64672,     0.64604,     0.64444,     0.64067,     0.64027,     0.63877,     0.63763,     0.63661,     0.63505,     0.63296,     0.63202,     0.63066,\n",
              "             0.6296,     0.62747,     0.62642,     0.62536,     0.62414,     0.62293,     0.62137,     0.61945,     0.61658,      0.6159,     0.61445,     0.61346,     0.61278,     0.60961,     0.60889,     0.60688,     0.60585,      0.6037,      0.6004,     0.60007,     0.59494,     0.59221,     0.59085,\n",
              "            0.58766,     0.58692,     0.58552,     0.58389,     0.58127,     0.58056,     0.57642,     0.57452,     0.57137,     0.57117,     0.56822,     0.56665,     0.56247,     0.56001,     0.55822,     0.55532,     0.55216,     0.54993,     0.54731,     0.54369,     0.54185,     0.54033,     0.53719,\n",
              "            0.53427,     0.53129,     0.53002,     0.52549,     0.52389,     0.52124,     0.51799,     0.51699,     0.51215,     0.50923,     0.50699,     0.50397,     0.50077,     0.49911,     0.49488,     0.49065,     0.48792,     0.48566,     0.47945,      0.4757,     0.47098,     0.46584,     0.45925,\n",
              "            0.45797,     0.45253,       0.448,     0.44256,     0.43948,     0.43258,     0.42925,     0.42652,     0.42108,     0.41638,     0.41322,     0.40627,     0.39661,     0.39057,     0.38603,      0.3815,     0.37395,     0.36825,     0.36518,     0.35974,     0.35369,     0.34856,     0.34312,\n",
              "            0.33587,     0.32771,     0.32167,     0.31201,     0.30567,     0.29782,     0.29208,     0.28422,     0.27607,      0.2628,     0.25826,      0.2489,     0.24226,     0.23501,     0.22957,     0.22503,      0.2208,     0.20993,     0.20389,     0.19574,      0.1903,     0.18335,     0.17731,\n",
              "            0.17096,     0.16613,     0.15797,     0.15193,     0.14589,     0.13774,     0.13169,     0.12444,     0.11961,     0.11507,     0.10903,      0.1057,     0.10267,    0.097832,    0.091789,    0.089061,    0.085964,    0.081497,    0.078468,    0.074233,    0.070903,    0.067271,    0.065749,\n",
              "            0.06272,    0.060595,    0.056662,    0.051523,    0.049399,    0.047877,    0.045451,    0.043965,    0.041502,    0.039679,    0.038367,    0.036032,    0.032702,    0.031481,    0.029959,    0.028437,     0.02571,     0.02479,    0.023871,    0.021445,    0.020526,    0.019598,    0.018536,\n",
              "           0.017768,    0.016547,    0.015025,    0.014106,    0.012584,    0.011665,    0.010444,   0.0086207,   0.0070987,   0.0059778,   0.0057719,   0.0054857,   0.0047247,   0.0040094,   0.0037425,   0.0033765,   0.0029025,    0.002779,   0.0026411,   0.0024867,   0.0018077,   0.0017796,   0.0017515,\n",
              "          0.0017234,   0.0016953,   0.0016673,   0.0016392,   0.0016111,    0.001583,   0.0015549,   0.0015268,   0.0014169,   0.0010104,  0.00064833,  0.00056985,  0.00053123,  0.00049262,    0.000454,  0.00041539,  0.00037677,  0.00033815,           0,           0,           0,           0,           0,\n",
              "                  0,           0,           0,           0,           0,           0,           0,           0,           0,           0,           0,           0,           0,           0,           0,           0,           0,           0,           0,           0,           0,           0,           0,\n",
              "                  0,           0,           0,           0,           0,           0,           0,           0,           0,           0,           0]]), 'Confidence', 'Recall']]\n",
              "fitness: np.float64(0.6983316429070167)\n",
              "keys: ['metrics/precision(B)', 'metrics/recall(B)', 'metrics/mAP50(B)', 'metrics/mAP50-95(B)']\n",
              "maps: array([    0.66932])\n",
              "names: {0: 'ladybug'}\n",
              "plot: True\n",
              "results_dict: {'metrics/precision(B)': np.float64(0.9465269157859987), 'metrics/recall(B)': np.float64(0.8855833681783049), 'metrics/mAP50(B)': np.float64(0.9594565973409204), 'metrics/mAP50-95(B)': np.float64(0.6693177590810273), 'fitness': np.float64(0.6983316429070167)}\n",
              "save_dir: PosixPath('runs/detect/train')\n",
              "speed: {'preprocess': 0.1433290824716573, 'inference': 2.0085742763968515, 'loss': 0.0003370369211576167, 'postprocess': 0.16500882608787756}\n",
              "task: 'detect'"
            ]
          },
          "execution_count": 6,
          "metadata": {},
          "output_type": "execute_result"
        }
      ],
      "source": [
        "\n",
        "model = YOLO(\"yolov10n.yaml\")\n",
        "\n",
        "model.train(data=os.path.join(ROOT_DIR, 'drive_config.yaml'), epochs=100, imgsz=640)"
      ]
    },
    {
      "cell_type": "code",
      "execution_count": null,
      "metadata": {
        "id": "f81hPxAYACrv"
      },
      "outputs": [],
      "source": []
    }
  ],
  "metadata": {
    "accelerator": "GPU",
    "colab": {
      "gpuType": "T4",
      "machine_shape": "hm",
      "provenance": []
    },
    "kernelspec": {
      "display_name": "Python 3",
      "name": "python3"
    },
    "language_info": {
      "name": "python",
      "version": "3.13.1"
    }
  },
  "nbformat": 4,
  "nbformat_minor": 0
}
