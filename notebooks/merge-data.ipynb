{
 "cells": [
  {
   "cell_type": "code",
   "execution_count": 1,
   "metadata": {
    "colab": {
     "base_uri": "https://localhost:8080/"
    },
    "executionInfo": {
     "elapsed": 56830,
     "status": "ok",
     "timestamp": 1746312505157,
     "user": {
      "displayName": "Sebas Granizo",
      "userId": "01109719679913142206"
     },
     "user_tz": 300
    },
    "id": "hKde7F6gU8Yh",
    "outputId": "b6847712-3f20-4323-9350-e98735c59772"
   },
   "outputs": [
    {
     "name": "stdout",
     "output_type": "stream",
     "text": [
      "¡Unión completada! Las imágenes y etiquetas están en 'merged/'.\n"
     ]
    }
   ],
   "source": [
    "import os\n",
    "import shutil\n",
    "\n",
    "# Definir rutas\n",
    "base_dir = '/content/drive/MyDrive/Colab Notebooks/personal-tests/tesis/data'\n",
    "val_images = os.path.join(base_dir, 'val/images')\n",
    "val_labels = os.path.join(base_dir, 'val/labels')\n",
    "test_images = os.path.join(base_dir, 'test/images')\n",
    "test_labels = os.path.join(base_dir, 'test/labels')\n",
    "\n",
    "merged_images = os.path.join(base_dir, 'merged/images')\n",
    "merged_labels = os.path.join(base_dir, 'merged/labels')\n",
    "\n",
    "# Crear carpetas de destino\n",
    "os.makedirs(merged_images, exist_ok=True)\n",
    "os.makedirs(merged_labels, exist_ok=True)\n",
    "\n",
    "# Función para copiar archivos de una carpeta a otra\n",
    "def copiar_archivos(origen, destino):\n",
    "    for archivo in os.listdir(origen):\n",
    "        ruta_archivo = os.path.join(origen, archivo)\n",
    "        if os.path.isfile(ruta_archivo):\n",
    "            shutil.copy(ruta_archivo, destino)\n",
    "\n",
    "# Copiar imágenes\n",
    "copiar_archivos(val_images, merged_images)\n",
    "copiar_archivos(test_images, merged_images)\n",
    "\n",
    "# Copiar labels\n",
    "copiar_archivos(val_labels, merged_labels)\n",
    "copiar_archivos(test_labels, merged_labels)\n",
    "\n",
    "print(\"¡Unión completada! Las imágenes y etiquetas están en 'merged/'.\")\n"
   ]
  },
  {
   "cell_type": "markdown",
   "metadata": {},
   "source": [
    "30% para test usand test y val anteriores de 15 y 15"
   ]
  },
  {
   "cell_type": "code",
   "execution_count": null,
   "metadata": {
    "id": "TA7MeLnUVUh5"
   },
   "outputs": [],
   "source": []
  }
 ],
 "metadata": {
  "colab": {
   "authorship_tag": "ABX9TyN9jsj3t0oYixsvGxnrlDHY",
   "mount_file_id": "1D3erY6c7uxpUDapNK6JxR8Qqj63BMKgj",
   "provenance": []
  },
  "kernelspec": {
   "display_name": "Python 3",
   "name": "python3"
  },
  "language_info": {
   "name": "python"
  }
 },
 "nbformat": 4,
 "nbformat_minor": 0
}
