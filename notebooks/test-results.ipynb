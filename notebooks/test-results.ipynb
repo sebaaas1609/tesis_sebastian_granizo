{
 "cells": [
  {
   "cell_type": "code",
   "execution_count": null,
   "metadata": {
    "id": "J72h4NxAzDV9"
   },
   "outputs": [],
   "source": [
    "%%capture\n",
    "!pip install ultralytics"
   ]
  },
  {
   "cell_type": "code",
   "execution_count": null,
   "metadata": {
    "colab": {
     "base_uri": "https://localhost:8080/"
    },
    "executionInfo": {
     "elapsed": 3332,
     "status": "ok",
     "timestamp": 1746321510775,
     "user": {
      "displayName": "Sebas Granizo",
      "userId": "01109719679913142206"
     },
     "user_tz": 300
    },
    "id": "rCtRKYZSzJWX",
    "outputId": "e8631cc9-7dba-4965-e50f-86f22559480a"
   },
   "outputs": [
    {
     "name": "stdout",
     "output_type": "stream",
     "text": [
      "Creating new Ultralytics Settings v0.0.6 file ✅ \n",
      "View Ultralytics Settings with 'yolo settings' or at '/root/.config/Ultralytics/settings.json'\n",
      "Update Settings with 'yolo settings key=value', i.e. 'yolo settings runs_dir=path/to/dir'. For help see https://docs.ultralytics.com/quickstart/#ultralytics-settings.\n"
     ]
    }
   ],
   "source": [
    "import os\n",
    "import random\n",
    "from glob import glob\n",
    "from ultralytics import YOLO\n",
    "from PIL import Image\n",
    "import shutil"
   ]
  },
  {
   "cell_type": "code",
   "execution_count": null,
   "metadata": {
    "colab": {
     "base_uri": "https://localhost:8080/"
    },
    "executionInfo": {
     "elapsed": 14264,
     "status": "ok",
     "timestamp": 1745934631007,
     "user": {
      "displayName": "Sebas Granizo",
      "userId": "01109719679913142206"
     },
     "user_tz": 300
    },
    "id": "K3R0tQDwyiZS",
    "outputId": "b0e08ebe-4922-4b15-8c01-4ecea99032cb"
   },
   "outputs": [
    {
     "name": "stdout",
     "output_type": "stream",
     "text": [
      "\n",
      "image 1/1 /content/drive/MyDrive/Colab Notebooks/personal-tests/tesis/data/test/images/12363348_17809056.jpeg: 480x640 1 ladybug, 49.0ms\n",
      "Speed: 13.0ms preprocess, 49.0ms inference, 391.5ms postprocess per image at shape (1, 3, 480, 640)\n",
      "\n",
      "image 1/1 /content/drive/MyDrive/Colab Notebooks/personal-tests/tesis/data/test/images/70057335_113817265.jpg: 640x640 1 ladybug, 16.4ms\n",
      "Speed: 3.5ms preprocess, 16.4ms inference, 1.5ms postprocess per image at shape (1, 3, 640, 640)\n",
      "\n",
      "image 1/1 /content/drive/MyDrive/Colab Notebooks/personal-tests/tesis/data/test/images/64173460_103128617.jpeg: 640x576 1 ladybug, 45.6ms\n",
      "Speed: 2.9ms preprocess, 45.6ms inference, 1.5ms postprocess per image at shape (1, 3, 640, 576)\n",
      "\n",
      "image 1/1 /content/drive/MyDrive/Colab Notebooks/personal-tests/tesis/data/test/images/70851186_115257956.jpeg: 640x512 1 ladybug, 44.3ms\n",
      "Speed: 2.6ms preprocess, 44.3ms inference, 1.5ms postprocess per image at shape (1, 3, 640, 512)\n",
      "\n",
      "image 1/1 /content/drive/MyDrive/Colab Notebooks/personal-tests/tesis/data/test/images/19590596_30158792.jpeg: 480x640 1 ladybug, 13.3ms\n",
      "Speed: 2.8ms preprocess, 13.3ms inference, 1.6ms postprocess per image at shape (1, 3, 480, 640)\n",
      "\n",
      "image 1/1 /content/drive/MyDrive/Colab Notebooks/personal-tests/tesis/data/test/images/38352203_60940810.jpg: 640x480 1 ladybug, 45.9ms\n",
      "Speed: 2.6ms preprocess, 45.9ms inference, 1.6ms postprocess per image at shape (1, 3, 640, 480)\n",
      "\n",
      "image 1/1 /content/drive/MyDrive/Colab Notebooks/personal-tests/tesis/data/test/images/42061023_66753940.jpg: 640x480 1 ladybug, 13.3ms\n",
      "Speed: 2.6ms preprocess, 13.3ms inference, 1.6ms postprocess per image at shape (1, 3, 640, 480)\n",
      "\n",
      "image 1/1 /content/drive/MyDrive/Colab Notebooks/personal-tests/tesis/data/test/images/28742409_44824000.jpeg: 640x480 1 ladybug, 12.3ms\n",
      "Speed: 2.6ms preprocess, 12.3ms inference, 1.4ms postprocess per image at shape (1, 3, 640, 480)\n",
      "\n",
      "image 1/1 /content/drive/MyDrive/Colab Notebooks/personal-tests/tesis/data/test/images/31986541_50121227.jpg: 480x640 1 ladybug, 13.0ms\n",
      "Speed: 2.4ms preprocess, 13.0ms inference, 1.3ms postprocess per image at shape (1, 3, 480, 640)\n",
      "\n",
      "image 1/1 /content/drive/MyDrive/Colab Notebooks/personal-tests/tesis/data/test/images/8325099_11057855.jpeg: 640x480 1 ladybug, 12.9ms\n",
      "Speed: 3.2ms preprocess, 12.9ms inference, 1.4ms postprocess per image at shape (1, 3, 640, 480)\n",
      "\n",
      "image 1/1 /content/drive/MyDrive/Colab Notebooks/personal-tests/tesis/data/test/images/63337773_101631503.jpg: 640x480 1 ladybug, 12.3ms\n",
      "Speed: 2.3ms preprocess, 12.3ms inference, 1.4ms postprocess per image at shape (1, 3, 640, 480)\n",
      "\n",
      "image 1/1 /content/drive/MyDrive/Colab Notebooks/personal-tests/tesis/data/test/images/27025417_42005509.jpg: 640x384 1 ladybug, 48.7ms\n",
      "Speed: 1.9ms preprocess, 48.7ms inference, 1.4ms postprocess per image at shape (1, 3, 640, 384)\n",
      "\n",
      "image 1/1 /content/drive/MyDrive/Colab Notebooks/personal-tests/tesis/data/test/images/40863824_64784098.jpg: 448x640 1 ladybug, 46.3ms\n",
      "Speed: 2.3ms preprocess, 46.3ms inference, 1.3ms postprocess per image at shape (1, 3, 448, 640)\n",
      "\n",
      "image 1/1 /content/drive/MyDrive/Colab Notebooks/personal-tests/tesis/data/test/images/38709749_61564159.jpeg: 480x640 1 ladybug, 13.1ms\n",
      "Speed: 2.3ms preprocess, 13.1ms inference, 1.4ms postprocess per image at shape (1, 3, 480, 640)\n",
      "\n",
      "image 1/1 /content/drive/MyDrive/Colab Notebooks/personal-tests/tesis/data/test/images/64574181_103834751.jpeg: 640x480 1 ladybug, 16.3ms\n",
      "Speed: 3.5ms preprocess, 16.3ms inference, 1.9ms postprocess per image at shape (1, 3, 640, 480)\n",
      "\n",
      "image 1/1 /content/drive/MyDrive/Colab Notebooks/personal-tests/tesis/data/test/images/52080904_82773850.jpg: 640x480 1 ladybug, 12.3ms\n",
      "Speed: 2.3ms preprocess, 12.3ms inference, 1.4ms postprocess per image at shape (1, 3, 640, 480)\n",
      "\n",
      "image 1/1 /content/drive/MyDrive/Colab Notebooks/personal-tests/tesis/data/test/images/47334268_75069397.jpg: 640x480 1 ladybug, 12.3ms\n",
      "Speed: 2.4ms preprocess, 12.3ms inference, 1.4ms postprocess per image at shape (1, 3, 640, 480)\n",
      "\n",
      "image 1/1 /content/drive/MyDrive/Colab Notebooks/personal-tests/tesis/data/test/images/66387594_107010395.jpg: 640x480 1 ladybug, 12.3ms\n",
      "Speed: 2.4ms preprocess, 12.3ms inference, 1.4ms postprocess per image at shape (1, 3, 640, 480)\n",
      "\n",
      "image 1/1 /content/drive/MyDrive/Colab Notebooks/personal-tests/tesis/data/test/images/33827946_53172013.jpg: 640x480 1 ladybug, 12.3ms\n",
      "Speed: 2.4ms preprocess, 12.3ms inference, 1.4ms postprocess per image at shape (1, 3, 640, 480)\n",
      "\n",
      "image 1/1 /content/drive/MyDrive/Colab Notebooks/personal-tests/tesis/data/test/images/48440539_76863042.jpg: 640x640 1 ladybug, 16.2ms\n",
      "Speed: 3.1ms preprocess, 16.2ms inference, 1.4ms postprocess per image at shape (1, 3, 640, 640)\n",
      "\n",
      "image 1/1 /content/drive/MyDrive/Colab Notebooks/personal-tests/tesis/data/test/images/34005056_53469440.jpg: 640x480 1 ladybug, 12.9ms\n",
      "Speed: 2.5ms preprocess, 12.9ms inference, 1.4ms postprocess per image at shape (1, 3, 640, 480)\n",
      "\n",
      "image 1/1 /content/drive/MyDrive/Colab Notebooks/personal-tests/tesis/data/test/images/65183661_104878434.jpg: 480x640 1 ladybug, 13.1ms\n",
      "Speed: 2.4ms preprocess, 13.1ms inference, 1.4ms postprocess per image at shape (1, 3, 480, 640)\n",
      "\n",
      "image 1/1 /content/drive/MyDrive/Colab Notebooks/personal-tests/tesis/data/test/images/64312301_103372708.jpg: 480x640 2 ladybugs, 12.4ms\n",
      "Speed: 2.6ms preprocess, 12.4ms inference, 1.5ms postprocess per image at shape (1, 3, 480, 640)\n",
      "\n",
      "image 1/1 /content/drive/MyDrive/Colab Notebooks/personal-tests/tesis/data/test/images/21749475_33684033.jpeg: 640x480 1 ladybug, 12.9ms\n",
      "Speed: 2.4ms preprocess, 12.9ms inference, 1.3ms postprocess per image at shape (1, 3, 640, 480)\n",
      "\n",
      "image 1/1 /content/drive/MyDrive/Colab Notebooks/personal-tests/tesis/data/test/images/33506611_52628710.jpg: 480x640 1 ladybug, 13.0ms\n",
      "Speed: 2.3ms preprocess, 13.0ms inference, 1.3ms postprocess per image at shape (1, 3, 480, 640)\n",
      "\n",
      "image 1/1 /content/drive/MyDrive/Colab Notebooks/personal-tests/tesis/data/test/images/23525797_36428511.jpg: 512x640 1 ladybug, 46.1ms\n",
      "Speed: 2.0ms preprocess, 46.1ms inference, 1.4ms postprocess per image at shape (1, 3, 512, 640)\n",
      "\n",
      "image 1/1 /content/drive/MyDrive/Colab Notebooks/personal-tests/tesis/data/test/images/36143850_57098336.jpg: 640x480 1 ladybug, 13.0ms\n",
      "Speed: 2.3ms preprocess, 13.0ms inference, 1.3ms postprocess per image at shape (1, 3, 640, 480)\n",
      "\n",
      "image 1/1 /content/drive/MyDrive/Colab Notebooks/personal-tests/tesis/data/test/images/19947192_30777142.jpg: 640x480 2 ladybugs, 12.3ms\n",
      "Speed: 2.2ms preprocess, 12.3ms inference, 1.4ms postprocess per image at shape (1, 3, 640, 480)\n",
      "\n",
      "image 1/1 /content/drive/MyDrive/Colab Notebooks/personal-tests/tesis/data/test/images/45307446_71838851.jpeg: 640x480 1 ladybug, 12.3ms\n",
      "Speed: 2.4ms preprocess, 12.3ms inference, 1.3ms postprocess per image at shape (1, 3, 640, 480)\n",
      "\n",
      "image 1/1 /content/drive/MyDrive/Colab Notebooks/personal-tests/tesis/data/test/images/53631801_85307613.jpeg: 448x640 1 ladybug, 12.8ms\n",
      "Speed: 2.1ms preprocess, 12.8ms inference, 1.3ms postprocess per image at shape (1, 3, 448, 640)\n",
      "\n",
      "image 1/1 /content/drive/MyDrive/Colab Notebooks/personal-tests/tesis/data/test/images/36143595_57097754.jpeg: 640x480 1 ladybug, 12.9ms\n",
      "Speed: 2.2ms preprocess, 12.9ms inference, 1.3ms postprocess per image at shape (1, 3, 640, 480)\n",
      "\n",
      "image 1/1 /content/drive/MyDrive/Colab Notebooks/personal-tests/tesis/data/test/images/55604451_88553044.jpg: 640x480 1 ladybug, 12.3ms\n",
      "Speed: 2.2ms preprocess, 12.3ms inference, 1.3ms postprocess per image at shape (1, 3, 640, 480)\n",
      "\n",
      "image 1/1 /content/drive/MyDrive/Colab Notebooks/personal-tests/tesis/data/test/images/58972950_94181525.jpeg: 640x480 1 ladybug, 12.3ms\n",
      "Speed: 2.3ms preprocess, 12.3ms inference, 1.3ms postprocess per image at shape (1, 3, 640, 480)\n",
      "\n",
      "image 1/1 /content/drive/MyDrive/Colab Notebooks/personal-tests/tesis/data/test/images/23930327_37017630.jpeg: 448x640 1 ladybug, 12.7ms\n",
      "Speed: 2.1ms preprocess, 12.7ms inference, 1.3ms postprocess per image at shape (1, 3, 448, 640)\n",
      "\n",
      "image 1/1 /content/drive/MyDrive/Colab Notebooks/personal-tests/tesis/data/test/images/67259079_108624287.jpg: 544x640 1 ladybug, 44.8ms\n",
      "Speed: 2.5ms preprocess, 44.8ms inference, 1.3ms postprocess per image at shape (1, 3, 544, 640)\n",
      "\n",
      "image 1/1 /content/drive/MyDrive/Colab Notebooks/personal-tests/tesis/data/test/images/65418578_105289263.jpg: 640x480 1 ladybug, 13.0ms\n",
      "Speed: 2.3ms preprocess, 13.0ms inference, 1.3ms postprocess per image at shape (1, 3, 640, 480)\n",
      "\n",
      "image 1/1 /content/drive/MyDrive/Colab Notebooks/personal-tests/tesis/data/test/images/25482480_39474179.jpg: 640x480 1 ladybug, 12.3ms\n",
      "Speed: 2.2ms preprocess, 12.3ms inference, 1.4ms postprocess per image at shape (1, 3, 640, 480)\n",
      "\n",
      "image 1/1 /content/drive/MyDrive/Colab Notebooks/personal-tests/tesis/data/test/images/46413375_73613837.jpeg: 512x640 1 ladybug, 13.2ms\n",
      "Speed: 2.1ms preprocess, 13.2ms inference, 1.3ms postprocess per image at shape (1, 3, 512, 640)\n",
      "\n",
      "image 1/1 /content/drive/MyDrive/Colab Notebooks/personal-tests/tesis/data/test/images/18395885_28116975.png: 640x384 1 ladybug, 11.3ms\n",
      "Speed: 1.8ms preprocess, 11.3ms inference, 1.3ms postprocess per image at shape (1, 3, 640, 384)\n",
      "\n",
      "image 1/1 /content/drive/MyDrive/Colab Notebooks/personal-tests/tesis/data/test/images/65531601_105490632.jpeg: 640x480 1 ladybug, 12.9ms\n",
      "Speed: 2.3ms preprocess, 12.9ms inference, 1.4ms postprocess per image at shape (1, 3, 640, 480)\n",
      "✅ Imágenes procesadas y guardadas en la carpeta: /content/drive/MyDrive/Colab Notebooks/personal-tests/tesis/resultados-test\n"
     ]
    }
   ],
   "source": [
    "\n",
    "# === Configuración del entorno ===\n",
    "ruta_modelo = \"/content/drive/MyDrive/Colab Notebooks/personal-tests/tesis/resultados-scratch/yolo11/results_train_fold6/fold6/weights/best.pt\"\n",
    "ruta_test = \"/content/drive/MyDrive/Colab Notebooks/personal-tests/tesis/data/merged/images\"\n",
    "ruta_resultados = \"/content/drive/MyDrive/Colab Notebooks/personal-tests/tesis/resultados-test\"\n",
    "num_imagenes = 100\n",
    "umbral_confianza = 0.6  # Umbral del modelo seleccionado\n",
    "\n",
    "# === Crear carpeta de resultados ===\n",
    "if os.path.exists(ruta_resultados):\n",
    "    shutil.rmtree(ruta_resultados)\n",
    "os.makedirs(ruta_resultados, exist_ok=True)\n",
    "\n",
    "# === Cargar modelo YOLO ===\n",
    "modelo = YOLO(ruta_modelo)\n",
    "\n",
    "# === Seleccionar imágenes aleatorias ===\n",
    "extensiones = [\"*.jpg\", \"*.jpeg\", \"*.png\"]\n",
    "imagenes_test = []\n",
    "for ext in extensiones:\n",
    "    imagenes_test.extend(glob(os.path.join(ruta_test, ext)))\n",
    "imagenes_seleccionadas = random.sample(imagenes_test, num_imagenes)\n",
    "\n",
    "# === Inferencia con umbral y NMS, y guardado de resultados ===\n",
    "for img_path in imagenes_seleccionadas:\n",
    "    nombre_archivo = os.path.basename(img_path)\n",
    "\n",
    "    # Realizar predicción con conf=0.6 y NMS activado por defecto\n",
    "    resultados = modelo(img_path, conf=umbral_confianza, iou=0.7)  # Ajusta iou si lo deseas\n",
    "\n",
    "    # Guardar la imagen con cajas detectadas\n",
    "    for r in resultados:\n",
    "        r.save(filename=os.path.join(ruta_resultados, nombre_archivo))\n",
    "\n",
    "print(\"Imágenes procesadas y guardadas en la carpeta:\", ruta_resultados)\n"
   ]
  }
 ],
 "metadata": {
  "accelerator": "GPU",
  "colab": {
   "authorship_tag": "ABX9TyO6xS0tJLidkfTG+YzUQyTI",
   "gpuType": "T4",
   "machine_shape": "hm",
   "mount_file_id": "1qyJziZL1tmWswnyBc0eUKEo_q5f_dUVo",
   "provenance": []
  },
  "kernelspec": {
   "display_name": "Python 3",
   "name": "python3"
  },
  "language_info": {
   "name": "python"
  }
 },
 "nbformat": 4,
 "nbformat_minor": 0
}
