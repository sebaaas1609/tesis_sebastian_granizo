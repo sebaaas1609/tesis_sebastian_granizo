{
  "cells": [
    {
      "cell_type": "code",
      "execution_count": null,
      "metadata": {
        "id": "4jb4D30m_wlm"
      },
      "outputs": [],
      "source": [
        "import os\n",
        "from sklearn.model_selection import StratifiedKFold\n",
        "import shutil"
      ]
    },
    {
      "cell_type": "code",
      "execution_count": null,
      "metadata": {
        "id": "0UaBKbbVAGWY"
      },
      "outputs": [],
      "source": [
        "ROOT_DIR = '/content/drive/MyDrive/Colab Notebooks/personal-tests/tesis'"
      ]
    },
    {
      "cell_type": "code",
      "execution_count": null,
      "metadata": {
        "id": "fMI-Av5HCISh"
      },
      "outputs": [],
      "source": [
        "images_dir = ROOT_DIR + '/data/train/images'\n",
        "labels_dir = ROOT_DIR + '/data/train/labels'\n",
        "output_dir = ROOT_DIR + '/outputs/kfold_yolo_11'\n"
      ]
    },
    {
      "cell_type": "code",
      "execution_count": null,
      "metadata": {
        "colab": {
          "base_uri": "https://localhost:8080/"
        },
        "id": "xSOFbquIC2X7",
        "outputId": "435286b6-d6aa-4295-f94d-582641963745"
      },
      "outputs": [
        {
          "output_type": "stream",
          "name": "stdout",
          "text": [
            "/content/drive/MyDrive/Colab Notebooks/personal-tests/tesis/data/train/images\n"
          ]
        }
      ],
      "source": [
        "print(images_dir)"
      ]
    },
    {
      "cell_type": "code",
      "execution_count": null,
      "metadata": {
        "id": "5vnkoqWpCgwk"
      },
      "outputs": [],
      "source": [
        "image_files = sorted([f for f in os.listdir(images_dir) if f.endswith('.jpg') or f.endswith('.png') or f.endswith('.jpeg')])\n",
        "label_files = [f.replace('.jpg', '.txt').replace('.png', '.txt').replace('.jpeg', '.txt') for f in image_files]\n",
        "\n",
        "# Asignar clases (aunque sea solo una clase, la necesitamos para StratifiedKFold)\n",
        "def get_class_from_label(label_path):\n",
        "    try:\n",
        "        with open(label_path, 'r') as f:\n",
        "            lines = f.readlines()\n",
        "            if lines:\n",
        "                return int(lines[0].split()[0])  # primer ID de clase\n",
        "    except:\n",
        "        return -1  # si hay un error\n",
        "    return -1\n",
        "\n",
        "y = [get_class_from_label(os.path.join(labels_dir, label)) for label in label_files]"
      ]
    },
    {
      "cell_type": "code",
      "execution_count": null,
      "metadata": {
        "id": "ZZ3XTm0WCs99"
      },
      "outputs": [],
      "source": [
        "from sklearn.model_selection import StratifiedKFold\n",
        "import numpy as np\n",
        "\n",
        "n_splits = 10\n",
        "skf = StratifiedKFold(n_splits=n_splits, shuffle=True, random_state=42)\n",
        "\n",
        "for fold, (train_idx, val_idx) in enumerate(skf.split(image_files, y)):\n",
        "    fold_dir = os.path.join(output_dir, f'fold{fold}')\n",
        "    os.makedirs(os.path.join(fold_dir, 'images', 'train'), exist_ok=True)\n",
        "    os.makedirs(os.path.join(fold_dir, 'images', 'val'), exist_ok=True)\n",
        "    os.makedirs(os.path.join(fold_dir, 'labels', 'train'), exist_ok=True)\n",
        "    os.makedirs(os.path.join(fold_dir, 'labels', 'val'), exist_ok=True)\n",
        "\n",
        "    for idx in train_idx:\n",
        "        img = image_files[idx]\n",
        "        lbl = label_files[idx]\n",
        "        shutil.copy(os.path.join(images_dir, img), os.path.join(fold_dir, 'images', 'train', img))\n",
        "        shutil.copy(os.path.join(labels_dir, lbl), os.path.join(fold_dir, 'labels', 'train', lbl))\n",
        "\n",
        "    for idx in val_idx:\n",
        "        img = image_files[idx]\n",
        "        lbl = label_files[idx]\n",
        "        shutil.copy(os.path.join(images_dir, img), os.path.join(fold_dir, 'images', 'val', img))\n",
        "        shutil.copy(os.path.join(labels_dir, lbl), os.path.join(fold_dir, 'labels', 'val', lbl))\n"
      ]
    },
    {
      "cell_type": "code",
      "source": [
        "import os\n",
        "\n",
        "base_path = '/content/drive/MyDrive/Colab Notebooks/personal-tests/tesis/outputs/kfold_yolo_11'\n",
        "n_splits = 10  # número de folds\n",
        "\n",
        "for fold in range(n_splits):\n",
        "    fold_path = f\"{base_path}/fold{fold}\"\n",
        "    yaml_content = f\"\"\"path: '{fold_path}'\n",
        "train: images/train\n",
        "val: images/val\n",
        "\n",
        "# Classes\n",
        "names:\n",
        "  0: ladybug\n",
        "\n",
        "\"\"\"\n",
        "\n",
        "    yaml_path = os.path.join(fold_path, f'data_fold{fold}.yaml')\n",
        "    with open(yaml_path, 'w') as f:\n",
        "        f.write(yaml_content)\n",
        "    print(f\"✅ YAML generado: {yaml_path}\")\n"
      ],
      "metadata": {
        "colab": {
          "base_uri": "https://localhost:8080/"
        },
        "id": "j3XEej-4H90l",
        "outputId": "a1269c13-dff1-439a-ccab-529aee3e6156"
      },
      "execution_count": null,
      "outputs": [
        {
          "output_type": "stream",
          "name": "stdout",
          "text": [
            "✅ YAML generado: /content/drive/MyDrive/Colab Notebooks/personal-tests/tesis/outputs/kfold_yolo_11/fold0/data_fold0.yaml\n",
            "✅ YAML generado: /content/drive/MyDrive/Colab Notebooks/personal-tests/tesis/outputs/kfold_yolo_11/fold1/data_fold1.yaml\n",
            "✅ YAML generado: /content/drive/MyDrive/Colab Notebooks/personal-tests/tesis/outputs/kfold_yolo_11/fold2/data_fold2.yaml\n",
            "✅ YAML generado: /content/drive/MyDrive/Colab Notebooks/personal-tests/tesis/outputs/kfold_yolo_11/fold3/data_fold3.yaml\n",
            "✅ YAML generado: /content/drive/MyDrive/Colab Notebooks/personal-tests/tesis/outputs/kfold_yolo_11/fold4/data_fold4.yaml\n",
            "✅ YAML generado: /content/drive/MyDrive/Colab Notebooks/personal-tests/tesis/outputs/kfold_yolo_11/fold5/data_fold5.yaml\n",
            "✅ YAML generado: /content/drive/MyDrive/Colab Notebooks/personal-tests/tesis/outputs/kfold_yolo_11/fold6/data_fold6.yaml\n",
            "✅ YAML generado: /content/drive/MyDrive/Colab Notebooks/personal-tests/tesis/outputs/kfold_yolo_11/fold7/data_fold7.yaml\n",
            "✅ YAML generado: /content/drive/MyDrive/Colab Notebooks/personal-tests/tesis/outputs/kfold_yolo_11/fold8/data_fold8.yaml\n",
            "✅ YAML generado: /content/drive/MyDrive/Colab Notebooks/personal-tests/tesis/outputs/kfold_yolo_11/fold9/data_fold9.yaml\n"
          ]
        }
      ]
    },
    {
      "cell_type": "markdown",
      "source": [
        "Probar con los modelos del fold a ver cual da el mejor rsultado en el test externo. Promediar la curva de loss promedio de los folds. Hacer la prueba de wilcoxon, usar paquete de python. Tomar los promedios, el mejor promedio, pivot estadistico en map50, usar map50, precision y recall y el u-test para la tabla del wilcoxon. Del loss usar solo un grafico del mejor modelo.\n"
      ],
      "metadata": {
        "id": "XOjLbi4TAHnM"
      }
    },
    {
      "cell_type": "code",
      "source": [],
      "metadata": {
        "id": "juStggdnA32i"
      },
      "execution_count": null,
      "outputs": []
    }
  ],
  "metadata": {
    "accelerator": "GPU",
    "colab": {
      "gpuType": "L4",
      "machine_shape": "hm",
      "provenance": []
    },
    "kernelspec": {
      "display_name": "Python 3",
      "name": "python3"
    },
    "language_info": {
      "name": "python"
    }
  },
  "nbformat": 4,
  "nbformat_minor": 0
}