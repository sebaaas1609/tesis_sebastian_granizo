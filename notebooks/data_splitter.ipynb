{
  "cells": [
    {
      "cell_type": "code",
      "execution_count": null,
      "metadata": {
        "colab": {
          "base_uri": "https://localhost:8080/"
        },
        "id": "peFc5CUoZNB7",
        "outputId": "e6b034f9-dae5-4c9d-e192-d9dac4a52a8f"
      },
      "outputs": [
        {
          "name": "stdout",
          "output_type": "stream",
          "text": [
            "Split completado: 2029 en train, 434 en val, 436 en test.\n"
          ]
        }
      ],
      "source": [
        "import os\n",
        "import shutil\n",
        "import random\n",
        "\n",
        "# Definir las carpetas\n",
        "images_dir = '/content/drive/MyDrive/Colab Notebooks/personal-tests/tesis/data/images/train'  # Ruta a la carpeta con las imágenes\n",
        "labels_dir = '/content/drive/MyDrive/Colab Notebooks/personal-tests/tesis/data/labels/train'  # Ruta a la carpeta con los archivos .txt\n",
        "output_dir = '/content/drive/MyDrive/Colab Notebooks/personal-tests/tesis/data'  # Carpeta donde se crearán train, val, test\n",
        "\n",
        "# Crear las carpetas para train, val, test\n",
        "train_dir = os.path.join(output_dir, 'train')\n",
        "val_dir = os.path.join(output_dir, 'val')\n",
        "test_dir = os.path.join(output_dir, 'test')\n",
        "\n",
        "for dir in [train_dir, val_dir, test_dir]:\n",
        "    os.makedirs(os.path.join(dir, 'images'), exist_ok=True)\n",
        "    os.makedirs(os.path.join(dir, 'labels'), exist_ok=True)\n",
        "\n",
        "# Obtener los nombres de los archivos de imágenes con diferentes extensiones\n",
        "image_extensions = ('.jpg', '.jpeg', '.png')\n",
        "images = [f for f in os.listdir(images_dir) if f.lower().endswith(image_extensions)]\n",
        "\n",
        "# Mezclar los archivos aleatoriamente\n",
        "random.shuffle(images)\n",
        "\n",
        "# Definir los tamaños de los splits (70% train, 15% val, 15% test)\n",
        "train_split = int(len(images) * 0.7)\n",
        "val_split = int(len(images) * 0.15)\n",
        "\n",
        "# Dividir en entrenamiento, validación y prueba\n",
        "train_images = images[:train_split]\n",
        "val_images = images[train_split:train_split+val_split]\n",
        "test_images = images[train_split+val_split:]\n",
        "\n",
        "# Función para mover las imágenes y sus archivos .txt correspondientes\n",
        "def move_files(image_list, src_images_dir, src_labels_dir, dst_images_dir, dst_labels_dir):\n",
        "    for image in image_list:\n",
        "        # Mover imagen\n",
        "        shutil.move(os.path.join(src_images_dir, image), os.path.join(dst_images_dir, image))\n",
        "\n",
        "        # Mover archivo .txt correspondiente\n",
        "        label_file = os.path.splitext(image)[0] + '.txt'  # Mantiene el nombre, cambia la extensión a .txt\n",
        "        label_path = os.path.join(src_labels_dir, label_file)\n",
        "\n",
        "        if os.path.exists(label_path):  # Solo mover si existe el archivo .txt\n",
        "            shutil.move(label_path, os.path.join(dst_labels_dir, label_file))\n",
        "\n",
        "# Mover los archivos a sus respectivos directorios\n",
        "move_files(train_images, images_dir, labels_dir, os.path.join(train_dir, 'images'), os.path.join(train_dir, 'labels'))\n",
        "move_files(val_images, images_dir, labels_dir, os.path.join(val_dir, 'images'), os.path.join(val_dir, 'labels'))\n",
        "move_files(test_images, images_dir, labels_dir, os.path.join(test_dir, 'images'), os.path.join(test_dir, 'labels'))\n",
        "\n",
        "print(f'Split completado: {len(train_images)} en train, {len(val_images)} en val, {len(test_images)} en test.')\n"
      ]
    },
    {
      "cell_type": "markdown",
      "metadata": {},
      "source": [
        "Test on merged dataset, merged val and test for final metrics"
      ]
    },
    {
      "cell_type": "code",
      "execution_count": null,
      "metadata": {
        "id": "illVZ0AqZ_Er"
      },
      "outputs": [],
      "source": []
    }
  ],
  "metadata": {
    "colab": {
      "provenance": []
    },
    "kernelspec": {
      "display_name": "Python 3",
      "name": "python3"
    },
    "language_info": {
      "name": "python"
    }
  },
  "nbformat": 4,
  "nbformat_minor": 0
}
